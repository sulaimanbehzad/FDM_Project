{
 "cells": [
  {
   "cell_type": "markdown",
   "metadata": {},
   "source": [
    "# FDM\n",
    "## Assignment 1 - Preprocessing\n",
    "### *Mohammad Sulaiman Behzad (9622762453) & Fahim Jafari (9522762499)*"
   ]
  },
  {
   "cell_type": "markdown",
   "metadata": {},
   "source": [
    "Imports"
   ]
  },
  {
   "cell_type": "code",
   "execution_count": 134,
   "metadata": {},
   "outputs": [],
   "source": [
    "import pandas as pd                #library for load data and work with it easily\n",
    "import matplotlib.pyplot as plt\n",
    "%matplotlib inline\n",
    "from matplotlib.gridspec  import GridSpec\n",
    "import numpy as np\n",
    "\n",
    "import logging"
   ]
  },
  {
   "cell_type": "markdown",
   "metadata": {},
   "source": [
    "in this class we can load dataset into dataframes and with its methods visualize boxplot and table also can remove dataset"
   ]
  },
  {
   "cell_type": "code",
   "execution_count": 135,
   "metadata": {},
   "outputs": [],
   "source": [
    "class Data:\n",
    "\n",
    "    def __init__(self):\n",
    "        self.Usage = \"prepare or load data inot structres\"\n",
    "        self.data_frames = {}\n",
    "\n",
    "    #this module load datas into data frames pandas and returns it\n",
    "    def load_into_DFrames(self,data_list):\n",
    "        for data_name in data_list:\n",
    "            if data_list[data_name] == 'xlsx':\n",
    "                self.data_frames[data_name] = pd.read_excel(data_name+'.'+data_list[data_name])\n",
    "            elif data_list[data_name] == 'csv':\n",
    "                self.data_frames[data_name] = pd.read_csv(data_name+'.'+data_list[data_name])        \n",
    "        return self.data_frames\n",
    "\n",
    "    #this module remove multiple data frames from df_list ,usage for free up memory\n",
    "    def remove_from_DFrames(self,data_list):\n",
    "        for data_name in data_list:\n",
    "            self.data_frames.pop(data_name)\n",
    "\n",
    "    # this module plot boxplot for given attrs from data frame\n",
    "    def boxPlot(self,dataFrame,df_name,attrs,figsize=(10,10)):\n",
    "        height_layout = int(len(attrs)*3)                               #height for each attribute in one row       \n",
    "        fig = plt.figure(constrained_layout=True,figsize=figsize)       #create figure with specific size\n",
    "        gs = GridSpec(height_layout,2,figure=fig,wspace=0.025,hspace=0.05)                       #create gridspec for flexible layout in figure          \n",
    "        # iterate over each attribute and plots its boxplot and a table that contains important statical indexes\n",
    "        for i in range(0,len(attrs)):\n",
    "            pos_in_table = int(i*2)\n",
    "            #table\n",
    "            min_value,q1,mean,q3,max_value = dataFrame[attrs[i]].quantile([0,0.25,0.5,0.75,1])\n",
    "            ax11 = fig.add_subplot(gs[pos_in_table:pos_in_table+2,1])                     #create a subplot for table with favourite  \n",
    "            ax11.set_axis_off()                                            #remove axis of table subplot\n",
    "            # create data of table with two columns and 9 rows\n",
    "            data = [\n",
    "                ['attribute',attrs[i]],\n",
    "                ['type',''],\n",
    "                ['range',str(min_value)+'-\\n'+str(max_value)],\n",
    "                ['min',min_value],\n",
    "                ['max',max_value],\n",
    "                ['mean',mean],\n",
    "                ['mode',dataFrame[attrs[i]].mode()[0:min(3,len(dataFrame[attrs[i]].mode())) ].to_string()],\n",
    "                ['median',dataFrame[attrs[i]].median()],\n",
    "                ['outliers','']\n",
    "            ]\n",
    "            t1 = ax11.table(cellText=data,loc='center')\n",
    "            t1.scale(1,3)                                                  #scale the table with your own choice\n",
    "\n",
    "            #boxplot\n",
    "            ax1_top = fig.add_subplot(gs[pos_in_table,0])       #create a subplot for boxplot with favourite size\n",
    "            ax1_top.boxplot(dataFrame[attrs[i]], patch_artist=True)            # boxplot for specific attribute\n",
    "            ax1_down = fig.add_subplot(gs[pos_in_table+1,0])       #create a subplot for boxplot with favourite size\n",
    "            ax1_down.boxplot(dataFrame[attrs[i]], patch_artist=True)            # boxplot for specific attribute\n",
    "            ax1_top.set_ylim(q3+(2*(q3-q1)),1.2*max_value)\n",
    "            ax1_down.set_ylim(min_value-(mean-q1),q3+(2*(q3-q1)))\n",
    "            ax1_top.spines['bottom'].set_visible(False)\n",
    "            ax1_down.spines['top'].set_visible(False)\n",
    "\n",
    "            d = .015  # how big to make the diagonal lines in axes coordinates\n",
    "            # arguments to pass to plot, just so we don't keep repeating them\n",
    "            kwargs = dict(transform=ax1_top.transAxes, color='k', clip_on=False)\n",
    "            ax1_top.plot((-d, +d), (-d, +d), **kwargs)        # top-left diagonal\n",
    "            ax1_top.plot((1 - d, 1 + d), (-d, +d), **kwargs)  # top-right diagonal\n",
    "\n",
    "            kwargs.update(transform=ax1_down.transAxes)  # switch to the bottom axes\n",
    "            ax1_down.plot((-d, +d), (1 - d, 1 + d), **kwargs)  # bottom-left diagonal\n",
    "            ax1_down.plot((1 - d, 1 + d), (1 - d, 1 + d), **kwargs)  # bottom-right diagonal\n",
    "        gs.update(wspace=0,hspace=0)\n",
    "        fig.savefig(df_name+'/'+str(attrs))\n",
    "        plt.show()\n",
    "\n",
    "\n",
    "\n"
   ]
  },
  {
   "cell_type": "code",
   "execution_count": 136,
   "metadata": {},
   "outputs": [],
   "source": [
    "def box_plot_table(df_name,attributes):\n",
    "    for attr in attributes:\n",
    "        data.boxPlot(data_frames[df_name],df_name,[attr])\n"
   ]
  },
  {
   "cell_type": "markdown",
   "metadata": {},
   "source": [
    "# VALIDATION"
   ]
  },
  {
   "cell_type": "markdown",
   "metadata": {},
   "source": [
    "## understanding the data and performing some statistics "
   ]
  },
  {
   "cell_type": "markdown",
   "metadata": {},
   "source": [
    "### PRODUCT TABLE"
   ]
  },
  {
   "cell_type": "markdown",
   "metadata": {},
   "source": [
    "#### read product dataset"
   ]
  },
  {
   "cell_type": "code",
   "execution_count": 137,
   "metadata": {},
   "outputs": [
    {
     "data": {
      "text/html": [
       "<div>\n",
       "<style scoped>\n",
       "    .dataframe tbody tr th:only-of-type {\n",
       "        vertical-align: middle;\n",
       "    }\n",
       "\n",
       "    .dataframe tbody tr th {\n",
       "        vertical-align: top;\n",
       "    }\n",
       "\n",
       "    .dataframe thead th {\n",
       "        text-align: right;\n",
       "    }\n",
       "</style>\n",
       "<table border=\"1\" class=\"dataframe\">\n",
       "  <thead>\n",
       "    <tr style=\"text-align: right;\">\n",
       "      <th></th>\n",
       "      <th>id</th>\n",
       "      <th>product_title_fa</th>\n",
       "      <th>product_title_en</th>\n",
       "      <th>url_code</th>\n",
       "      <th>title_alt</th>\n",
       "      <th>category_title_fa</th>\n",
       "      <th>category_keywords</th>\n",
       "      <th>brand_name_fa</th>\n",
       "      <th>brand_name_en</th>\n",
       "      <th>product_attributes</th>\n",
       "    </tr>\n",
       "  </thead>\n",
       "  <tbody>\n",
       "    <tr>\n",
       "      <th>0</th>\n",
       "      <td>723302</td>\n",
       "      <td>ماگ حرارتی لومانا مدل عرفانه کد MAG1042</td>\n",
       "      <td>NaN</td>\n",
       "      <td>ماگ-حرارتی-لومانا-مدل-عرفانه-کد-mag1042</td>\n",
       "      <td>mug، لیوان ، ماگ ، فنجان ، لیوان دسته دار ، لومانا ، ماگ لومانا ، lomana ، lomana mug ، ئشل  ، سرامیک ، ماگ سرامیکی ، لیوان سرامیک</td>\n",
       "      <td>ماگ، لیوان و فنجان</td>\n",
       "      <td>ماگ، لیوان و فنجان CupandMug</td>\n",
       "      <td>لومانا</td>\n",
       "      <td>Lomana</td>\n",
       "      <td>[{\"Key\":\"وزن بسته‌بندی\",\"Value\":\"480\"},{\"Key\":\"جنس\",\"Value\":\"سرامیک\"},{\"Key\":\"ابعاد بسته‌بندی\",\"Value\":\"13 × 12 × 9\"},{\"Key\":\"ابعاد\",\"Value\":\"8 × 10\"},{\"Key\":\"در\"},{\"Key\":\"تعداد\",\"Value\":\"یک عدد\"}...</td>\n",
       "    </tr>\n",
       "    <tr>\n",
       "      <th>1</th>\n",
       "      <td>727089</td>\n",
       "      <td>ست آبکش و آبگیر تیتیز مدل AP-9141 سایز متوسط</td>\n",
       "      <td>NaN</td>\n",
       "      <td>ست-آبکش-و-آبگیر-تیتیز-مدل-ap-9141-سایز-متوسط</td>\n",
       "      <td>;hsi, steel, کاسه، کاسه بامبو، لگن، کالا خانه تهران، Basin, Tehran hg, Perani، آبکش، سرویس آبکش، آبکش و کاسه، پلاستیکی</td>\n",
       "      <td>آبکش و آبگیر</td>\n",
       "      <td>آبکش و آبگیر VirgoBasin</td>\n",
       "      <td>تیتیز</td>\n",
       "      <td>Titiz</td>\n",
       "      <td>[{\"Key\":\"دستگیره\",\"Value\":\"1 جفت\"},{\"Key\":\"نوع\",\"Value\":\"ست آبکش و آبگیر\"},{\"Key\":\"سایر توضیحات\",\"Value\":\"- دارای آبکش به قطر 24 و احتساب دسته 27 و ارتفاع 9 سانتی متر به وزن 119 گرم\\r\\n- دارای کاس...</td>\n",
       "    </tr>\n",
       "    <tr>\n",
       "      <th>2</th>\n",
       "      <td>727096</td>\n",
       "      <td>روغن مرطوب کننده کدلی مدل Divine oil حجم 50 میلی لیتر</td>\n",
       "      <td>NaN</td>\n",
       "      <td>روغن-مرطوب-کننده-کدلی-مدل-divine-oil-حجم-50-میلی-لیتر</td>\n",
       "      <td>NaN</td>\n",
       "      <td>روغن صورت</td>\n",
       "      <td>روغن صورت Face-Oil</td>\n",
       "      <td>کدلی</td>\n",
       "      <td>CAUDALIE</td>\n",
       "      <td>[{\"Key\":\"حجم\",\"Value\":\"50\"},{\"Key\":\"نوع عصاره\",\"Value\":\"حاوی روغن هسته انگور ارگانیک، روغن آرگان، روغن کنجد و شی باتر\"},{\"Key\":\"عصاره\",\"Value\":\"دارد\"},{\"Key\":\"ویژگی\",\"Value\":\"ضد چروک\"},{\"Key\":\"ویت...</td>\n",
       "    </tr>\n",
       "  </tbody>\n",
       "</table>\n",
       "</div>"
      ],
      "text/plain": [
       "       id                                       product_title_fa  \\\n",
       "0  723302                ماگ حرارتی لومانا مدل عرفانه کد MAG1042   \n",
       "1  727089           ست آبکش و آبگیر تیتیز مدل AP-9141 سایز متوسط   \n",
       "2  727096  روغن مرطوب کننده کدلی مدل Divine oil حجم 50 میلی لیتر   \n",
       "\n",
       "  product_title_en                                               url_code  \\\n",
       "0              NaN                ماگ-حرارتی-لومانا-مدل-عرفانه-کد-mag1042   \n",
       "1              NaN           ست-آبکش-و-آبگیر-تیتیز-مدل-ap-9141-سایز-متوسط   \n",
       "2              NaN  روغن-مرطوب-کننده-کدلی-مدل-divine-oil-حجم-50-میلی-لیتر   \n",
       "\n",
       "                                                                                                                            title_alt  \\\n",
       "0  mug، لیوان ، ماگ ، فنجان ، لیوان دسته دار ، لومانا ، ماگ لومانا ، lomana ، lomana mug ، ئشل  ، سرامیک ، ماگ سرامیکی ، لیوان سرامیک   \n",
       "1              ;hsi, steel, کاسه، کاسه بامبو، لگن، کالا خانه تهران، Basin, Tehran hg, Perani، آبکش، سرویس آبکش، آبکش و کاسه، پلاستیکی   \n",
       "2                                                                                                                                 NaN   \n",
       "\n",
       "    category_title_fa             category_keywords brand_name_fa  \\\n",
       "0  ماگ، لیوان و فنجان  ماگ، لیوان و فنجان CupandMug        لومانا   \n",
       "1        آبکش و آبگیر       آبکش و آبگیر VirgoBasin         تیتیز   \n",
       "2           روغن صورت            روغن صورت Face-Oil          کدلی   \n",
       "\n",
       "  brand_name_en  \\\n",
       "0        Lomana   \n",
       "1         Titiz   \n",
       "2      CAUDALIE   \n",
       "\n",
       "                                                                                                                                                                                        product_attributes  \n",
       "0  [{\"Key\":\"وزن بسته‌بندی\",\"Value\":\"480\"},{\"Key\":\"جنس\",\"Value\":\"سرامیک\"},{\"Key\":\"ابعاد بسته‌بندی\",\"Value\":\"13 × 12 × 9\"},{\"Key\":\"ابعاد\",\"Value\":\"8 × 10\"},{\"Key\":\"در\"},{\"Key\":\"تعداد\",\"Value\":\"یک عدد\"}...  \n",
       "1  [{\"Key\":\"دستگیره\",\"Value\":\"1 جفت\"},{\"Key\":\"نوع\",\"Value\":\"ست آبکش و آبگیر\"},{\"Key\":\"سایر توضیحات\",\"Value\":\"- دارای آبکش به قطر 24 و احتساب دسته 27 و ارتفاع 9 سانتی متر به وزن 119 گرم\\r\\n- دارای کاس...  \n",
       "2  [{\"Key\":\"حجم\",\"Value\":\"50\"},{\"Key\":\"نوع عصاره\",\"Value\":\"حاوی روغن هسته انگور ارگانیک، روغن آرگان، روغن کنجد و شی باتر\"},{\"Key\":\"عصاره\",\"Value\":\"دارد\"},{\"Key\":\"ویژگی\",\"Value\":\"ضد چروک\"},{\"Key\":\"ویت...  "
      ]
     },
     "execution_count": 137,
     "metadata": {},
     "output_type": "execute_result"
    }
   ],
   "source": [
    "data = Data()\n",
    "data_frames = data.load_into_DFrames({'product':'xlsx'})\n",
    "data_frames['product'].head(3)"
   ]
  },
  {
   "cell_type": "markdown",
   "metadata": {},
   "source": [
    "###### id"
   ]
  },
  {
   "cell_type": "code",
   "execution_count": 138,
   "metadata": {},
   "outputs": [
    {
     "data": {
      "image/png": "[encoded data removed]",
      "text/plain": [
       "<Figure size 720x720 with 5 Axes>"
      ]
     },
     "metadata": {
      "needs_background": "light"
     },
     "output_type": "display_data"
    }
   ],
   "source": [
    "attributes = ['id']\n",
    "box_plot_table('product',attributes)"
   ]
  },
  {
   "cell_type": "markdown",
   "metadata": {},
   "source": [
    "###### PRODUCT TITLE FA\n",
    "obtain the length of product title fa and visualize its boxplot"
   ]
  },
  {
   "cell_type": "code",
   "execution_count": 139,
   "metadata": {},
   "outputs": [
    {
     "data": {
      "image/png": "[encoded data removed]",
      "text/plain": [
       "<Figure size 720x720 with 5 Axes>"
      ]
     },
     "metadata": {
      "needs_background": "light"
     },
     "output_type": "display_data"
    }
   ],
   "source": [
    "products = data.data_frames['product']\n",
    "products['product_title_fa_length'] = products['product_title_fa'].str.len()\n",
    "attributes = ['product_title_fa_length']\n",
    "box_plot_table('product',attributes)"
   ]
  },
  {
   "cell_type": "code",
   "execution_count": 140,
   "metadata": {},
   "outputs": [
    {
     "name": "stdout",
     "output_type": "stream",
     "text": [
      "there are 27 values for product title fa that are not valid vlues \n",
      "there are 115 values for product title fa that are not corrcet \n",
      "percentage of not correct for product title fa : 0.00115\n",
      "percentage of not valid for product title fa : 0.00027\n"
     ]
    },
    {
     "data": {
      "text/html": [
       "<div>\n",
       "<style scoped>\n",
       "    .dataframe tbody tr th:only-of-type {\n",
       "        vertical-align: middle;\n",
       "    }\n",
       "\n",
       "    .dataframe tbody tr th {\n",
       "        vertical-align: top;\n",
       "    }\n",
       "\n",
       "    .dataframe thead th {\n",
       "        text-align: right;\n",
       "    }\n",
       "</style>\n",
       "<table border=\"1\" class=\"dataframe\">\n",
       "  <thead>\n",
       "    <tr style=\"text-align: right;\">\n",
       "      <th></th>\n",
       "      <th>id</th>\n",
       "      <th>product_title_fa</th>\n",
       "      <th>product_title_en</th>\n",
       "      <th>url_code</th>\n",
       "      <th>title_alt</th>\n",
       "      <th>category_title_fa</th>\n",
       "      <th>category_keywords</th>\n",
       "      <th>brand_name_fa</th>\n",
       "      <th>brand_name_en</th>\n",
       "      <th>product_attributes</th>\n",
       "      <th>product_title_fa_length</th>\n",
       "    </tr>\n",
       "  </thead>\n",
       "  <tbody>\n",
       "    <tr>\n",
       "      <th>4578</th>\n",
       "      <td>738970</td>\n",
       "      <td>جع\\</td>\n",
       "      <td>NaN</td>\n",
       "      <td>جع</td>\n",
       "      <td>جعبه،کمک اولیه،</td>\n",
       "      <td>جعبه کمک‌های اولیه</td>\n",
       "      <td>جعبه کمک‌های اولیه First-Aid-Kit</td>\n",
       "      <td>متفرقه</td>\n",
       "      <td>Miscellaneous</td>\n",
       "      <td>NaN</td>\n",
       "      <td>3</td>\n",
       "    </tr>\n",
       "    <tr>\n",
       "      <th>8222</th>\n",
       "      <td>815867</td>\n",
       "      <td>11</td>\n",
       "      <td>NaN</td>\n",
       "      <td>11</td>\n",
       "      <td>NaN</td>\n",
       "      <td>دفتر</td>\n",
       "      <td>دفتر Notebook</td>\n",
       "      <td>متفرقه</td>\n",
       "      <td>Miscellaneous</td>\n",
       "      <td>NaN</td>\n",
       "      <td>2</td>\n",
       "    </tr>\n",
       "    <tr>\n",
       "      <th>8362</th>\n",
       "      <td>781592</td>\n",
       "      <td>.</td>\n",
       "      <td>.</td>\n",
       "      <td>NaN</td>\n",
       "      <td>.</td>\n",
       "      <td>گروه کالاهای اشتباه</td>\n",
       "      <td>NaN</td>\n",
       "      <td>متفرقه</td>\n",
       "      <td>Miscellaneous</td>\n",
       "      <td>NaN</td>\n",
       "      <td>1</td>\n",
       "    </tr>\n",
       "    <tr>\n",
       "      <th>9184</th>\n",
       "      <td>785160</td>\n",
       "      <td>.</td>\n",
       "      <td>.</td>\n",
       "      <td>NaN</td>\n",
       "      <td>.</td>\n",
       "      <td>گروه کالاهای اشتباه</td>\n",
       "      <td>NaN</td>\n",
       "      <td>متفرقه</td>\n",
       "      <td>Miscellaneous</td>\n",
       "      <td>NaN</td>\n",
       "      <td>1</td>\n",
       "    </tr>\n",
       "    <tr>\n",
       "      <th>16601</th>\n",
       "      <td>781585</td>\n",
       "      <td>.</td>\n",
       "      <td>.</td>\n",
       "      <td>NaN</td>\n",
       "      <td>.</td>\n",
       "      <td>گروه کالاهای اشتباه</td>\n",
       "      <td>NaN</td>\n",
       "      <td>متفرقه</td>\n",
       "      <td>Miscellaneous</td>\n",
       "      <td>NaN</td>\n",
       "      <td>1</td>\n",
       "    </tr>\n",
       "  </tbody>\n",
       "</table>\n",
       "</div>"
      ],
      "text/plain": [
       "           id product_title_fa product_title_en url_code        title_alt  \\\n",
       "4578   738970              جع\\              NaN       جع  جعبه،کمک اولیه،   \n",
       "8222   815867               11              NaN       11              NaN   \n",
       "8362   781592                .                .      NaN                .   \n",
       "9184   785160                .                .      NaN                .   \n",
       "16601  781585                .                .      NaN                .   \n",
       "\n",
       "         category_title_fa                 category_keywords brand_name_fa  \\\n",
       "4578    جعبه کمک‌های اولیه  جعبه کمک‌های اولیه First-Aid-Kit        متفرقه   \n",
       "8222                  دفتر                     دفتر Notebook        متفرقه   \n",
       "8362   گروه کالاهای اشتباه                               NaN        متفرقه   \n",
       "9184   گروه کالاهای اشتباه                               NaN        متفرقه   \n",
       "16601  گروه کالاهای اشتباه                               NaN        متفرقه   \n",
       "\n",
       "       brand_name_en product_attributes  product_title_fa_length  \n",
       "4578   Miscellaneous                NaN                        3  \n",
       "8222   Miscellaneous                NaN                        2  \n",
       "8362   Miscellaneous                NaN                        1  \n",
       "9184   Miscellaneous                NaN                        1  \n",
       "16601  Miscellaneous                NaN                        1  "
      ]
     },
     "execution_count": 140,
     "metadata": {},
     "output_type": "execute_result"
    }
   ],
   "source": [
    "pd.options.display.max_colwidth = 200\n",
    "null_values_product_title_fa = products[(products['product_title_fa']==\"NaN\") ]     # missing values\n",
    "not_valid_product_title_fa = products[ (products['product_title_fa_length']<=3) ]   # not valid values\n",
    "not_correct_product_title_fa = products[ (products['product_title_fa_length']<=10) & (products['product_title_fa'].str.split().str.len() <= 1) ]    #not correct values\n",
    "print(\"there are {} values for product title fa that are not valid vlues \".format(len(not_valid_product_title_fa)))\n",
    "print(\"there are {} values for product title fa that are not corrcet \".format(len(not_correct_product_title_fa)))\n",
    "print(\"percentage of not correct for product title fa : {}\".format(len(not_correct_product_title_fa)/len(products)))   #calculate precentage of not correct\n",
    "print(\"percentage of not valid for product title fa : {}\".format(len(not_valid_product_title_fa)/len(products)))       #calculate precentage of not valid\n",
    "# logging the previous data that is printed\n",
    "logging.basicConfig(filename='product/info.log', level=logging.DEBUG)\n",
    "logging.info(\"there are {} values for product title fa that are not valid vlues \".format(len(not_valid_product_title_fa)))\n",
    "logging.info(\"there are {} values for product title fa that are not corrcet \".format(len(not_correct_product_title_fa)))\n",
    "logging.info(\"percentage of not correct for product title fa : {}\".format(len(not_correct_product_title_fa)/len(products)))\n",
    "logging.info(\"percentage of not valid for product title fa : {}\".format(len(not_valid_product_title_fa)/len(products)))\n",
    "not_valid_product_title_fa.head(5)"
   ]
  },
  {
   "cell_type": "markdown",
   "metadata": {},
   "source": [
    "###### set values that their length is smaller than 3 for validation\n",
    "###### set values that their length are smaller than 10 and are one word for correctness"
   ]
  },
  {
   "cell_type": "code",
   "execution_count": 141,
   "metadata": {
    "scrolled": true
   },
   "outputs": [
    {
     "data": {
      "text/html": [
       "<div>\n",
       "<style scoped>\n",
       "    .dataframe tbody tr th:only-of-type {\n",
       "        vertical-align: middle;\n",
       "    }\n",
       "\n",
       "    .dataframe tbody tr th {\n",
       "        vertical-align: top;\n",
       "    }\n",
       "\n",
       "    .dataframe thead th {\n",
       "        text-align: right;\n",
       "    }\n",
       "</style>\n",
       "<table border=\"1\" class=\"dataframe\">\n",
       "  <thead>\n",
       "    <tr style=\"text-align: right;\">\n",
       "      <th></th>\n",
       "      <th>id</th>\n",
       "      <th>product_title_fa</th>\n",
       "      <th>product_title_en</th>\n",
       "      <th>url_code</th>\n",
       "      <th>title_alt</th>\n",
       "      <th>category_title_fa</th>\n",
       "      <th>category_keywords</th>\n",
       "      <th>brand_name_fa</th>\n",
       "      <th>brand_name_en</th>\n",
       "      <th>product_attributes</th>\n",
       "      <th>product_title_fa_length</th>\n",
       "    </tr>\n",
       "  </thead>\n",
       "  <tbody>\n",
       "    <tr>\n",
       "      <th>84</th>\n",
       "      <td>723497</td>\n",
       "      <td>NaN</td>\n",
       "      <td>NaN</td>\n",
       "      <td>خراب</td>\n",
       "      <td>حوله استخری،حوله استخری چاپی، حوله استخری مردانه،حوله باشگاهی،حوله استخری مخمل</td>\n",
       "      <td>حوله</td>\n",
       "      <td>حوله Towel</td>\n",
       "      <td>متفرقه</td>\n",
       "      <td>Miscellaneous</td>\n",
       "      <td>[{\"Key\":\"سایر توضیحات\",\"Value\":\"بهتر است برای اولین بار و قبل از استفاده، حوله را یکبار بشوئید\\r\\nدر ماشین لباسشویی با آب حداکثر 30 درجه\\r\\nترجیحاً برای شستشو از پودر بدون آنزیم، صابون مایع و نرم‌...</td>\n",
       "      <td>4</td>\n",
       "    </tr>\n",
       "    <tr>\n",
       "      <th>101</th>\n",
       "      <td>723584</td>\n",
       "      <td>NaN</td>\n",
       "      <td>NaN</td>\n",
       "      <td>خراب</td>\n",
       "      <td>حوله استخری،حوله استخری چاپی، حوله استخری مردانه،حوله باشگاهی،حوله استخری مخمل</td>\n",
       "      <td>حوله</td>\n",
       "      <td>حوله Towel</td>\n",
       "      <td>متفرقه</td>\n",
       "      <td>Miscellaneous</td>\n",
       "      <td>[{\"Key\":\"سایر توضیحات\",\"Value\":\"بهتر است برای اولین بار و قبل از استفاده، حوله را یکبار بشوئید\\r\\nدر ماشین لباسشویی با آب حداکثر 30 درجه\\r\\nترجیحاً برای شستشو از پودر بدون آنزیم، صابون مایع و نرم‌...</td>\n",
       "      <td>4</td>\n",
       "    </tr>\n",
       "    <tr>\n",
       "      <th>189</th>\n",
       "      <td>723510</td>\n",
       "      <td>NaN</td>\n",
       "      <td>NaN</td>\n",
       "      <td>خراب</td>\n",
       "      <td>حوله استخری،حوله استخری چاپی، حوله استخری مردانه،حوله باشگاهی،حوله استخری مخمل</td>\n",
       "      <td>حوله</td>\n",
       "      <td>حوله Towel</td>\n",
       "      <td>متفرقه</td>\n",
       "      <td>Miscellaneous</td>\n",
       "      <td>[{\"Key\":\"نوع\",\"Value\":\"حوله استخری\"},{\"Key\":\"جیب\",\"Value\":\"ندارد\"},{\"Key\":\"سایر توضیحات\",\"Value\":\"بهتر است برای اولین بار و قبل از استفاده، حوله را یکبار بشوئید\\r\\nدر ماشین لباسشویی با آب حداکثر 3...</td>\n",
       "      <td>4</td>\n",
       "    </tr>\n",
       "    <tr>\n",
       "      <th>224</th>\n",
       "      <td>723411</td>\n",
       "      <td>NaN</td>\n",
       "      <td>NaN</td>\n",
       "      <td>خراب</td>\n",
       "      <td>حوله استخری،حوله استخری چاپی، حوله استخری مردانه،حوله باشگاهی،حوله استخری مخمل</td>\n",
       "      <td>حوله</td>\n",
       "      <td>حوله Towel</td>\n",
       "      <td>متفرقه</td>\n",
       "      <td>Miscellaneous</td>\n",
       "      <td>[{\"Key\":\"جیب\",\"Value\":\"ندارد\"},{\"Key\":\"وزن\",\"Value\":\"350\"},{\"Key\":\"ابعاد\",\"Value\":\"75x150\"},{\"Key\":\"سایر توضیحات\",\"Value\":\"بهتر است برای اولین بار و قبل از استفاده، حوله را یکبار بشوئید\\r\\nدر ماشی...</td>\n",
       "      <td>4</td>\n",
       "    </tr>\n",
       "    <tr>\n",
       "      <th>230</th>\n",
       "      <td>723585</td>\n",
       "      <td>NaN</td>\n",
       "      <td>NaN</td>\n",
       "      <td>خراب</td>\n",
       "      <td>حوله استخری،حوله استخری چاپی، حوله استخری مردانه،حوله باشگاهی،حوله استخری مخمل</td>\n",
       "      <td>حوله</td>\n",
       "      <td>حوله Towel</td>\n",
       "      <td>میکرولب</td>\n",
       "      <td>Microlab</td>\n",
       "      <td>[{\"Key\":\"سایز\",\"Value\":\"بزرگ\"},{\"Key\":\"تعداد تکه\",\"Value\":\"یک تکه\"},{\"Key\":\"سایر توضیحات\",\"Value\":\"بهتر است برای اولین بار و قبل از استفاده، حوله را یکبار بشوئید\\r\\nدر ماشین لباسشویی با آب حداکثر ...</td>\n",
       "      <td>4</td>\n",
       "    </tr>\n",
       "    <tr>\n",
       "      <th>299</th>\n",
       "      <td>723575</td>\n",
       "      <td>NaN</td>\n",
       "      <td>NaN</td>\n",
       "      <td>خراب</td>\n",
       "      <td>حوله استخری،حوله استخری چاپی، حوله استخری مردانه،حوله باشگاهی،حوله استخری مخمل</td>\n",
       "      <td>حوله</td>\n",
       "      <td>حوله Towel</td>\n",
       "      <td>متفرقه</td>\n",
       "      <td>Miscellaneous</td>\n",
       "      <td>[{\"Key\":\"جیب\",\"Value\":\"ندارد\"},{\"Key\":\"جنس\",\"Value\":\"پنبه\"},{\"Key\":\"نوع\",\"Value\":\"حوله استخری\"},{\"Key\":\"سایر توضیحات\",\"Value\":\"بهتر است برای اولین بار و قبل از استفاده، حوله را یکبار بشوئید\\r\\nدر ...</td>\n",
       "      <td>4</td>\n",
       "    </tr>\n",
       "    <tr>\n",
       "      <th>467</th>\n",
       "      <td>723507</td>\n",
       "      <td>NaN</td>\n",
       "      <td>NaN</td>\n",
       "      <td>خراب</td>\n",
       "      <td>حوله استخری،حوله استخری چاپی، حوله استخری مردانه،حوله باشگاهی،حوله استخری مخمل</td>\n",
       "      <td>حوله</td>\n",
       "      <td>حوله Towel</td>\n",
       "      <td>متفرقه</td>\n",
       "      <td>Miscellaneous</td>\n",
       "      <td>[{\"Key\":\"ابعاد\",\"Value\":\"75x150\"},{\"Key\":\"نوع\",\"Value\":\"حوله استخری\"},{\"Key\":\"تعداد تکه\",\"Value\":\"یک تکه\"},{\"Key\":\"تعداد جیب\",\"Value\":\"\"},{\"Key\":\"جیب\",\"Value\":\"ندارد\"},{\"Key\":\"سایز\",\"Value\":\"بزرگ\"...</td>\n",
       "      <td>4</td>\n",
       "    </tr>\n",
       "    <tr>\n",
       "      <th>612</th>\n",
       "      <td>723591</td>\n",
       "      <td>NaN</td>\n",
       "      <td>NaN</td>\n",
       "      <td>خراب</td>\n",
       "      <td>حوله استخری،حوله استخری چاپی، حوله استخری مردانه،حوله باشگاهی،حوله استخری مخمل</td>\n",
       "      <td>حوله</td>\n",
       "      <td>حوله Towel</td>\n",
       "      <td>متفرقه</td>\n",
       "      <td>Miscellaneous</td>\n",
       "      <td>[{\"Key\":\"تعداد تکه\",\"Value\":\"یک تکه\"},{\"Key\":\"وزن\",\"Value\":\"350\"},{\"Key\":\"سایر توضیحات\",\"Value\":\"بهتر است برای اولین بار و قبل از استفاده، حوله را یکبار بشوئید\\r\\nدر ماشین لباسشویی با آب حداکثر 30...</td>\n",
       "      <td>4</td>\n",
       "    </tr>\n",
       "    <tr>\n",
       "      <th>865</th>\n",
       "      <td>723514</td>\n",
       "      <td>NaN</td>\n",
       "      <td>NaN</td>\n",
       "      <td>خراب</td>\n",
       "      <td>حوله استخری،حوله استخری چاپی، حوله استخری مردانه،حوله باشگاهی،حوله استخری مخمل</td>\n",
       "      <td>حوله</td>\n",
       "      <td>حوله Towel</td>\n",
       "      <td>متفرقه</td>\n",
       "      <td>Miscellaneous</td>\n",
       "      <td>[{\"Key\":\"جنس\",\"Value\":\"پنبه\"},{\"Key\":\"تعداد تکه\",\"Value\":\"یک تکه\"},{\"Key\":\"نوع\",\"Value\":\"حوله استخری\"},{\"Key\":\"سایز\",\"Value\":\"بزرگ\"},{\"Key\":\"تعداد جیب\",\"Value\":\"\"},{\"Key\":\"جیب\",\"Value\":\"ندارد\"},{\"...</td>\n",
       "      <td>4</td>\n",
       "    </tr>\n",
       "    <tr>\n",
       "      <th>867</th>\n",
       "      <td>723516</td>\n",
       "      <td>NaN</td>\n",
       "      <td>NaN</td>\n",
       "      <td>خراب</td>\n",
       "      <td>حوله استخری،حوله استخری چاپی، حوله استخری مردانه،حوله باشگاهی،حوله استخری مخمل</td>\n",
       "      <td>حوله</td>\n",
       "      <td>حوله Towel</td>\n",
       "      <td>متفرقه</td>\n",
       "      <td>Miscellaneous</td>\n",
       "      <td>[{\"Key\":\"سایز\",\"Value\":\"بزرگ\"},{\"Key\":\"وزن\",\"Value\":\"350\"},{\"Key\":\"تعداد جیب\",\"Value\":\"\"},{\"Key\":\"سایر توضیحات\",\"Value\":\"بهتر است برای اولین بار و قبل از استفاده، حوله را یکبار بشوئید\\r\\nدر ماشین ...</td>\n",
       "      <td>4</td>\n",
       "    </tr>\n",
       "    <tr>\n",
       "      <th>875</th>\n",
       "      <td>723586</td>\n",
       "      <td>NaN</td>\n",
       "      <td>NaN</td>\n",
       "      <td>خراب</td>\n",
       "      <td>حوله استخری،حوله استخری چاپی، حوله استخری مردانه،حوله باشگاهی،حوله استخری مخمل</td>\n",
       "      <td>حوله</td>\n",
       "      <td>حوله Towel</td>\n",
       "      <td>متفرقه</td>\n",
       "      <td>Miscellaneous</td>\n",
       "      <td>[{\"Key\":\"جنس\",\"Value\":\"پنبه\"},{\"Key\":\"تعداد تکه\",\"Value\":\"یک تکه\"},{\"Key\":\"جیب\",\"Value\":\"ندارد\"},{\"Key\":\"نوع\",\"Value\":\"حوله استخری\"},{\"Key\":\"ابعاد\",\"Value\":\"75x150\"},{\"Key\":\"تعداد جیب\",\"Value\":\"\"}...</td>\n",
       "      <td>4</td>\n",
       "    </tr>\n",
       "    <tr>\n",
       "      <th>1139</th>\n",
       "      <td>723578</td>\n",
       "      <td>NaN</td>\n",
       "      <td>NaN</td>\n",
       "      <td>خراب</td>\n",
       "      <td>حوله استخری،حوله استخری چاپی، حوله استخری مردانه،حوله باشگاهی،حوله استخری مخمل</td>\n",
       "      <td>حوله</td>\n",
       "      <td>حوله Towel</td>\n",
       "      <td>متفرقه</td>\n",
       "      <td>Miscellaneous</td>\n",
       "      <td>[{\"Key\":\"نوع\",\"Value\":\"حوله استخری\"},{\"Key\":\"سایر توضیحات\",\"Value\":\"بهتر است برای اولین بار و قبل از استفاده، حوله را یکبار بشوئید\\r\\nدر ماشین لباسشویی با آب حداکثر 30 درجه\\r\\nترجیحاً برای شستشو ا...</td>\n",
       "      <td>4</td>\n",
       "    </tr>\n",
       "    <tr>\n",
       "      <th>1246</th>\n",
       "      <td>723509</td>\n",
       "      <td>NaN</td>\n",
       "      <td>NaN</td>\n",
       "      <td>خراب</td>\n",
       "      <td>حوله استخری،حوله استخری چاپی، حوله استخری مردانه،حوله باشگاهی،حوله استخری مخمل</td>\n",
       "      <td>حوله</td>\n",
       "      <td>حوله Towel</td>\n",
       "      <td>متفرقه</td>\n",
       "      <td>Miscellaneous</td>\n",
       "      <td>[{\"Key\":\"ابعاد\",\"Value\":\"75x150\"},{\"Key\":\"وزن\",\"Value\":\"350\"},{\"Key\":\"سایز\",\"Value\":\"بزرگ\"},{\"Key\":\"نوع\",\"Value\":\"حوله استخری\"},{\"Key\":\"جنس\",\"Value\":\"پنبه\"},{\"Key\":\"تعداد جیب\",\"Value\":\"\"},{\"Key\":\"...</td>\n",
       "      <td>4</td>\n",
       "    </tr>\n",
       "    <tr>\n",
       "      <th>1297</th>\n",
       "      <td>724571</td>\n",
       "      <td>NaN</td>\n",
       "      <td>NaN</td>\n",
       "      <td>sdfsdfsd</td>\n",
       "      <td>NaN</td>\n",
       "      <td>شال و روسری</td>\n",
       "      <td>شال و روسری shawls-scarves</td>\n",
       "      <td>امتک</td>\n",
       "      <td>Emtec</td>\n",
       "      <td>[{\"Key\":\"کشور مبدا برند\"},{\"Key\":\"سایر توضیحات\",\"Value\":\"\"},{\"Key\":\"جنس\",\"Value\":\"نخ\"},{\"Key\":\"فصل مناسب\",\"Value\":\"بهار\"},{\"Key\":\"زمینه\"},{\"Key\":\"ابعاد\",\"Value\":\"1\"},{\"Key\":\"قابل استفاده برای\",\"Va...</td>\n",
       "      <td>8</td>\n",
       "    </tr>\n",
       "    <tr>\n",
       "      <th>1314</th>\n",
       "      <td>723506</td>\n",
       "      <td>NaN</td>\n",
       "      <td>NaN</td>\n",
       "      <td>خراب</td>\n",
       "      <td>NaN</td>\n",
       "      <td>حوله</td>\n",
       "      <td>حوله Towel</td>\n",
       "      <td>متفرقه</td>\n",
       "      <td>Miscellaneous</td>\n",
       "      <td>[{\"Key\":\"ابعاد\",\"Value\":\"75x150\"},{\"Key\":\"نوع\",\"Value\":\"حوله استخری\"},{\"Key\":\"جنس\",\"Value\":\"پنبه\"},{\"Key\":\"سایز\",\"Value\":\"بزرگ\"},{\"Key\":\"تعداد تکه\",\"Value\":\"یک تکه\"},{\"Key\":\"وزن\",\"Value\":\"350\"},{\"...</td>\n",
       "      <td>4</td>\n",
       "    </tr>\n",
       "    <tr>\n",
       "      <th>1320</th>\n",
       "      <td>723503</td>\n",
       "      <td>NaN</td>\n",
       "      <td>NaN</td>\n",
       "      <td>خراب</td>\n",
       "      <td>حوله استخری،حوله استخری چاپی، حوله استخری مردانه،حوله باشگاهی،حوله استخری مخمل</td>\n",
       "      <td>حوله</td>\n",
       "      <td>حوله Towel</td>\n",
       "      <td>متفرقه</td>\n",
       "      <td>Miscellaneous</td>\n",
       "      <td>[{\"Key\":\"تعداد تکه\",\"Value\":\"یک تکه\"},{\"Key\":\"تعداد جیب\",\"Value\":\"\"},{\"Key\":\"ابعاد\",\"Value\":\"75x150\"},{\"Key\":\"نوع\",\"Value\":\"حوله استخری\"},{\"Key\":\"جنس\",\"Value\":\"پنبه\"},{\"Key\":\"وزن\",\"Value\":\"350\"},{...</td>\n",
       "      <td>4</td>\n",
       "    </tr>\n",
       "    <tr>\n",
       "      <th>1326</th>\n",
       "      <td>723278</td>\n",
       "      <td>NaN</td>\n",
       "      <td>NaN</td>\n",
       "      <td>temp</td>\n",
       "      <td>NaN</td>\n",
       "      <td>کوسن</td>\n",
       "      <td>کوسن Cushion</td>\n",
       "      <td>دیزوم</td>\n",
       "      <td>DZoom</td>\n",
       "      <td>[{\"Key\":\"ابعاد\",\"Value\":\"50*50\"},{\"Key\":\"سایر توضیحات\",\"Value\":\"\"},{\"Key\":\"قابلیت شست‌ و شو\",\"Value\":\"دارد\"},{\"Key\":\"فرم\",\"Value\":\"مربع\"},{\"Key\":\"وزن\",\"Value\":\"500\"},{\"Key\":\"جنس\",\"Value\":\"پارچه کت...</td>\n",
       "      <td>4</td>\n",
       "    </tr>\n",
       "    <tr>\n",
       "      <th>1380</th>\n",
       "      <td>723504</td>\n",
       "      <td>NaN</td>\n",
       "      <td>NaN</td>\n",
       "      <td>خراب</td>\n",
       "      <td>حوله استخری،حوله استخری چاپی، حوله استخری مردانه،حوله باشگاهی،حوله استخری مخمل</td>\n",
       "      <td>حوله</td>\n",
       "      <td>حوله Towel</td>\n",
       "      <td>متفرقه</td>\n",
       "      <td>Miscellaneous</td>\n",
       "      <td>[{\"Key\":\"ابعاد\",\"Value\":\"75x150\"},{\"Key\":\"تعداد تکه\",\"Value\":\"یک تکه\"},{\"Key\":\"تعداد جیب\",\"Value\":\"\"},{\"Key\":\"وزن\",\"Value\":\"350\"},{\"Key\":\"نوع\",\"Value\":\"حوله استخری\"},{\"Key\":\"جنس\",\"Value\":\"پنبه\"},{...</td>\n",
       "      <td>4</td>\n",
       "    </tr>\n",
       "    <tr>\n",
       "      <th>1795</th>\n",
       "      <td>723489</td>\n",
       "      <td>NaN</td>\n",
       "      <td>NaN</td>\n",
       "      <td>خراب</td>\n",
       "      <td>حوله استخری،حوله استخری چاپی، حوله استخری مردانه،حوله باشگاهی،حوله استخری مخمل</td>\n",
       "      <td>حوله</td>\n",
       "      <td>حوله Towel</td>\n",
       "      <td>متفرقه</td>\n",
       "      <td>Miscellaneous</td>\n",
       "      <td>[{\"Key\":\"نوع\",\"Value\":\"حوله استخری\"},{\"Key\":\"سایر توضیحات\",\"Value\":\"بهتر است برای اولین بار و قبل از استفاده، حوله را یکبار بشوئید\\r\\nدر ماشین لباسشویی با آب حداکثر 30 درجه\\r\\nترجیحاً برای شستشو ا...</td>\n",
       "      <td>4</td>\n",
       "    </tr>\n",
       "    <tr>\n",
       "      <th>1914</th>\n",
       "      <td>723589</td>\n",
       "      <td>NaN</td>\n",
       "      <td>NaN</td>\n",
       "      <td>خراب</td>\n",
       "      <td>حوله استخری،حوله استخری چاپی، حوله استخری مردانه،حوله باشگاهی،حوله استخری مخمل</td>\n",
       "      <td>حوله</td>\n",
       "      <td>حوله Towel</td>\n",
       "      <td>متفرقه</td>\n",
       "      <td>Miscellaneous</td>\n",
       "      <td>[{\"Key\":\"تعداد جیب\",\"Value\":\"\"},{\"Key\":\"نوع\",\"Value\":\"حوله استخری\"},{\"Key\":\"وزن\",\"Value\":\"350\"},{\"Key\":\"سایر توضیحات\",\"Value\":\"بهتر است برای اولین بار و قبل از استفاده، حوله را یکبار بشوئید\\r\\nدر ...</td>\n",
       "      <td>4</td>\n",
       "    </tr>\n",
       "    <tr>\n",
       "      <th>1957</th>\n",
       "      <td>723582</td>\n",
       "      <td>NaN</td>\n",
       "      <td>NaN</td>\n",
       "      <td>خراب</td>\n",
       "      <td>حوله استخری،حوله استخری چاپی، حوله استخری مردانه،حوله باشگاهی،حوله استخری مخمل</td>\n",
       "      <td>حوله</td>\n",
       "      <td>حوله Towel</td>\n",
       "      <td>متفرقه</td>\n",
       "      <td>Miscellaneous</td>\n",
       "      <td>[{\"Key\":\"نوع\",\"Value\":\"حوله استخری\"},{\"Key\":\"ابعاد\",\"Value\":\"75x150\"},{\"Key\":\"جیب\",\"Value\":\"ندارد\"},{\"Key\":\"تعداد تکه\",\"Value\":\"یک تکه\"},{\"Key\":\"سایز\",\"Value\":\"بزرگ\"},{\"Key\":\"تعداد جیب\",\"Value\":\"\"...</td>\n",
       "      <td>4</td>\n",
       "    </tr>\n",
       "    <tr>\n",
       "      <th>2027</th>\n",
       "      <td>723579</td>\n",
       "      <td>NaN</td>\n",
       "      <td>NaN</td>\n",
       "      <td>خراب</td>\n",
       "      <td>حوله استخری،حوله استخری چاپی، حوله استخری مردانه،حوله باشگاهی،حوله استخری مخمل</td>\n",
       "      <td>حوله</td>\n",
       "      <td>حوله Towel</td>\n",
       "      <td>متفرقه</td>\n",
       "      <td>Miscellaneous</td>\n",
       "      <td>[{\"Key\":\"جنس\",\"Value\":\"پنبه\"},{\"Key\":\"تعداد جیب\",\"Value\":\"\"},{\"Key\":\"ابعاد\",\"Value\":\"75x150\"},{\"Key\":\"نوع\",\"Value\":\"حوله استخری\"},{\"Key\":\"جیب\",\"Value\":\"ندارد\"},{\"Key\":\"سایز\",\"Value\":\"بزرگ\"},{\"Key\"...</td>\n",
       "      <td>4</td>\n",
       "    </tr>\n",
       "    <tr>\n",
       "      <th>2054</th>\n",
       "      <td>723581</td>\n",
       "      <td>NaN</td>\n",
       "      <td>NaN</td>\n",
       "      <td>خراب</td>\n",
       "      <td>حوله استخری،حوله استخری چاپی، حوله استخری مردانه،حوله باشگاهی،حوله استخری مخمل</td>\n",
       "      <td>حوله</td>\n",
       "      <td>حوله Towel</td>\n",
       "      <td>متفرقه</td>\n",
       "      <td>Miscellaneous</td>\n",
       "      <td>[{\"Key\":\"سایر توضیحات\",\"Value\":\"بهتر است برای اولین بار و قبل از استفاده، حوله را یکبار بشوئید\\r\\nدر ماشین لباسشویی با آب حداکثر 30 درجه\\r\\nترجیحاً برای شستشو از پودر بدون آنزیم، صابون مایع و نرم‌...</td>\n",
       "      <td>4</td>\n",
       "    </tr>\n",
       "    <tr>\n",
       "      <th>2303</th>\n",
       "      <td>723382</td>\n",
       "      <td>NaN</td>\n",
       "      <td>NaN</td>\n",
       "      <td>خراب</td>\n",
       "      <td>حوله استخری،حوله استخری چاپی، حوله استخری مردانه،حوله باشگاهی،حوله استخری مخمل</td>\n",
       "      <td>حوله</td>\n",
       "      <td>حوله Towel</td>\n",
       "      <td>متفرقه</td>\n",
       "      <td>Miscellaneous</td>\n",
       "      <td>[{\"Key\":\"سایر توضیحات\",\"Value\":\"بهتر است برای اولین بار و قبل از استفاده، حوله را یکبار بشوئید\\r\\nدر ماشین لباسشویی با آب حداکثر 30 درجه\\r\\nترجیحاً برای شستشو از پودر بدون آنزیم، صابون مایع و نرم‌...</td>\n",
       "      <td>4</td>\n",
       "    </tr>\n",
       "    <tr>\n",
       "      <th>2486</th>\n",
       "      <td>723500</td>\n",
       "      <td>NaN</td>\n",
       "      <td>NaN</td>\n",
       "      <td>خراب</td>\n",
       "      <td>حوله استخری،حوله استخری چاپی، حوله استخری مردانه،حوله باشگاهی،حوله استخری مخمل</td>\n",
       "      <td>حوله</td>\n",
       "      <td>حوله Towel</td>\n",
       "      <td>متفرقه</td>\n",
       "      <td>Miscellaneous</td>\n",
       "      <td>[{\"Key\":\"نوع\",\"Value\":\"حوله استخری\"},{\"Key\":\"جنس\",\"Value\":\"پنبه\"},{\"Key\":\"ابعاد\",\"Value\":\"75x150\"},{\"Key\":\"سایز\",\"Value\":\"بزرگ\"},{\"Key\":\"جیب\",\"Value\":\"ندارد\"},{\"Key\":\"تعداد تکه\",\"Value\":\"یک تکه\"},...</td>\n",
       "      <td>4</td>\n",
       "    </tr>\n",
       "    <tr>\n",
       "      <th>2488</th>\n",
       "      <td>723413</td>\n",
       "      <td>NaN</td>\n",
       "      <td>NaN</td>\n",
       "      <td>خراب</td>\n",
       "      <td>حوله استخری،حوله استخری چاپی، حوله استخری مردانه،حوله باشگاهی،حوله استخری مخمل</td>\n",
       "      <td>حوله</td>\n",
       "      <td>حوله Towel</td>\n",
       "      <td>متفرقه</td>\n",
       "      <td>Miscellaneous</td>\n",
       "      <td>[{\"Key\":\"وزن\",\"Value\":\"350\"},{\"Key\":\"تعداد جیب\",\"Value\":\"\"},{\"Key\":\"نوع\",\"Value\":\"حوله استخری\"},{\"Key\":\"ابعاد\",\"Value\":\"75x150\"},{\"Key\":\"سایر توضیحات\",\"Value\":\"بهتر است برای اولین بار و قبل از است...</td>\n",
       "      <td>4</td>\n",
       "    </tr>\n",
       "    <tr>\n",
       "      <th>2659</th>\n",
       "      <td>723493</td>\n",
       "      <td>NaN</td>\n",
       "      <td>NaN</td>\n",
       "      <td>خراب</td>\n",
       "      <td>حوله استخری،حوله استخری چاپی، حوله استخری مردانه،حوله باشگاهی،حوله استخری مخمل</td>\n",
       "      <td>حوله</td>\n",
       "      <td>حوله Towel</td>\n",
       "      <td>متفرقه</td>\n",
       "      <td>Miscellaneous</td>\n",
       "      <td>[{\"Key\":\"جیب\",\"Value\":\"ندارد\"},{\"Key\":\"ابعاد\",\"Value\":\"75x150\"},{\"Key\":\"تعداد تکه\",\"Value\":\"یک تکه\"},{\"Key\":\"سایز\",\"Value\":\"بزرگ\"},{\"Key\":\"تعداد جیب\",\"Value\":\"\"},{\"Key\":\"نوع\",\"Value\":\"حوله استخری\"...</td>\n",
       "      <td>4</td>\n",
       "    </tr>\n",
       "    <tr>\n",
       "      <th>2766</th>\n",
       "      <td>723513</td>\n",
       "      <td>NaN</td>\n",
       "      <td>NaN</td>\n",
       "      <td>خراب</td>\n",
       "      <td>حوله استخری،حوله استخری چاپی، حوله استخری مردانه،حوله باشگاهی،حوله استخری مخمل</td>\n",
       "      <td>حوله</td>\n",
       "      <td>حوله Towel</td>\n",
       "      <td>متفرقه</td>\n",
       "      <td>Miscellaneous</td>\n",
       "      <td>[{\"Key\":\"تعداد تکه\",\"Value\":\"یک تکه\"},{\"Key\":\"تعداد جیب\",\"Value\":\"\"},{\"Key\":\"جیب\",\"Value\":\"ندارد\"},{\"Key\":\"سایر توضیحات\",\"Value\":\"بهتر است برای اولین بار و قبل از استفاده، حوله را یکبار بشوئید\\r\\n...</td>\n",
       "      <td>4</td>\n",
       "    </tr>\n",
       "    <tr>\n",
       "      <th>2926</th>\n",
       "      <td>723587</td>\n",
       "      <td>NaN</td>\n",
       "      <td>NaN</td>\n",
       "      <td>خراب</td>\n",
       "      <td>حوله استخری،حوله استخری چاپی، حوله استخری مردانه،حوله باشگاهی،حوله استخری مخمل</td>\n",
       "      <td>حوله</td>\n",
       "      <td>حوله Towel</td>\n",
       "      <td>متفرقه</td>\n",
       "      <td>Miscellaneous</td>\n",
       "      <td>[{\"Key\":\"جیب\",\"Value\":\"ندارد\"},{\"Key\":\"جنس\",\"Value\":\"پنبه\"},{\"Key\":\"تعداد تکه\",\"Value\":\"یک تکه\"},{\"Key\":\"نوع\",\"Value\":\"حوله استخری\"},{\"Key\":\"ابعاد\",\"Value\":\"75x150\"},{\"Key\":\"سایر توضیحات\",\"Value\":...</td>\n",
       "      <td>4</td>\n",
       "    </tr>\n",
       "    <tr>\n",
       "      <th>3003</th>\n",
       "      <td>723412</td>\n",
       "      <td>NaN</td>\n",
       "      <td>NaN</td>\n",
       "      <td>خراب</td>\n",
       "      <td>حوله استخری،حوله استخری چاپی، حوله استخری مردانه،حوله باشگاهی،حوله استخری مخمل</td>\n",
       "      <td>حوله</td>\n",
       "      <td>حوله Towel</td>\n",
       "      <td>متفرقه</td>\n",
       "      <td>Miscellaneous</td>\n",
       "      <td>[{\"Key\":\"تعداد جیب\",\"Value\":\"\"},{\"Key\":\"تعداد تکه\",\"Value\":\"یک تکه\"},{\"Key\":\"سایز\",\"Value\":\"بزرگ\"},{\"Key\":\"سایر توضیحات\",\"Value\":\"بهتر است برای اولین بار و قبل از استفاده، حوله را یکبار بشوئید\\r\\n...</td>\n",
       "      <td>4</td>\n",
       "    </tr>\n",
       "    <tr>\n",
       "      <th>3167</th>\n",
       "      <td>725425</td>\n",
       "      <td>دیباگ عکس</td>\n",
       "      <td>NaN</td>\n",
       "      <td>دیباگ-عکس</td>\n",
       "      <td>NaN</td>\n",
       "      <td>انبر</td>\n",
       "      <td>انبر Pliers</td>\n",
       "      <td>سونی</td>\n",
       "      <td>Sony</td>\n",
       "      <td>NaN</td>\n",
       "      <td>9</td>\n",
       "    </tr>\n",
       "    <tr>\n",
       "      <th>3170</th>\n",
       "      <td>822442</td>\n",
       "      <td>بست روکا</td>\n",
       "      <td>NaN</td>\n",
       "      <td>بست-روکا</td>\n",
       "      <td>NaN</td>\n",
       "      <td>پیچ و مهره، رول پلاک، میخ و پرچ</td>\n",
       "      <td>پیچ و مهره، رول پلاک، میخ و پرچ screwandnutsanchoranstrud</td>\n",
       "      <td>متفرقه</td>\n",
       "      <td>Miscellaneous</td>\n",
       "      <td>NaN</td>\n",
       "      <td>8</td>\n",
       "    </tr>\n",
       "    <tr>\n",
       "      <th>3912</th>\n",
       "      <td>783331</td>\n",
       "      <td>آینه سنتی</td>\n",
       "      <td>NaN</td>\n",
       "      <td>آینه-سنتی</td>\n",
       "      <td>آینه خارجی دکوراتیو طلایی ،  جنس پی وی سی ، رنگ ثابت  قابل شستشو  . کادویی هدیه</td>\n",
       "      <td>آینه</td>\n",
       "      <td>آینه Decorative-Mirror</td>\n",
       "      <td>متفرقه</td>\n",
       "      <td>Miscellaneous</td>\n",
       "      <td>NaN</td>\n",
       "      <td>9</td>\n",
       "    </tr>\n",
       "    <tr>\n",
       "      <th>4445</th>\n",
       "      <td>816574</td>\n",
       "      <td>چتر طرح 1</td>\n",
       "      <td>NaN</td>\n",
       "      <td>چتر-طرح-1</td>\n",
       "      <td>خرید چتر,چتر مسافرتی,چتر دو نفره,چتر خانوادگی</td>\n",
       "      <td>چتر</td>\n",
       "      <td>چتر Umbrella-1</td>\n",
       "      <td>متفرقه</td>\n",
       "      <td>Miscellaneous</td>\n",
       "      <td>NaN</td>\n",
       "      <td>9</td>\n",
       "    </tr>\n",
       "    <tr>\n",
       "      <th>4578</th>\n",
       "      <td>738970</td>\n",
       "      <td>NaN</td>\n",
       "      <td>NaN</td>\n",
       "      <td>جع</td>\n",
       "      <td>جعبه،کمک اولیه،</td>\n",
       "      <td>جعبه کمک‌های اولیه</td>\n",
       "      <td>جعبه کمک‌های اولیه First-Aid-Kit</td>\n",
       "      <td>متفرقه</td>\n",
       "      <td>Miscellaneous</td>\n",
       "      <td>NaN</td>\n",
       "      <td>3</td>\n",
       "    </tr>\n",
       "    <tr>\n",
       "      <th>5006</th>\n",
       "      <td>743905</td>\n",
       "      <td>NaN</td>\n",
       "      <td>NaN</td>\n",
       "      <td>سبدچندکاره</td>\n",
       "      <td>سبدچندکاره.سبدنان.سبددکوری.اشپزخانه.اتاق خواب.اپن.تزیینی.تریکو.بافت.هنری.</td>\n",
       "      <td>ملزومات بافتنی</td>\n",
       "      <td>ملزومات بافتنی Knitting-Accessories</td>\n",
       "      <td>متفرقه</td>\n",
       "      <td>Miscellaneous</td>\n",
       "      <td>NaN</td>\n",
       "      <td>10</td>\n",
       "    </tr>\n",
       "    <tr>\n",
       "      <th>5973</th>\n",
       "      <td>774944</td>\n",
       "      <td>NaN</td>\n",
       "      <td>asdsad</td>\n",
       "      <td>انگلیسی</td>\n",
       "      <td>محصول</td>\n",
       "      <td>هندزفری</td>\n",
       "      <td>هندزفری Handsfree</td>\n",
       "      <td>اپل</td>\n",
       "      <td>Apple</td>\n",
       "      <td>NaN</td>\n",
       "      <td>7</td>\n",
       "    </tr>\n",
       "    <tr>\n",
       "      <th>6080</th>\n",
       "      <td>738276</td>\n",
       "      <td>NaN</td>\n",
       "      <td>NaN</td>\n",
       "      <td>خرااب</td>\n",
       "      <td>حوله، ست حوله ، هدیه، سرویس حوله ،سرویس حوله عروس، ست سونا، سرویس حوله استخر، ست لوازم جانبی سونا، ست سونا زنانه،هدیه</td>\n",
       "      <td>حوله</td>\n",
       "      <td>حوله Towel</td>\n",
       "      <td>متفرقه</td>\n",
       "      <td>Miscellaneous</td>\n",
       "      <td>NaN</td>\n",
       "      <td>5</td>\n",
       "    </tr>\n",
       "    <tr>\n",
       "      <th>6164</th>\n",
       "      <td>746434</td>\n",
       "      <td>NaN</td>\n",
       "      <td>test1</td>\n",
       "      <td>تست1</td>\n",
       "      <td>عنواوین دیگر1</td>\n",
       "      <td>ترازو</td>\n",
       "      <td>ترازو  Digital-Scale</td>\n",
       "      <td>متفرقه</td>\n",
       "      <td>Miscellaneous</td>\n",
       "      <td>NaN</td>\n",
       "      <td>4</td>\n",
       "    </tr>\n",
       "    <tr>\n",
       "      <th>6778</th>\n",
       "      <td>823159</td>\n",
       "      <td>تابلو شاسی</td>\n",
       "      <td>NaN</td>\n",
       "      <td>تابلو-شاسی</td>\n",
       "      <td>NaN</td>\n",
       "      <td>بازی</td>\n",
       "      <td>بازی Game</td>\n",
       "      <td>پاوربیس</td>\n",
       "      <td>PowerBase</td>\n",
       "      <td>NaN</td>\n",
       "      <td>10</td>\n",
       "    </tr>\n",
       "    <tr>\n",
       "      <th>6838</th>\n",
       "      <td>777377</td>\n",
       "      <td>زیر تلفنی</td>\n",
       "      <td>NaN</td>\n",
       "      <td>زیر-تلفنی</td>\n",
       "      <td>رومیزی / زیر تلفنی / قشقایی / فرش شیراز</td>\n",
       "      <td>پادری</td>\n",
       "      <td>پادری Pastor</td>\n",
       "      <td>متفرقه</td>\n",
       "      <td>Miscellaneous</td>\n",
       "      <td>NaN</td>\n",
       "      <td>10</td>\n",
       "    </tr>\n",
       "    <tr>\n",
       "      <th>8222</th>\n",
       "      <td>815867</td>\n",
       "      <td>NaN</td>\n",
       "      <td>NaN</td>\n",
       "      <td>11</td>\n",
       "      <td>NaN</td>\n",
       "      <td>دفتر</td>\n",
       "      <td>دفتر Notebook</td>\n",
       "      <td>متفرقه</td>\n",
       "      <td>Miscellaneous</td>\n",
       "      <td>NaN</td>\n",
       "      <td>2</td>\n",
       "    </tr>\n",
       "    <tr>\n",
       "      <th>8362</th>\n",
       "      <td>781592</td>\n",
       "      <td>NaN</td>\n",
       "      <td>.</td>\n",
       "      <td>NaN</td>\n",
       "      <td>.</td>\n",
       "      <td>گروه کالاهای اشتباه</td>\n",
       "      <td>NaN</td>\n",
       "      <td>متفرقه</td>\n",
       "      <td>Miscellaneous</td>\n",
       "      <td>NaN</td>\n",
       "      <td>1</td>\n",
       "    </tr>\n",
       "    <tr>\n",
       "      <th>8688</th>\n",
       "      <td>790261</td>\n",
       "      <td>پک سلامت</td>\n",
       "      <td>NaN</td>\n",
       "      <td>پک-سلامت</td>\n",
       "      <td>پک سلامت هرباسان شامل یک بسته دمنوش لاغری و یک بسته چای سبز</td>\n",
       "      <td>لوازم جانبی و مصرفی نوشیدنی‌ساز</td>\n",
       "      <td>لوازم جانبی و مصرفی نوشیدنی‌ساز Beverage-Maker-Accessories</td>\n",
       "      <td>هرباسان</td>\n",
       "      <td>Herbasun</td>\n",
       "      <td>NaN</td>\n",
       "      <td>9</td>\n",
       "    </tr>\n",
       "    <tr>\n",
       "      <th>9184</th>\n",
       "      <td>785160</td>\n",
       "      <td>NaN</td>\n",
       "      <td>.</td>\n",
       "      <td>NaN</td>\n",
       "      <td>.</td>\n",
       "      <td>گروه کالاهای اشتباه</td>\n",
       "      <td>NaN</td>\n",
       "      <td>متفرقه</td>\n",
       "      <td>Miscellaneous</td>\n",
       "      <td>NaN</td>\n",
       "      <td>1</td>\n",
       "    </tr>\n",
       "    <tr>\n",
       "      <th>9758</th>\n",
       "      <td>755349</td>\n",
       "      <td>ساعت معرق</td>\n",
       "      <td>NaN</td>\n",
       "      <td>ساعت-معرق</td>\n",
       "      <td>تابلو،قاب،ساعت</td>\n",
       "      <td>ساعت های تزئینی</td>\n",
       "      <td>ساعت های تزئینی Clocks</td>\n",
       "      <td>متفرقه</td>\n",
       "      <td>Miscellaneous</td>\n",
       "      <td>NaN</td>\n",
       "      <td>9</td>\n",
       "    </tr>\n",
       "    <tr>\n",
       "      <th>10987</th>\n",
       "      <td>810019</td>\n",
       "      <td>NaN</td>\n",
       "      <td>pictorial rug</td>\n",
       "      <td>تابلوفرش</td>\n",
       "      <td>تابلوفرش حضرت محمد</td>\n",
       "      <td>تابلو فرش</td>\n",
       "      <td>تابلو فرش Pictorial-Carpet</td>\n",
       "      <td>شاهکار شفق تبریز</td>\n",
       "      <td>Shahkar Shafaghe Tabriz</td>\n",
       "      <td>NaN</td>\n",
       "      <td>8</td>\n",
       "    </tr>\n",
       "    <tr>\n",
       "      <th>11358</th>\n",
       "      <td>765525</td>\n",
       "      <td>NaN</td>\n",
       "      <td>NaN</td>\n",
       "      <td>یسبیسب</td>\n",
       "      <td>NaN</td>\n",
       "      <td>تابلو شاسی</td>\n",
       "      <td>تابلو شاسی Chassis</td>\n",
       "      <td>متفرقه</td>\n",
       "      <td>Miscellaneous</td>\n",
       "      <td>NaN</td>\n",
       "      <td>6</td>\n",
       "    </tr>\n",
       "    <tr>\n",
       "      <th>11537</th>\n",
       "      <td>763560</td>\n",
       "      <td>لاک ناخن</td>\n",
       "      <td>Moonlight 392 Nail Polish</td>\n",
       "      <td>لاک-ناخن</td>\n",
       "      <td>NaN</td>\n",
       "      <td>لاک ناخن</td>\n",
       "      <td>لاک ناخن Nail-Polish</td>\n",
       "      <td>مونلایت</td>\n",
       "      <td>Moonlight</td>\n",
       "      <td>NaN</td>\n",
       "      <td>9</td>\n",
       "    </tr>\n",
       "    <tr>\n",
       "      <th>11548</th>\n",
       "      <td>828469</td>\n",
       "      <td>NaN</td>\n",
       "      <td>CARTIER CR010</td>\n",
       "      <td>کارتیر</td>\n",
       "      <td>NaN</td>\n",
       "      <td>دستبند</td>\n",
       "      <td>دستبند Bracelets</td>\n",
       "      <td>کارتیه</td>\n",
       "      <td>Cartier</td>\n",
       "      <td>NaN</td>\n",
       "      <td>6</td>\n",
       "    </tr>\n",
       "  </tbody>\n",
       "</table>\n",
       "</div>"
      ],
      "text/plain": [
       "           id product_title_fa           product_title_en    url_code  \\\n",
       "84     723497              NaN                        NaN        خراب   \n",
       "101    723584              NaN                        NaN        خراب   \n",
       "189    723510              NaN                        NaN        خراب   \n",
       "224    723411              NaN                        NaN        خراب   \n",
       "230    723585              NaN                        NaN        خراب   \n",
       "299    723575              NaN                        NaN        خراب   \n",
       "467    723507              NaN                        NaN        خراب   \n",
       "612    723591              NaN                        NaN        خراب   \n",
       "865    723514              NaN                        NaN        خراب   \n",
       "867    723516              NaN                        NaN        خراب   \n",
       "875    723586              NaN                        NaN        خراب   \n",
       "1139   723578              NaN                        NaN        خراب   \n",
       "1246   723509              NaN                        NaN        خراب   \n",
       "1297   724571              NaN                        NaN    sdfsdfsd   \n",
       "1314   723506              NaN                        NaN        خراب   \n",
       "1320   723503              NaN                        NaN        خراب   \n",
       "1326   723278              NaN                        NaN        temp   \n",
       "1380   723504              NaN                        NaN        خراب   \n",
       "1795   723489              NaN                        NaN        خراب   \n",
       "1914   723589              NaN                        NaN        خراب   \n",
       "1957   723582              NaN                        NaN        خراب   \n",
       "2027   723579              NaN                        NaN        خراب   \n",
       "2054   723581              NaN                        NaN        خراب   \n",
       "2303   723382              NaN                        NaN        خراب   \n",
       "2486   723500              NaN                        NaN        خراب   \n",
       "2488   723413              NaN                        NaN        خراب   \n",
       "2659   723493              NaN                        NaN        خراب   \n",
       "2766   723513              NaN                        NaN        خراب   \n",
       "2926   723587              NaN                        NaN        خراب   \n",
       "3003   723412              NaN                        NaN        خراب   \n",
       "3167   725425        دیباگ عکس                        NaN   دیباگ-عکس   \n",
       "3170   822442         بست روکا                        NaN    بست-روکا   \n",
       "3912   783331        آینه سنتی                        NaN   آینه-سنتی   \n",
       "4445   816574        چتر طرح 1                        NaN   چتر-طرح-1   \n",
       "4578   738970              NaN                        NaN          جع   \n",
       "5006   743905              NaN                        NaN  سبدچندکاره   \n",
       "5973   774944              NaN                     asdsad     انگلیسی   \n",
       "6080   738276              NaN                        NaN       خرااب   \n",
       "6164   746434              NaN                      test1        تست1   \n",
       "6778   823159       تابلو شاسی                        NaN  تابلو-شاسی   \n",
       "6838   777377       زیر تلفنی                         NaN   زیر-تلفنی   \n",
       "8222   815867              NaN                        NaN          11   \n",
       "8362   781592              NaN                          .         NaN   \n",
       "8688   790261        پک سلامت                         NaN    پک-سلامت   \n",
       "9184   785160              NaN                          .         NaN   \n",
       "9758   755349        ساعت معرق                        NaN   ساعت-معرق   \n",
       "10987  810019              NaN              pictorial rug    تابلوفرش   \n",
       "11358  765525              NaN                        NaN      یسبیسب   \n",
       "11537  763560        لاک ناخن   Moonlight 392 Nail Polish    لاک-ناخن   \n",
       "11548  828469              NaN              CARTIER CR010      کارتیر   \n",
       "\n",
       "                                                                                                                   title_alt  \\\n",
       "84                                            حوله استخری،حوله استخری چاپی، حوله استخری مردانه،حوله باشگاهی،حوله استخری مخمل   \n",
       "101                                           حوله استخری،حوله استخری چاپی، حوله استخری مردانه،حوله باشگاهی،حوله استخری مخمل   \n",
       "189                                           حوله استخری،حوله استخری چاپی، حوله استخری مردانه،حوله باشگاهی،حوله استخری مخمل   \n",
       "224                                           حوله استخری،حوله استخری چاپی، حوله استخری مردانه،حوله باشگاهی،حوله استخری مخمل   \n",
       "230                                           حوله استخری،حوله استخری چاپی، حوله استخری مردانه،حوله باشگاهی،حوله استخری مخمل   \n",
       "299                                           حوله استخری،حوله استخری چاپی، حوله استخری مردانه،حوله باشگاهی،حوله استخری مخمل   \n",
       "467                                           حوله استخری،حوله استخری چاپی، حوله استخری مردانه،حوله باشگاهی،حوله استخری مخمل   \n",
       "612                                           حوله استخری،حوله استخری چاپی، حوله استخری مردانه،حوله باشگاهی،حوله استخری مخمل   \n",
       "865                                           حوله استخری،حوله استخری چاپی، حوله استخری مردانه،حوله باشگاهی،حوله استخری مخمل   \n",
       "867                                           حوله استخری،حوله استخری چاپی، حوله استخری مردانه،حوله باشگاهی،حوله استخری مخمل   \n",
       "875                                           حوله استخری،حوله استخری چاپی، حوله استخری مردانه،حوله باشگاهی،حوله استخری مخمل   \n",
       "1139                                          حوله استخری،حوله استخری چاپی، حوله استخری مردانه،حوله باشگاهی،حوله استخری مخمل   \n",
       "1246                                          حوله استخری،حوله استخری چاپی، حوله استخری مردانه،حوله باشگاهی،حوله استخری مخمل   \n",
       "1297                                                                                                                     NaN   \n",
       "1314                                                                                                                     NaN   \n",
       "1320                                          حوله استخری،حوله استخری چاپی، حوله استخری مردانه،حوله باشگاهی،حوله استخری مخمل   \n",
       "1326                                                                                                                     NaN   \n",
       "1380                                          حوله استخری،حوله استخری چاپی، حوله استخری مردانه،حوله باشگاهی،حوله استخری مخمل   \n",
       "1795                                          حوله استخری،حوله استخری چاپی، حوله استخری مردانه،حوله باشگاهی،حوله استخری مخمل   \n",
       "1914                                          حوله استخری،حوله استخری چاپی، حوله استخری مردانه،حوله باشگاهی،حوله استخری مخمل   \n",
       "1957                                          حوله استخری،حوله استخری چاپی، حوله استخری مردانه،حوله باشگاهی،حوله استخری مخمل   \n",
       "2027                                          حوله استخری،حوله استخری چاپی، حوله استخری مردانه،حوله باشگاهی،حوله استخری مخمل   \n",
       "2054                                          حوله استخری،حوله استخری چاپی، حوله استخری مردانه،حوله باشگاهی،حوله استخری مخمل   \n",
       "2303                                          حوله استخری،حوله استخری چاپی، حوله استخری مردانه،حوله باشگاهی،حوله استخری مخمل   \n",
       "2486                                          حوله استخری،حوله استخری چاپی، حوله استخری مردانه،حوله باشگاهی،حوله استخری مخمل   \n",
       "2488                                          حوله استخری،حوله استخری چاپی، حوله استخری مردانه،حوله باشگاهی،حوله استخری مخمل   \n",
       "2659                                          حوله استخری،حوله استخری چاپی، حوله استخری مردانه،حوله باشگاهی،حوله استخری مخمل   \n",
       "2766                                          حوله استخری،حوله استخری چاپی، حوله استخری مردانه،حوله باشگاهی،حوله استخری مخمل   \n",
       "2926                                          حوله استخری،حوله استخری چاپی، حوله استخری مردانه،حوله باشگاهی،حوله استخری مخمل   \n",
       "3003                                          حوله استخری،حوله استخری چاپی، حوله استخری مردانه،حوله باشگاهی،حوله استخری مخمل   \n",
       "3167                                                                                                                     NaN   \n",
       "3170                                                                                                                     NaN   \n",
       "3912                                         آینه خارجی دکوراتیو طلایی ،  جنس پی وی سی ، رنگ ثابت  قابل شستشو  . کادویی هدیه   \n",
       "4445                                                                           خرید چتر,چتر مسافرتی,چتر دو نفره,چتر خانوادگی   \n",
       "4578                                                                                                         جعبه،کمک اولیه،   \n",
       "5006                                               سبدچندکاره.سبدنان.سبددکوری.اشپزخانه.اتاق خواب.اپن.تزیینی.تریکو.بافت.هنری.   \n",
       "5973                                                                                                                   محصول   \n",
       "6080   حوله، ست حوله ، هدیه، سرویس حوله ،سرویس حوله عروس، ست سونا، سرویس حوله استخر، ست لوازم جانبی سونا، ست سونا زنانه،هدیه   \n",
       "6164                                                                                                           عنواوین دیگر1   \n",
       "6778                                                                                                                     NaN   \n",
       "6838                                                                                 رومیزی / زیر تلفنی / قشقایی / فرش شیراز   \n",
       "8222                                                                                                                     NaN   \n",
       "8362                                                                                                                       .   \n",
       "8688                                                             پک سلامت هرباسان شامل یک بسته دمنوش لاغری و یک بسته چای سبز   \n",
       "9184                                                                                                                       .   \n",
       "9758                                                                                                          تابلو،قاب،ساعت   \n",
       "10987                                                                                                    تابلوفرش حضرت محمد    \n",
       "11358                                                                                                                    NaN   \n",
       "11537                                                                                                                    NaN   \n",
       "11548                                                                                                                    NaN   \n",
       "\n",
       "                     category_title_fa  \\\n",
       "84                                حوله   \n",
       "101                               حوله   \n",
       "189                               حوله   \n",
       "224                               حوله   \n",
       "230                               حوله   \n",
       "299                               حوله   \n",
       "467                               حوله   \n",
       "612                               حوله   \n",
       "865                               حوله   \n",
       "867                               حوله   \n",
       "875                               حوله   \n",
       "1139                              حوله   \n",
       "1246                              حوله   \n",
       "1297                       شال و روسری   \n",
       "1314                              حوله   \n",
       "1320                              حوله   \n",
       "1326                              کوسن   \n",
       "1380                              حوله   \n",
       "1795                              حوله   \n",
       "1914                              حوله   \n",
       "1957                              حوله   \n",
       "2027                              حوله   \n",
       "2054                              حوله   \n",
       "2303                              حوله   \n",
       "2486                              حوله   \n",
       "2488                              حوله   \n",
       "2659                              حوله   \n",
       "2766                              حوله   \n",
       "2926                              حوله   \n",
       "3003                              حوله   \n",
       "3167                              انبر   \n",
       "3170   پیچ و مهره، رول پلاک، میخ و پرچ   \n",
       "3912                              آینه   \n",
       "4445                               چتر   \n",
       "4578                جعبه کمک‌های اولیه   \n",
       "5006                    ملزومات بافتنی   \n",
       "5973                           هندزفری   \n",
       "6080                              حوله   \n",
       "6164                             ترازو   \n",
       "6778                              بازی   \n",
       "6838                             پادری   \n",
       "8222                              دفتر   \n",
       "8362               گروه کالاهای اشتباه   \n",
       "8688   لوازم جانبی و مصرفی نوشیدنی‌ساز   \n",
       "9184               گروه کالاهای اشتباه   \n",
       "9758                   ساعت های تزئینی   \n",
       "10987                        تابلو فرش   \n",
       "11358                       تابلو شاسی   \n",
       "11537                         لاک ناخن   \n",
       "11548                           دستبند   \n",
       "\n",
       "                                                category_keywords  \\\n",
       "84                                                     حوله Towel   \n",
       "101                                                    حوله Towel   \n",
       "189                                                    حوله Towel   \n",
       "224                                                    حوله Towel   \n",
       "230                                                    حوله Towel   \n",
       "299                                                    حوله Towel   \n",
       "467                                                    حوله Towel   \n",
       "612                                                    حوله Towel   \n",
       "865                                                    حوله Towel   \n",
       "867                                                    حوله Towel   \n",
       "875                                                    حوله Towel   \n",
       "1139                                                   حوله Towel   \n",
       "1246                                                   حوله Towel   \n",
       "1297                                   شال و روسری shawls-scarves   \n",
       "1314                                                   حوله Towel   \n",
       "1320                                                   حوله Towel   \n",
       "1326                                                 کوسن Cushion   \n",
       "1380                                                   حوله Towel   \n",
       "1795                                                   حوله Towel   \n",
       "1914                                                   حوله Towel   \n",
       "1957                                                   حوله Towel   \n",
       "2027                                                   حوله Towel   \n",
       "2054                                                   حوله Towel   \n",
       "2303                                                   حوله Towel   \n",
       "2486                                                   حوله Towel   \n",
       "2488                                                   حوله Towel   \n",
       "2659                                                   حوله Towel   \n",
       "2766                                                   حوله Towel   \n",
       "2926                                                   حوله Towel   \n",
       "3003                                                   حوله Towel   \n",
       "3167                                                  انبر Pliers   \n",
       "3170    پیچ و مهره، رول پلاک، میخ و پرچ screwandnutsanchoranstrud   \n",
       "3912                                       آینه Decorative-Mirror   \n",
       "4445                                               چتر Umbrella-1   \n",
       "4578                             جعبه کمک‌های اولیه First-Aid-Kit   \n",
       "5006                          ملزومات بافتنی Knitting-Accessories   \n",
       "5973                                            هندزفری Handsfree   \n",
       "6080                                                   حوله Towel   \n",
       "6164                                         ترازو  Digital-Scale   \n",
       "6778                                                    بازی Game   \n",
       "6838                                                 پادری Pastor   \n",
       "8222                                                دفتر Notebook   \n",
       "8362                                                          NaN   \n",
       "8688   لوازم جانبی و مصرفی نوشیدنی‌ساز Beverage-Maker-Accessories   \n",
       "9184                                                          NaN   \n",
       "9758                                       ساعت های تزئینی Clocks   \n",
       "10987                                  تابلو فرش Pictorial-Carpet   \n",
       "11358                                          تابلو شاسی Chassis   \n",
       "11537                                        لاک ناخن Nail-Polish   \n",
       "11548                                            دستبند Bracelets   \n",
       "\n",
       "          brand_name_fa            brand_name_en  \\\n",
       "84               متفرقه            Miscellaneous   \n",
       "101              متفرقه            Miscellaneous   \n",
       "189              متفرقه            Miscellaneous   \n",
       "224              متفرقه            Miscellaneous   \n",
       "230             میکرولب                 Microlab   \n",
       "299              متفرقه            Miscellaneous   \n",
       "467              متفرقه            Miscellaneous   \n",
       "612              متفرقه            Miscellaneous   \n",
       "865              متفرقه            Miscellaneous   \n",
       "867              متفرقه            Miscellaneous   \n",
       "875              متفرقه            Miscellaneous   \n",
       "1139             متفرقه            Miscellaneous   \n",
       "1246             متفرقه            Miscellaneous   \n",
       "1297               امتک                    Emtec   \n",
       "1314             متفرقه            Miscellaneous   \n",
       "1320             متفرقه            Miscellaneous   \n",
       "1326              دیزوم                    DZoom   \n",
       "1380             متفرقه            Miscellaneous   \n",
       "1795             متفرقه            Miscellaneous   \n",
       "1914             متفرقه            Miscellaneous   \n",
       "1957             متفرقه            Miscellaneous   \n",
       "2027             متفرقه            Miscellaneous   \n",
       "2054             متفرقه            Miscellaneous   \n",
       "2303             متفرقه            Miscellaneous   \n",
       "2486             متفرقه            Miscellaneous   \n",
       "2488             متفرقه            Miscellaneous   \n",
       "2659             متفرقه            Miscellaneous   \n",
       "2766             متفرقه            Miscellaneous   \n",
       "2926             متفرقه            Miscellaneous   \n",
       "3003             متفرقه            Miscellaneous   \n",
       "3167               سونی                     Sony   \n",
       "3170             متفرقه            Miscellaneous   \n",
       "3912             متفرقه            Miscellaneous   \n",
       "4445             متفرقه            Miscellaneous   \n",
       "4578             متفرقه            Miscellaneous   \n",
       "5006             متفرقه            Miscellaneous   \n",
       "5973                اپل                    Apple   \n",
       "6080             متفرقه            Miscellaneous   \n",
       "6164             متفرقه            Miscellaneous   \n",
       "6778            پاوربیس                PowerBase   \n",
       "6838             متفرقه            Miscellaneous   \n",
       "8222             متفرقه            Miscellaneous   \n",
       "8362             متفرقه            Miscellaneous   \n",
       "8688            هرباسان                 Herbasun   \n",
       "9184             متفرقه            Miscellaneous   \n",
       "9758             متفرقه            Miscellaneous   \n",
       "10987  شاهکار شفق تبریز  Shahkar Shafaghe Tabriz   \n",
       "11358            متفرقه            Miscellaneous   \n",
       "11537           مونلایت                Moonlight   \n",
       "11548            کارتیه                  Cartier   \n",
       "\n",
       "                                                                                                                                                                                            product_attributes  \\\n",
       "84     [{\"Key\":\"سایر توضیحات\",\"Value\":\"بهتر است برای اولین بار و قبل از استفاده، حوله را یکبار بشوئید\\r\\nدر ماشین لباسشویی با آب حداکثر 30 درجه\\r\\nترجیحاً برای شستشو از پودر بدون آنزیم، صابون مایع و نرم‌...   \n",
       "101    [{\"Key\":\"سایر توضیحات\",\"Value\":\"بهتر است برای اولین بار و قبل از استفاده، حوله را یکبار بشوئید\\r\\nدر ماشین لباسشویی با آب حداکثر 30 درجه\\r\\nترجیحاً برای شستشو از پودر بدون آنزیم، صابون مایع و نرم‌...   \n",
       "189    [{\"Key\":\"نوع\",\"Value\":\"حوله استخری\"},{\"Key\":\"جیب\",\"Value\":\"ندارد\"},{\"Key\":\"سایر توضیحات\",\"Value\":\"بهتر است برای اولین بار و قبل از استفاده، حوله را یکبار بشوئید\\r\\nدر ماشین لباسشویی با آب حداکثر 3...   \n",
       "224    [{\"Key\":\"جیب\",\"Value\":\"ندارد\"},{\"Key\":\"وزن\",\"Value\":\"350\"},{\"Key\":\"ابعاد\",\"Value\":\"75x150\"},{\"Key\":\"سایر توضیحات\",\"Value\":\"بهتر است برای اولین بار و قبل از استفاده، حوله را یکبار بشوئید\\r\\nدر ماشی...   \n",
       "230    [{\"Key\":\"سایز\",\"Value\":\"بزرگ\"},{\"Key\":\"تعداد تکه\",\"Value\":\"یک تکه\"},{\"Key\":\"سایر توضیحات\",\"Value\":\"بهتر است برای اولین بار و قبل از استفاده، حوله را یکبار بشوئید\\r\\nدر ماشین لباسشویی با آب حداکثر ...   \n",
       "299    [{\"Key\":\"جیب\",\"Value\":\"ندارد\"},{\"Key\":\"جنس\",\"Value\":\"پنبه\"},{\"Key\":\"نوع\",\"Value\":\"حوله استخری\"},{\"Key\":\"سایر توضیحات\",\"Value\":\"بهتر است برای اولین بار و قبل از استفاده، حوله را یکبار بشوئید\\r\\nدر ...   \n",
       "467    [{\"Key\":\"ابعاد\",\"Value\":\"75x150\"},{\"Key\":\"نوع\",\"Value\":\"حوله استخری\"},{\"Key\":\"تعداد تکه\",\"Value\":\"یک تکه\"},{\"Key\":\"تعداد جیب\",\"Value\":\"\"},{\"Key\":\"جیب\",\"Value\":\"ندارد\"},{\"Key\":\"سایز\",\"Value\":\"بزرگ\"...   \n",
       "612    [{\"Key\":\"تعداد تکه\",\"Value\":\"یک تکه\"},{\"Key\":\"وزن\",\"Value\":\"350\"},{\"Key\":\"سایر توضیحات\",\"Value\":\"بهتر است برای اولین بار و قبل از استفاده، حوله را یکبار بشوئید\\r\\nدر ماشین لباسشویی با آب حداکثر 30...   \n",
       "865    [{\"Key\":\"جنس\",\"Value\":\"پنبه\"},{\"Key\":\"تعداد تکه\",\"Value\":\"یک تکه\"},{\"Key\":\"نوع\",\"Value\":\"حوله استخری\"},{\"Key\":\"سایز\",\"Value\":\"بزرگ\"},{\"Key\":\"تعداد جیب\",\"Value\":\"\"},{\"Key\":\"جیب\",\"Value\":\"ندارد\"},{\"...   \n",
       "867    [{\"Key\":\"سایز\",\"Value\":\"بزرگ\"},{\"Key\":\"وزن\",\"Value\":\"350\"},{\"Key\":\"تعداد جیب\",\"Value\":\"\"},{\"Key\":\"سایر توضیحات\",\"Value\":\"بهتر است برای اولین بار و قبل از استفاده، حوله را یکبار بشوئید\\r\\nدر ماشین ...   \n",
       "875    [{\"Key\":\"جنس\",\"Value\":\"پنبه\"},{\"Key\":\"تعداد تکه\",\"Value\":\"یک تکه\"},{\"Key\":\"جیب\",\"Value\":\"ندارد\"},{\"Key\":\"نوع\",\"Value\":\"حوله استخری\"},{\"Key\":\"ابعاد\",\"Value\":\"75x150\"},{\"Key\":\"تعداد جیب\",\"Value\":\"\"}...   \n",
       "1139   [{\"Key\":\"نوع\",\"Value\":\"حوله استخری\"},{\"Key\":\"سایر توضیحات\",\"Value\":\"بهتر است برای اولین بار و قبل از استفاده، حوله را یکبار بشوئید\\r\\nدر ماشین لباسشویی با آب حداکثر 30 درجه\\r\\nترجیحاً برای شستشو ا...   \n",
       "1246   [{\"Key\":\"ابعاد\",\"Value\":\"75x150\"},{\"Key\":\"وزن\",\"Value\":\"350\"},{\"Key\":\"سایز\",\"Value\":\"بزرگ\"},{\"Key\":\"نوع\",\"Value\":\"حوله استخری\"},{\"Key\":\"جنس\",\"Value\":\"پنبه\"},{\"Key\":\"تعداد جیب\",\"Value\":\"\"},{\"Key\":\"...   \n",
       "1297   [{\"Key\":\"کشور مبدا برند\"},{\"Key\":\"سایر توضیحات\",\"Value\":\"\"},{\"Key\":\"جنس\",\"Value\":\"نخ\"},{\"Key\":\"فصل مناسب\",\"Value\":\"بهار\"},{\"Key\":\"زمینه\"},{\"Key\":\"ابعاد\",\"Value\":\"1\"},{\"Key\":\"قابل استفاده برای\",\"Va...   \n",
       "1314   [{\"Key\":\"ابعاد\",\"Value\":\"75x150\"},{\"Key\":\"نوع\",\"Value\":\"حوله استخری\"},{\"Key\":\"جنس\",\"Value\":\"پنبه\"},{\"Key\":\"سایز\",\"Value\":\"بزرگ\"},{\"Key\":\"تعداد تکه\",\"Value\":\"یک تکه\"},{\"Key\":\"وزن\",\"Value\":\"350\"},{\"...   \n",
       "1320   [{\"Key\":\"تعداد تکه\",\"Value\":\"یک تکه\"},{\"Key\":\"تعداد جیب\",\"Value\":\"\"},{\"Key\":\"ابعاد\",\"Value\":\"75x150\"},{\"Key\":\"نوع\",\"Value\":\"حوله استخری\"},{\"Key\":\"جنس\",\"Value\":\"پنبه\"},{\"Key\":\"وزن\",\"Value\":\"350\"},{...   \n",
       "1326   [{\"Key\":\"ابعاد\",\"Value\":\"50*50\"},{\"Key\":\"سایر توضیحات\",\"Value\":\"\"},{\"Key\":\"قابلیت شست‌ و شو\",\"Value\":\"دارد\"},{\"Key\":\"فرم\",\"Value\":\"مربع\"},{\"Key\":\"وزن\",\"Value\":\"500\"},{\"Key\":\"جنس\",\"Value\":\"پارچه کت...   \n",
       "1380   [{\"Key\":\"ابعاد\",\"Value\":\"75x150\"},{\"Key\":\"تعداد تکه\",\"Value\":\"یک تکه\"},{\"Key\":\"تعداد جیب\",\"Value\":\"\"},{\"Key\":\"وزن\",\"Value\":\"350\"},{\"Key\":\"نوع\",\"Value\":\"حوله استخری\"},{\"Key\":\"جنس\",\"Value\":\"پنبه\"},{...   \n",
       "1795   [{\"Key\":\"نوع\",\"Value\":\"حوله استخری\"},{\"Key\":\"سایر توضیحات\",\"Value\":\"بهتر است برای اولین بار و قبل از استفاده، حوله را یکبار بشوئید\\r\\nدر ماشین لباسشویی با آب حداکثر 30 درجه\\r\\nترجیحاً برای شستشو ا...   \n",
       "1914   [{\"Key\":\"تعداد جیب\",\"Value\":\"\"},{\"Key\":\"نوع\",\"Value\":\"حوله استخری\"},{\"Key\":\"وزن\",\"Value\":\"350\"},{\"Key\":\"سایر توضیحات\",\"Value\":\"بهتر است برای اولین بار و قبل از استفاده، حوله را یکبار بشوئید\\r\\nدر ...   \n",
       "1957   [{\"Key\":\"نوع\",\"Value\":\"حوله استخری\"},{\"Key\":\"ابعاد\",\"Value\":\"75x150\"},{\"Key\":\"جیب\",\"Value\":\"ندارد\"},{\"Key\":\"تعداد تکه\",\"Value\":\"یک تکه\"},{\"Key\":\"سایز\",\"Value\":\"بزرگ\"},{\"Key\":\"تعداد جیب\",\"Value\":\"\"...   \n",
       "2027   [{\"Key\":\"جنس\",\"Value\":\"پنبه\"},{\"Key\":\"تعداد جیب\",\"Value\":\"\"},{\"Key\":\"ابعاد\",\"Value\":\"75x150\"},{\"Key\":\"نوع\",\"Value\":\"حوله استخری\"},{\"Key\":\"جیب\",\"Value\":\"ندارد\"},{\"Key\":\"سایز\",\"Value\":\"بزرگ\"},{\"Key\"...   \n",
       "2054   [{\"Key\":\"سایر توضیحات\",\"Value\":\"بهتر است برای اولین بار و قبل از استفاده، حوله را یکبار بشوئید\\r\\nدر ماشین لباسشویی با آب حداکثر 30 درجه\\r\\nترجیحاً برای شستشو از پودر بدون آنزیم، صابون مایع و نرم‌...   \n",
       "2303   [{\"Key\":\"سایر توضیحات\",\"Value\":\"بهتر است برای اولین بار و قبل از استفاده، حوله را یکبار بشوئید\\r\\nدر ماشین لباسشویی با آب حداکثر 30 درجه\\r\\nترجیحاً برای شستشو از پودر بدون آنزیم، صابون مایع و نرم‌...   \n",
       "2486   [{\"Key\":\"نوع\",\"Value\":\"حوله استخری\"},{\"Key\":\"جنس\",\"Value\":\"پنبه\"},{\"Key\":\"ابعاد\",\"Value\":\"75x150\"},{\"Key\":\"سایز\",\"Value\":\"بزرگ\"},{\"Key\":\"جیب\",\"Value\":\"ندارد\"},{\"Key\":\"تعداد تکه\",\"Value\":\"یک تکه\"},...   \n",
       "2488   [{\"Key\":\"وزن\",\"Value\":\"350\"},{\"Key\":\"تعداد جیب\",\"Value\":\"\"},{\"Key\":\"نوع\",\"Value\":\"حوله استخری\"},{\"Key\":\"ابعاد\",\"Value\":\"75x150\"},{\"Key\":\"سایر توضیحات\",\"Value\":\"بهتر است برای اولین بار و قبل از است...   \n",
       "2659   [{\"Key\":\"جیب\",\"Value\":\"ندارد\"},{\"Key\":\"ابعاد\",\"Value\":\"75x150\"},{\"Key\":\"تعداد تکه\",\"Value\":\"یک تکه\"},{\"Key\":\"سایز\",\"Value\":\"بزرگ\"},{\"Key\":\"تعداد جیب\",\"Value\":\"\"},{\"Key\":\"نوع\",\"Value\":\"حوله استخری\"...   \n",
       "2766   [{\"Key\":\"تعداد تکه\",\"Value\":\"یک تکه\"},{\"Key\":\"تعداد جیب\",\"Value\":\"\"},{\"Key\":\"جیب\",\"Value\":\"ندارد\"},{\"Key\":\"سایر توضیحات\",\"Value\":\"بهتر است برای اولین بار و قبل از استفاده، حوله را یکبار بشوئید\\r\\n...   \n",
       "2926   [{\"Key\":\"جیب\",\"Value\":\"ندارد\"},{\"Key\":\"جنس\",\"Value\":\"پنبه\"},{\"Key\":\"تعداد تکه\",\"Value\":\"یک تکه\"},{\"Key\":\"نوع\",\"Value\":\"حوله استخری\"},{\"Key\":\"ابعاد\",\"Value\":\"75x150\"},{\"Key\":\"سایر توضیحات\",\"Value\":...   \n",
       "3003   [{\"Key\":\"تعداد جیب\",\"Value\":\"\"},{\"Key\":\"تعداد تکه\",\"Value\":\"یک تکه\"},{\"Key\":\"سایز\",\"Value\":\"بزرگ\"},{\"Key\":\"سایر توضیحات\",\"Value\":\"بهتر است برای اولین بار و قبل از استفاده، حوله را یکبار بشوئید\\r\\n...   \n",
       "3167                                                                                                                                                                                                       NaN   \n",
       "3170                                                                                                                                                                                                       NaN   \n",
       "3912                                                                                                                                                                                                       NaN   \n",
       "4445                                                                                                                                                                                                       NaN   \n",
       "4578                                                                                                                                                                                                       NaN   \n",
       "5006                                                                                                                                                                                                       NaN   \n",
       "5973                                                                                                                                                                                                       NaN   \n",
       "6080                                                                                                                                                                                                       NaN   \n",
       "6164                                                                                                                                                                                                       NaN   \n",
       "6778                                                                                                                                                                                                       NaN   \n",
       "6838                                                                                                                                                                                                       NaN   \n",
       "8222                                                                                                                                                                                                       NaN   \n",
       "8362                                                                                                                                                                                                       NaN   \n",
       "8688                                                                                                                                                                                                       NaN   \n",
       "9184                                                                                                                                                                                                       NaN   \n",
       "9758                                                                                                                                                                                                       NaN   \n",
       "10987                                                                                                                                                                                                      NaN   \n",
       "11358                                                                                                                                                                                                      NaN   \n",
       "11537                                                                                                                                                                                                      NaN   \n",
       "11548                                                                                                                                                                                                      NaN   \n",
       "\n",
       "       product_title_fa_length  \n",
       "84                           4  \n",
       "101                          4  \n",
       "189                          4  \n",
       "224                          4  \n",
       "230                          4  \n",
       "299                          4  \n",
       "467                          4  \n",
       "612                          4  \n",
       "865                          4  \n",
       "867                          4  \n",
       "875                          4  \n",
       "1139                         4  \n",
       "1246                         4  \n",
       "1297                         8  \n",
       "1314                         4  \n",
       "1320                         4  \n",
       "1326                         4  \n",
       "1380                         4  \n",
       "1795                         4  \n",
       "1914                         4  \n",
       "1957                         4  \n",
       "2027                         4  \n",
       "2054                         4  \n",
       "2303                         4  \n",
       "2486                         4  \n",
       "2488                         4  \n",
       "2659                         4  \n",
       "2766                         4  \n",
       "2926                         4  \n",
       "3003                         4  \n",
       "3167                         9  \n",
       "3170                         8  \n",
       "3912                         9  \n",
       "4445                         9  \n",
       "4578                         3  \n",
       "5006                        10  \n",
       "5973                         7  \n",
       "6080                         5  \n",
       "6164                         4  \n",
       "6778                        10  \n",
       "6838                        10  \n",
       "8222                         2  \n",
       "8362                         1  \n",
       "8688                         9  \n",
       "9184                         1  \n",
       "9758                         9  \n",
       "10987                        8  \n",
       "11358                        6  \n",
       "11537                        9  \n",
       "11548                        6  "
      ]
     },
     "execution_count": 141,
     "metadata": {},
     "output_type": "execute_result"
    }
   ],
   "source": [
    "products.loc[ (products['product_title_fa_length']<=3) ,'product_title_fa'] = np.nan         #replace non valid with nan number\n",
    "products.loc[ (products['product_title_fa_length']<=10) & (products['product_title_fa'].str.split().str.len() <= 1) ,'product_title_fa'] = np.nan  #replace non correct with nan nuber\n",
    "products[ (products['product_title_fa_length']<=10) ].head(50)"
   ]
  },
  {
   "cell_type": "markdown",
   "metadata": {},
   "source": [
    "##### PRODUCT TITLE EN"
   ]
  },
  {
   "cell_type": "markdown",
   "metadata": {},
   "source": [
    "###### obtain the length of product title en "
   ]
  },
  {
   "cell_type": "code",
   "execution_count": 142,
   "metadata": {},
   "outputs": [
    {
     "name": "stdout",
     "output_type": "stream",
     "text": [
      "there are 781 values for product title en that are not valid vlues \n",
      "there are 821 values for product title en that are not corrcet \n",
      "percentage of not correct for product title en : 0.00821\n",
      "percentage of not valid for product title en : 0.00781\n"
     ]
    },
    {
     "data": {
      "text/html": [
       "<div>\n",
       "<style scoped>\n",
       "    .dataframe tbody tr th:only-of-type {\n",
       "        vertical-align: middle;\n",
       "    }\n",
       "\n",
       "    .dataframe tbody tr th {\n",
       "        vertical-align: top;\n",
       "    }\n",
       "\n",
       "    .dataframe thead th {\n",
       "        text-align: right;\n",
       "    }\n",
       "</style>\n",
       "<table border=\"1\" class=\"dataframe\">\n",
       "  <thead>\n",
       "    <tr style=\"text-align: right;\">\n",
       "      <th></th>\n",
       "      <th>id</th>\n",
       "      <th>product_title_fa</th>\n",
       "      <th>product_title_en</th>\n",
       "      <th>url_code</th>\n",
       "      <th>title_alt</th>\n",
       "      <th>category_title_fa</th>\n",
       "      <th>category_keywords</th>\n",
       "      <th>brand_name_fa</th>\n",
       "      <th>brand_name_en</th>\n",
       "      <th>product_attributes</th>\n",
       "      <th>product_title_fa_length</th>\n",
       "      <th>product_title_en_length</th>\n",
       "    </tr>\n",
       "  </thead>\n",
       "  <tbody>\n",
       "    <tr>\n",
       "      <th>1822</th>\n",
       "      <td>724740</td>\n",
       "      <td>کتاب صوتی چهل نامه به ماه اثر عباس نادری</td>\n",
       "      <td>/</td>\n",
       "      <td>کتاب-صوتی-چهل-نامه-به-ماه-اثر-عباس-نادری</td>\n",
       "      <td>کتاب صوتی ,  چهل نامه به ماه ,  عباس نادری</td>\n",
       "      <td>کتاب صوتی</td>\n",
       "      <td>کتاب صوتی  Audio-Book</td>\n",
       "      <td>نوین کتاب گویا</td>\n",
       "      <td>Novin Ketab</td>\n",
       "      <td>[{\"Key\":\"مدت\",\"Value\":\"65\"},{\"Key\":\"گروه سنی\",\"Value\":\"بزرگسال\"},{\"Key\":\"چکیده\",\"Value\":\"\"},{\"Key\":\"نویسنده\"},{\"Key\":\"سایر توضیحات\",\"Value\":\"\"},{\"Key\":\"گوینده\"},{\"Key\":\"مترجم\",\"Value\":\"\\/\"},{\"Key\"...</td>\n",
       "      <td>40</td>\n",
       "      <td>1.0</td>\n",
       "    </tr>\n",
       "    <tr>\n",
       "      <th>2130</th>\n",
       "      <td>724805</td>\n",
       "      <td>کتاب صوتی بی دل هوا اثر زهرا سعیدی</td>\n",
       "      <td>/</td>\n",
       "      <td>کتاب-صوتی-بی-دل-هوا-اثر-زهرا-سعیدی</td>\n",
       "      <td>کتاب صوتی ,  بی دل هوا ,  زهرا سعیدی</td>\n",
       "      <td>کتاب صوتی</td>\n",
       "      <td>کتاب صوتی  Audio-Book</td>\n",
       "      <td>نوین کتاب گویا</td>\n",
       "      <td>Novin Ketab</td>\n",
       "      <td>[{\"Key\":\"مترجم\",\"Value\":\"\\/\"},{\"Key\":\"شماره مجوز\",\"Value\":\"\\/\"},{\"Key\":\"نمونه قابل دانلود\"},{\"Key\":\"گوینده\",\"Value\":\"زهرا سعیدی\"},{\"Key\":\"عنوان\",\"Value\":\"بی دل هوا\"},{\"Key\":\"گوینده\"},{\"Key\":\"خلاصه...</td>\n",
       "      <td>34</td>\n",
       "      <td>1.0</td>\n",
       "    </tr>\n",
       "    <tr>\n",
       "      <th>2477</th>\n",
       "      <td>724756</td>\n",
       "      <td>تی شرت مردانه طرح Cr7</td>\n",
       "      <td>21</td>\n",
       "      <td>تی-شرت-مردانه-طرح-cr7</td>\n",
       "      <td>فوتبال،ایتالیا،یوونتوس،کریستیانورونالدو،تیشرت،تی شرت،ایران،cr7،Juventus،ronaldo،بومرنگ،uefa</td>\n",
       "      <td>تی‌شرت و پولوشرت مردانه</td>\n",
       "      <td>تی‌شرت و پولوشرت مردانه mens-polos-tshirts</td>\n",
       "      <td>متفرقه</td>\n",
       "      <td>Miscellaneous</td>\n",
       "      <td>[{\"Key\":\"وزن\",\"Value\":\"250\"},{\"Key\":\"آستین\",\"Value\":\"کوتاه\"},{\"Key\":\"جیب\",\"Value\":\"ندارد\"},{\"Key\":\"سایر توضیحات\",\"Value\":\"\"},{\"Key\":\"جنس\",\"Value\":\"پنبه\"},{\"Key\":\"کشور مبدا برند\",\"Value\":\"ایران\"},{...</td>\n",
       "      <td>21</td>\n",
       "      <td>2.0</td>\n",
       "    </tr>\n",
       "    <tr>\n",
       "      <th>3427</th>\n",
       "      <td>821141</td>\n",
       "      <td>کتاب کار عربی پایه هفتم اثر حبیب‌الله درویش</td>\n",
       "      <td>/</td>\n",
       "      <td>کتاب-کار-عربی-پایه-هفتم-اثر-حبیبالله-درویش</td>\n",
       "      <td>9786006676517 , خیلی سبز</td>\n",
       "      <td>کتاب چاپی</td>\n",
       "      <td>کتاب چاپی Book</td>\n",
       "      <td>خیلی سبز</td>\n",
       "      <td>Kheilisabz</td>\n",
       "      <td>NaN</td>\n",
       "      <td>43</td>\n",
       "      <td>1.0</td>\n",
       "    </tr>\n",
       "    <tr>\n",
       "      <th>3652</th>\n",
       "      <td>809926</td>\n",
       "      <td>کتاب مد و لباس در قلمرو هنر مفهومی اثر شیرین عابدینی زاده</td>\n",
       "      <td>.</td>\n",
       "      <td>کتاب-مد-و-لباس-در-قلمرو-هنر-مفهومی-اثر-شیرین-عابدینی-زاده</td>\n",
       "      <td>مد و لباس, پوشاک  , 9786001522048  شیرین عابدی</td>\n",
       "      <td>کتاب چاپی</td>\n",
       "      <td>کتاب چاپی Book</td>\n",
       "      <td>متفرقه</td>\n",
       "      <td>Miscellaneous</td>\n",
       "      <td>NaN</td>\n",
       "      <td>57</td>\n",
       "      <td>1.0</td>\n",
       "    </tr>\n",
       "    <tr>\n",
       "      <th>3692</th>\n",
       "      <td>821237</td>\n",
       "      <td>کتاب آموزش حسابان 1 پایه یازدهم اثر محمدرضا توجه</td>\n",
       "      <td>/</td>\n",
       "      <td>کتاب-آموزش-حسابان-1-پایه-یازدهم-اثر-محمدرضا-توجه</td>\n",
       "      <td>9786004124416,خیلی سبز</td>\n",
       "      <td>کتاب چاپی</td>\n",
       "      <td>کتاب چاپی Book</td>\n",
       "      <td>خیلی سبز</td>\n",
       "      <td>Kheilisabz</td>\n",
       "      <td>NaN</td>\n",
       "      <td>48</td>\n",
       "      <td>1.0</td>\n",
       "    </tr>\n",
       "    <tr>\n",
       "      <th>3778</th>\n",
       "      <td>820922</td>\n",
       "      <td>کتاب ماجرا زمین شناسی پایه یازدهم اثر حمید خزایی</td>\n",
       "      <td>/</td>\n",
       "      <td>کتاب-ماجرا-زمین-شناسی-پایه-یازدهم-اثر-حمید-خزایی</td>\n",
       "      <td>9786004123150,خیلی سبز</td>\n",
       "      <td>کتاب چاپی</td>\n",
       "      <td>کتاب چاپی Book</td>\n",
       "      <td>خیلی سبز</td>\n",
       "      <td>Kheilisabz</td>\n",
       "      <td>NaN</td>\n",
       "      <td>48</td>\n",
       "      <td>1.0</td>\n",
       "    </tr>\n",
       "    <tr>\n",
       "      <th>3960</th>\n",
       "      <td>729524</td>\n",
       "      <td>کتاب قایم موشک با تصویرهای پنهان 5 اثر فرزانه کریمی</td>\n",
       "      <td>/</td>\n",
       "      <td>کتاب-قایم-موشک-با-تصویرهای-پنهان-5-اثر-فرزانه-کریمی</td>\n",
       "      <td>موسسه نشر و تحقیقات ذکر , بازی کنیم و یاد بگیریم , پیش دبستانی , کتاب رنگ آمیزی , 9789643079239</td>\n",
       "      <td>کتاب چاپی</td>\n",
       "      <td>کتاب چاپی Book</td>\n",
       "      <td>نشر ذکر</td>\n",
       "      <td>Zekr</td>\n",
       "      <td>NaN</td>\n",
       "      <td>51</td>\n",
       "      <td>1.0</td>\n",
       "    </tr>\n",
       "    <tr>\n",
       "      <th>4093</th>\n",
       "      <td>730065</td>\n",
       "      <td>کتاب لباس ها اثر سارا خرامان</td>\n",
       "      <td>/</td>\n",
       "      <td>کتاب-لباس-ها-اثر-سارا-خرامان</td>\n",
       "      <td>انتشارات شهر قلم - 9786003201033</td>\n",
       "      <td>کتاب چاپی</td>\n",
       "      <td>کتاب چاپی Book</td>\n",
       "      <td>انتشارات شهر قلم</td>\n",
       "      <td>Shahreh Ghalam Pub</td>\n",
       "      <td>NaN</td>\n",
       "      <td>28</td>\n",
       "      <td>1.0</td>\n",
       "    </tr>\n",
       "    <tr>\n",
       "      <th>4146</th>\n",
       "      <td>817905</td>\n",
       "      <td>کتاب رهایی از استرس اثر مایکلین ماندی</td>\n",
       "      <td>/</td>\n",
       "      <td>کتاب-رهایی-از-استرس-اثر-مایکلین-ماندی</td>\n",
       "      <td>NaN</td>\n",
       "      <td>کتاب چاپی</td>\n",
       "      <td>کتاب چاپی Book</td>\n",
       "      <td>انتشارات صابرین</td>\n",
       "      <td>Saberin Book Pub</td>\n",
       "      <td>NaN</td>\n",
       "      <td>37</td>\n",
       "      <td>1.0</td>\n",
       "    </tr>\n",
       "    <tr>\n",
       "      <th>4415</th>\n",
       "      <td>750530</td>\n",
       "      <td>کتاب سجاده و صلیب اثر هما پوراصفهانی</td>\n",
       "      <td>/</td>\n",
       "      <td>کتاب-سجاده-و-صلیب-اثر-هما-پوراصفهانی</td>\n",
       "      <td>سخنریال نشر شخن، رمان پاورقی، 9789643728373</td>\n",
       "      <td>کتاب چاپی</td>\n",
       "      <td>کتاب چاپی Book</td>\n",
       "      <td>انتشارات سخن</td>\n",
       "      <td>Sokhan Pub</td>\n",
       "      <td>NaN</td>\n",
       "      <td>36</td>\n",
       "      <td>1.0</td>\n",
       "    </tr>\n",
       "    <tr>\n",
       "      <th>4677</th>\n",
       "      <td>734038</td>\n",
       "      <td>کتاب حمله ترول ها اثر تامی دانباوند</td>\n",
       "      <td>/</td>\n",
       "      <td>کتاب-حمله-ترول-ها-اثر-تامی-دانباوند</td>\n",
       "      <td>9.7896417132e+012</td>\n",
       "      <td>کتاب چاپی</td>\n",
       "      <td>کتاب چاپی Book</td>\n",
       "      <td>انتشارات اردیبهشت</td>\n",
       "      <td>Entesharat Ordibehesht</td>\n",
       "      <td>NaN</td>\n",
       "      <td>35</td>\n",
       "      <td>1.0</td>\n",
       "    </tr>\n",
       "    <tr>\n",
       "      <th>4978</th>\n",
       "      <td>821217</td>\n",
       "      <td>کتاب تست زیست شناسی پایه یازدهم اثر کمیل نصری</td>\n",
       "      <td>/</td>\n",
       "      <td>کتاب-تست-زیست-شناسی-پایه-یازدهم-اثر-کمیل-نصری</td>\n",
       "      <td>9786004124089,خیلی سبز</td>\n",
       "      <td>کتاب چاپی</td>\n",
       "      <td>کتاب چاپی Book</td>\n",
       "      <td>خیلی سبز</td>\n",
       "      <td>Kheilisabz</td>\n",
       "      <td>NaN</td>\n",
       "      <td>45</td>\n",
       "      <td>1.0</td>\n",
       "    </tr>\n",
       "    <tr>\n",
       "      <th>5483</th>\n",
       "      <td>803663</td>\n",
       "      <td>کتاب درآمدی بر فلسفه سیاسی نوین ترجمه مرتضی جیریایی</td>\n",
       "      <td>/</td>\n",
       "      <td>کتاب-درآمدی-بر-فلسفه-سیاسی-نوین-ترجمه-مرتضی-جیریایی</td>\n",
       "      <td>نشر نی ,  فلسفه ,</td>\n",
       "      <td>کتاب چاپی</td>\n",
       "      <td>کتاب چاپی Book</td>\n",
       "      <td>نشر نی</td>\n",
       "      <td>Ney</td>\n",
       "      <td>NaN</td>\n",
       "      <td>51</td>\n",
       "      <td>1.0</td>\n",
       "    </tr>\n",
       "    <tr>\n",
       "      <th>5750</th>\n",
       "      <td>729836</td>\n",
       "      <td>کتاب بریم و بیایم با آمبولانس اثر محمود برآبادی</td>\n",
       "      <td>/</td>\n",
       "      <td>کتاب-بریم-و-بیایم-با-آمبولانس-اثر-محمود-برآبادی</td>\n",
       "      <td>کتاب بریم و بیایم،محمود برآبادی،شهر قلم،9786003203419</td>\n",
       "      <td>کتاب چاپی</td>\n",
       "      <td>کتاب چاپی Book</td>\n",
       "      <td>انتشارات شهر قلم</td>\n",
       "      <td>Shahreh Ghalam Pub</td>\n",
       "      <td>NaN</td>\n",
       "      <td>47</td>\n",
       "      <td>1.0</td>\n",
       "    </tr>\n",
       "    <tr>\n",
       "      <th>6460</th>\n",
       "      <td>734486</td>\n",
       "      <td>کتاب رواق منظر ادب اثر فهیمه شهریاری</td>\n",
       "      <td>/</td>\n",
       "      <td>کتاب-رواق-منظر-ادب-اثر-فهیمه-شهریاری</td>\n",
       "      <td>نشر اردیبهشت، کتاب چاپی، 9786007005378</td>\n",
       "      <td>کتاب چاپی</td>\n",
       "      <td>کتاب چاپی Book</td>\n",
       "      <td>انتشارات اردیبهشت</td>\n",
       "      <td>Entesharat Ordibehesht</td>\n",
       "      <td>NaN</td>\n",
       "      <td>36</td>\n",
       "      <td>1.0</td>\n",
       "    </tr>\n",
       "    <tr>\n",
       "      <th>6571</th>\n",
       "      <td>729660</td>\n",
       "      <td>کتاب ایلیاد اثر هومر</td>\n",
       "      <td>/</td>\n",
       "      <td>کتاب-ایلیاد-اثر-هومر</td>\n",
       "      <td>شهر قلم , منوچهر اکبرلو , کاتلین آمستید , 9786003202375 , شهر قلم</td>\n",
       "      <td>کتاب چاپی</td>\n",
       "      <td>کتاب چاپی Book</td>\n",
       "      <td>انتشارات شهر قلم</td>\n",
       "      <td>Shahreh Ghalam Pub</td>\n",
       "      <td>NaN</td>\n",
       "      <td>20</td>\n",
       "      <td>1.0</td>\n",
       "    </tr>\n",
       "    <tr>\n",
       "      <th>6593</th>\n",
       "      <td>802621</td>\n",
       "      <td>کتاب اما اثر جین آستین</td>\n",
       "      <td>/</td>\n",
       "      <td>کتاب-اما-اثر-جین-آستین</td>\n",
       "      <td>9.786008708e+012</td>\n",
       "      <td>کتاب چاپی</td>\n",
       "      <td>کتاب چاپی Book</td>\n",
       "      <td>انتشارات پارمیس</td>\n",
       "      <td>Parmis Pub</td>\n",
       "      <td>NaN</td>\n",
       "      <td>22</td>\n",
       "      <td>1.0</td>\n",
       "    </tr>\n",
       "    <tr>\n",
       "      <th>6610</th>\n",
       "      <td>733968</td>\n",
       "      <td>کتاب شعله اژدها اثر تامی دانباوند</td>\n",
       "      <td>/</td>\n",
       "      <td>کتاب-شعله-اژدها-اثر-تامی-دانباوند</td>\n",
       "      <td>9789641712336 - اردیبهشت</td>\n",
       "      <td>کتاب چاپی</td>\n",
       "      <td>کتاب چاپی Book</td>\n",
       "      <td>انتشارات اردیبهشت</td>\n",
       "      <td>Entesharat Ordibehesht</td>\n",
       "      <td>NaN</td>\n",
       "      <td>33</td>\n",
       "      <td>1.0</td>\n",
       "    </tr>\n",
       "    <tr>\n",
       "      <th>6625</th>\n",
       "      <td>821579</td>\n",
       "      <td>کتاب فارسی سری میکرو اثر امیر نجات‌ شجاعی</td>\n",
       "      <td>/</td>\n",
       "      <td>کتاب-فارسی-سری-میکرو-اثر-امیر-نجات-شجاعی</td>\n",
       "      <td>گاج</td>\n",
       "      <td>کتاب چاپی</td>\n",
       "      <td>کتاب چاپی Book</td>\n",
       "      <td>گاج</td>\n",
       "      <td>Gaj</td>\n",
       "      <td>NaN</td>\n",
       "      <td>41</td>\n",
       "      <td>1.0</td>\n",
       "    </tr>\n",
       "    <tr>\n",
       "      <th>6782</th>\n",
       "      <td>808313</td>\n",
       "      <td>کتاب روش شناسی هنر اثر لوری آدامز</td>\n",
       "      <td>/</td>\n",
       "      <td>کتاب-روش-شناسی-هنر-اثر-لوری-آدامز</td>\n",
       "      <td>آدامز, کتاب, کتاب روش شناسی , علی معصومی , دیوید کرییر, 9786005191356</td>\n",
       "      <td>کتاب چاپی</td>\n",
       "      <td>کتاب چاپی Book</td>\n",
       "      <td>متفرقه</td>\n",
       "      <td>Miscellaneous</td>\n",
       "      <td>NaN</td>\n",
       "      <td>33</td>\n",
       "      <td>1.0</td>\n",
       "    </tr>\n",
       "    <tr>\n",
       "      <th>6846</th>\n",
       "      <td>729876</td>\n",
       "      <td>کتاب بریم و بیایم با قطار اثر محمود برآبادی</td>\n",
       "      <td>/</td>\n",
       "      <td>کتاب-بریم-و-بیایم-با-قطار-اثر-محمود-برآبادی</td>\n",
       "      <td>کتاب بریم و بیایم،محمود برآبادی،شهر قلم،9786003203440</td>\n",
       "      <td>کتاب چاپی</td>\n",
       "      <td>کتاب چاپی Book</td>\n",
       "      <td>انتشارات شهر قلم</td>\n",
       "      <td>Shahreh Ghalam Pub</td>\n",
       "      <td>NaN</td>\n",
       "      <td>43</td>\n",
       "      <td>1.0</td>\n",
       "    </tr>\n",
       "    <tr>\n",
       "      <th>7002</th>\n",
       "      <td>783799</td>\n",
       "      <td>کتاب راهنمای پژوهش در بازاریابی اثر سینا ایرانپور انارکی</td>\n",
       "      <td>/</td>\n",
       "      <td>کتاب-راهنمای-پژوهش-در-بازاریابی-اثر-سینا-ایرانپور-انارکی</td>\n",
       "      <td>انتشارات علوم و فنون , تحقیقات بازار , کسب و کار , 9786229956403</td>\n",
       "      <td>کتاب چاپی</td>\n",
       "      <td>کتاب چاپی Book</td>\n",
       "      <td>انتشارات علوم و فنون</td>\n",
       "      <td>Olum and Fonun Pub</td>\n",
       "      <td>NaN</td>\n",
       "      <td>56</td>\n",
       "      <td>1.0</td>\n",
       "    </tr>\n",
       "    <tr>\n",
       "      <th>7066</th>\n",
       "      <td>821602</td>\n",
       "      <td>کتاب فارسی جامع سری میکرو‌ اثر امیر نجات‌ شجاعی</td>\n",
       "      <td>/</td>\n",
       "      <td>کتاب-فارسی-جامع-سری-میکرو-اثر-امیر-نجات-شجاعی</td>\n",
       "      <td>گاج</td>\n",
       "      <td>کتاب چاپی</td>\n",
       "      <td>کتاب چاپی Book</td>\n",
       "      <td>گاج</td>\n",
       "      <td>Gaj</td>\n",
       "      <td>NaN</td>\n",
       "      <td>47</td>\n",
       "      <td>1.0</td>\n",
       "    </tr>\n",
       "    <tr>\n",
       "      <th>7144</th>\n",
       "      <td>788406</td>\n",
       "      <td>کتاب 48 قانون قدرت اثر رابرت گرین</td>\n",
       "      <td>/</td>\n",
       "      <td>کتاب-48-قانون-قدرت-اثر-رابرت-گرین</td>\n",
       "      <td>48 قانون قدرت، رابرت گرین، 9789642369362</td>\n",
       "      <td>کتاب چاپی</td>\n",
       "      <td>کتاب چاپی Book</td>\n",
       "      <td>نشر نسل نواندیش</td>\n",
       "      <td>Nasle Nowandish</td>\n",
       "      <td>NaN</td>\n",
       "      <td>33</td>\n",
       "      <td>1.0</td>\n",
       "    </tr>\n",
       "    <tr>\n",
       "      <th>7186</th>\n",
       "      <td>730314</td>\n",
       "      <td>کتاب زاک پسر کهکشان سیاره ی دایناسورها اثر ری اورایان</td>\n",
       "      <td>/</td>\n",
       "      <td>کتاب-زاک-پسر-کهکشان-سیاره-ی-دایناسورها-اثر-ری-اورایان</td>\n",
       "      <td>9789643078638 - انتشارات ذکر</td>\n",
       "      <td>کتاب چاپی</td>\n",
       "      <td>کتاب چاپی Book</td>\n",
       "      <td>نشر ذکر</td>\n",
       "      <td>Zekr</td>\n",
       "      <td>NaN</td>\n",
       "      <td>53</td>\n",
       "      <td>1.0</td>\n",
       "    </tr>\n",
       "    <tr>\n",
       "      <th>7358</th>\n",
       "      <td>729793</td>\n",
       "      <td>کتاب اطلس جهان فلیکس اثر آنت لنگن</td>\n",
       "      <td>/</td>\n",
       "      <td>کتاب-اطلس-جهان-فلیکس-اثر-آنت-لنگن</td>\n",
       "      <td>انتشارات زعفران، 9786007438466</td>\n",
       "      <td>کتاب چاپی</td>\n",
       "      <td>کتاب چاپی Book</td>\n",
       "      <td>زعفران</td>\n",
       "      <td>Zaferan</td>\n",
       "      <td>NaN</td>\n",
       "      <td>33</td>\n",
       "      <td>1.0</td>\n",
       "    </tr>\n",
       "    <tr>\n",
       "      <th>7690</th>\n",
       "      <td>729491</td>\n",
       "      <td>کتاب وارکرفت ایلیدن اثر کریستی گلدن</td>\n",
       "      <td>/</td>\n",
       "      <td>کتاب-وارکرفت-ایلیدن-اثر-کریستی-گلدن</td>\n",
       "      <td>انتشارات ویدا,9786002912244</td>\n",
       "      <td>کتاب چاپی</td>\n",
       "      <td>کتاب چاپی Book</td>\n",
       "      <td>نشر ویدا</td>\n",
       "      <td>nashre Vida</td>\n",
       "      <td>NaN</td>\n",
       "      <td>35</td>\n",
       "      <td>1.0</td>\n",
       "    </tr>\n",
       "    <tr>\n",
       "      <th>7741</th>\n",
       "      <td>808293</td>\n",
       "      <td>کتاب داد از غم تنهایی اثر عباس کیارستمی</td>\n",
       "      <td>/</td>\n",
       "      <td>کتاب-داد-از-غم-تنهایی-اثر-عباس-کیارستمی</td>\n",
       "      <td>عباس کیارستمی , رستمی , کتاب  , شعر , 9786001521607</td>\n",
       "      <td>کتاب چاپی</td>\n",
       "      <td>کتاب چاپی Book</td>\n",
       "      <td>متفرقه</td>\n",
       "      <td>Miscellaneous</td>\n",
       "      <td>NaN</td>\n",
       "      <td>39</td>\n",
       "      <td>1.0</td>\n",
       "    </tr>\n",
       "    <tr>\n",
       "      <th>7751</th>\n",
       "      <td>748399</td>\n",
       "      <td>کتاب اصل بنیاد اثر مارتین هایدگر</td>\n",
       "      <td>/</td>\n",
       "      <td>کتاب-اصل-بنیاد-اثر-مارتین-هایدگر</td>\n",
       "      <td>ققنوس، 9786002783571</td>\n",
       "      <td>کتاب چاپی</td>\n",
       "      <td>کتاب چاپی Book</td>\n",
       "      <td>نشر ققنوس</td>\n",
       "      <td>Ghoghnoos Spread</td>\n",
       "      <td>NaN</td>\n",
       "      <td>32</td>\n",
       "      <td>1.0</td>\n",
       "    </tr>\n",
       "  </tbody>\n",
       "</table>\n",
       "</div>"
      ],
      "text/plain": [
       "          id                                           product_title_fa  \\\n",
       "1822  724740                   کتاب صوتی چهل نامه به ماه اثر عباس نادری   \n",
       "2130  724805                         کتاب صوتی بی دل هوا اثر زهرا سعیدی   \n",
       "2477  724756                                      تی شرت مردانه طرح Cr7   \n",
       "3427  821141                کتاب کار عربی پایه هفتم اثر حبیب‌الله درویش   \n",
       "3652  809926  کتاب مد و لباس در قلمرو هنر مفهومی اثر شیرین عابدینی زاده   \n",
       "3692  821237           کتاب آموزش حسابان 1 پایه یازدهم اثر محمدرضا توجه   \n",
       "3778  820922           کتاب ماجرا زمین شناسی پایه یازدهم اثر حمید خزایی   \n",
       "3960  729524        کتاب قایم موشک با تصویرهای پنهان 5 اثر فرزانه کریمی   \n",
       "4093  730065                               کتاب لباس ها اثر سارا خرامان   \n",
       "4146  817905                      کتاب رهایی از استرس اثر مایکلین ماندی   \n",
       "4415  750530                       کتاب سجاده و صلیب اثر هما پوراصفهانی   \n",
       "4677  734038                        کتاب حمله ترول ها اثر تامی دانباوند   \n",
       "4978  821217              کتاب تست زیست شناسی پایه یازدهم اثر کمیل نصری   \n",
       "5483  803663        کتاب درآمدی بر فلسفه سیاسی نوین ترجمه مرتضی جیریایی   \n",
       "5750  729836            کتاب بریم و بیایم با آمبولانس اثر محمود برآبادی   \n",
       "6460  734486                       کتاب رواق منظر ادب اثر فهیمه شهریاری   \n",
       "6571  729660                                       کتاب ایلیاد اثر هومر   \n",
       "6593  802621                                     کتاب اما اثر جین آستین   \n",
       "6610  733968                          کتاب شعله اژدها اثر تامی دانباوند   \n",
       "6625  821579                  کتاب فارسی سری میکرو اثر امیر نجات‌ شجاعی   \n",
       "6782  808313                          کتاب روش شناسی هنر اثر لوری آدامز   \n",
       "6846  729876                کتاب بریم و بیایم با قطار اثر محمود برآبادی   \n",
       "7002  783799   کتاب راهنمای پژوهش در بازاریابی اثر سینا ایرانپور انارکی   \n",
       "7066  821602            کتاب فارسی جامع سری میکرو‌ اثر امیر نجات‌ شجاعی   \n",
       "7144  788406                          کتاب 48 قانون قدرت اثر رابرت گرین   \n",
       "7186  730314      کتاب زاک پسر کهکشان سیاره ی دایناسورها اثر ری اورایان   \n",
       "7358  729793                          کتاب اطلس جهان فلیکس اثر آنت لنگن   \n",
       "7690  729491                        کتاب وارکرفت ایلیدن اثر کریستی گلدن   \n",
       "7741  808293                    کتاب داد از غم تنهایی اثر عباس کیارستمی   \n",
       "7751  748399                           کتاب اصل بنیاد اثر مارتین هایدگر   \n",
       "\n",
       "     product_title_en  \\\n",
       "1822                /   \n",
       "2130                /   \n",
       "2477               21   \n",
       "3427                /   \n",
       "3652                .   \n",
       "3692                /   \n",
       "3778                /   \n",
       "3960                /   \n",
       "4093                /   \n",
       "4146                /   \n",
       "4415                /   \n",
       "4677                /   \n",
       "4978                /   \n",
       "5483                /   \n",
       "5750                /   \n",
       "6460                /   \n",
       "6571                /   \n",
       "6593                /   \n",
       "6610                /   \n",
       "6625                /   \n",
       "6782                /   \n",
       "6846                /   \n",
       "7002                /   \n",
       "7066                /   \n",
       "7144                /   \n",
       "7186                /   \n",
       "7358                /   \n",
       "7690                /   \n",
       "7741                /   \n",
       "7751                /   \n",
       "\n",
       "                                                       url_code  \\\n",
       "1822                   کتاب-صوتی-چهل-نامه-به-ماه-اثر-عباس-نادری   \n",
       "2130                         کتاب-صوتی-بی-دل-هوا-اثر-زهرا-سعیدی   \n",
       "2477                                      تی-شرت-مردانه-طرح-cr7   \n",
       "3427                 کتاب-کار-عربی-پایه-هفتم-اثر-حبیبالله-درویش   \n",
       "3652  کتاب-مد-و-لباس-در-قلمرو-هنر-مفهومی-اثر-شیرین-عابدینی-زاده   \n",
       "3692           کتاب-آموزش-حسابان-1-پایه-یازدهم-اثر-محمدرضا-توجه   \n",
       "3778           کتاب-ماجرا-زمین-شناسی-پایه-یازدهم-اثر-حمید-خزایی   \n",
       "3960        کتاب-قایم-موشک-با-تصویرهای-پنهان-5-اثر-فرزانه-کریمی   \n",
       "4093                               کتاب-لباس-ها-اثر-سارا-خرامان   \n",
       "4146                      کتاب-رهایی-از-استرس-اثر-مایکلین-ماندی   \n",
       "4415                       کتاب-سجاده-و-صلیب-اثر-هما-پوراصفهانی   \n",
       "4677                        کتاب-حمله-ترول-ها-اثر-تامی-دانباوند   \n",
       "4978              کتاب-تست-زیست-شناسی-پایه-یازدهم-اثر-کمیل-نصری   \n",
       "5483        کتاب-درآمدی-بر-فلسفه-سیاسی-نوین-ترجمه-مرتضی-جیریایی   \n",
       "5750            کتاب-بریم-و-بیایم-با-آمبولانس-اثر-محمود-برآبادی   \n",
       "6460                       کتاب-رواق-منظر-ادب-اثر-فهیمه-شهریاری   \n",
       "6571                                       کتاب-ایلیاد-اثر-هومر   \n",
       "6593                                     کتاب-اما-اثر-جین-آستین   \n",
       "6610                          کتاب-شعله-اژدها-اثر-تامی-دانباوند   \n",
       "6625                   کتاب-فارسی-سری-میکرو-اثر-امیر-نجات-شجاعی   \n",
       "6782                          کتاب-روش-شناسی-هنر-اثر-لوری-آدامز   \n",
       "6846                کتاب-بریم-و-بیایم-با-قطار-اثر-محمود-برآبادی   \n",
       "7002   کتاب-راهنمای-پژوهش-در-بازاریابی-اثر-سینا-ایرانپور-انارکی   \n",
       "7066              کتاب-فارسی-جامع-سری-میکرو-اثر-امیر-نجات-شجاعی   \n",
       "7144                          کتاب-48-قانون-قدرت-اثر-رابرت-گرین   \n",
       "7186      کتاب-زاک-پسر-کهکشان-سیاره-ی-دایناسورها-اثر-ری-اورایان   \n",
       "7358                          کتاب-اطلس-جهان-فلیکس-اثر-آنت-لنگن   \n",
       "7690                        کتاب-وارکرفت-ایلیدن-اثر-کریستی-گلدن   \n",
       "7741                    کتاب-داد-از-غم-تنهایی-اثر-عباس-کیارستمی   \n",
       "7751                           کتاب-اصل-بنیاد-اثر-مارتین-هایدگر   \n",
       "\n",
       "                                                                                            title_alt  \\\n",
       "1822                                                       کتاب صوتی ,  چهل نامه به ماه ,  عباس نادری   \n",
       "2130                                                             کتاب صوتی ,  بی دل هوا ,  زهرا سعیدی   \n",
       "2477      فوتبال،ایتالیا،یوونتوس،کریستیانورونالدو،تیشرت،تی شرت،ایران،cr7،Juventus،ronaldo،بومرنگ،uefa   \n",
       "3427                                                                         9786006676517 , خیلی سبز   \n",
       "3652                                                   مد و لباس, پوشاک  , 9786001522048  شیرین عابدی   \n",
       "3692                                                                           9786004124416,خیلی سبز   \n",
       "3778                                                                           9786004123150,خیلی سبز   \n",
       "3960  موسسه نشر و تحقیقات ذکر , بازی کنیم و یاد بگیریم , پیش دبستانی , کتاب رنگ آمیزی , 9789643079239   \n",
       "4093                                                                 انتشارات شهر قلم - 9786003201033   \n",
       "4146                                                                                              NaN   \n",
       "4415                                                      سخنریال نشر شخن، رمان پاورقی، 9789643728373   \n",
       "4677                                                                                9.7896417132e+012   \n",
       "4978                                                                           9786004124089,خیلی سبز   \n",
       "5483                                                                                نشر نی ,  فلسفه ,   \n",
       "5750                                            کتاب بریم و بیایم،محمود برآبادی،شهر قلم،9786003203419   \n",
       "6460                                                           نشر اردیبهشت، کتاب چاپی، 9786007005378   \n",
       "6571                                شهر قلم , منوچهر اکبرلو , کاتلین آمستید , 9786003202375 , شهر قلم   \n",
       "6593                                                                                 9.786008708e+012   \n",
       "6610                                                                         9789641712336 - اردیبهشت   \n",
       "6625                                                                                              گاج   \n",
       "6782                            آدامز, کتاب, کتاب روش شناسی , علی معصومی , دیوید کرییر, 9786005191356   \n",
       "6846                                            کتاب بریم و بیایم،محمود برآبادی،شهر قلم،9786003203440   \n",
       "7002                                 انتشارات علوم و فنون , تحقیقات بازار , کسب و کار , 9786229956403   \n",
       "7066                                                                                              گاج   \n",
       "7144                                                         48 قانون قدرت، رابرت گرین، 9789642369362   \n",
       "7186                                                                     9789643078638 - انتشارات ذکر   \n",
       "7358                                                                   انتشارات زعفران، 9786007438466   \n",
       "7690                                                                      انتشارات ویدا,9786002912244   \n",
       "7741                                              عباس کیارستمی , رستمی , کتاب  , شعر , 9786001521607   \n",
       "7751                                                                             ققنوس، 9786002783571   \n",
       "\n",
       "            category_title_fa                           category_keywords  \\\n",
       "1822                کتاب صوتی                       کتاب صوتی  Audio-Book   \n",
       "2130                کتاب صوتی                       کتاب صوتی  Audio-Book   \n",
       "2477  تی‌شرت و پولوشرت مردانه  تی‌شرت و پولوشرت مردانه mens-polos-tshirts   \n",
       "3427                کتاب چاپی                              کتاب چاپی Book   \n",
       "3652                کتاب چاپی                              کتاب چاپی Book   \n",
       "3692                کتاب چاپی                              کتاب چاپی Book   \n",
       "3778                کتاب چاپی                              کتاب چاپی Book   \n",
       "3960                کتاب چاپی                              کتاب چاپی Book   \n",
       "4093                کتاب چاپی                              کتاب چاپی Book   \n",
       "4146                کتاب چاپی                              کتاب چاپی Book   \n",
       "4415                کتاب چاپی                              کتاب چاپی Book   \n",
       "4677                کتاب چاپی                              کتاب چاپی Book   \n",
       "4978                کتاب چاپی                              کتاب چاپی Book   \n",
       "5483                کتاب چاپی                              کتاب چاپی Book   \n",
       "5750                کتاب چاپی                              کتاب چاپی Book   \n",
       "6460                کتاب چاپی                              کتاب چاپی Book   \n",
       "6571                کتاب چاپی                              کتاب چاپی Book   \n",
       "6593                کتاب چاپی                              کتاب چاپی Book   \n",
       "6610                کتاب چاپی                              کتاب چاپی Book   \n",
       "6625                کتاب چاپی                              کتاب چاپی Book   \n",
       "6782                کتاب چاپی                              کتاب چاپی Book   \n",
       "6846                کتاب چاپی                              کتاب چاپی Book   \n",
       "7002                کتاب چاپی                              کتاب چاپی Book   \n",
       "7066                کتاب چاپی                              کتاب چاپی Book   \n",
       "7144                کتاب چاپی                              کتاب چاپی Book   \n",
       "7186                کتاب چاپی                              کتاب چاپی Book   \n",
       "7358                کتاب چاپی                              کتاب چاپی Book   \n",
       "7690                کتاب چاپی                              کتاب چاپی Book   \n",
       "7741                کتاب چاپی                              کتاب چاپی Book   \n",
       "7751                کتاب چاپی                              کتاب چاپی Book   \n",
       "\n",
       "             brand_name_fa           brand_name_en  \\\n",
       "1822        نوین کتاب گویا             Novin Ketab   \n",
       "2130        نوین کتاب گویا             Novin Ketab   \n",
       "2477                متفرقه           Miscellaneous   \n",
       "3427              خیلی سبز              Kheilisabz   \n",
       "3652                متفرقه           Miscellaneous   \n",
       "3692              خیلی سبز              Kheilisabz   \n",
       "3778              خیلی سبز              Kheilisabz   \n",
       "3960               نشر ذکر                    Zekr   \n",
       "4093      انتشارات شهر قلم      Shahreh Ghalam Pub   \n",
       "4146       انتشارات صابرین        Saberin Book Pub   \n",
       "4415          انتشارات سخن              Sokhan Pub   \n",
       "4677     انتشارات اردیبهشت  Entesharat Ordibehesht   \n",
       "4978              خیلی سبز              Kheilisabz   \n",
       "5483                نشر نی                     Ney   \n",
       "5750      انتشارات شهر قلم      Shahreh Ghalam Pub   \n",
       "6460     انتشارات اردیبهشت  Entesharat Ordibehesht   \n",
       "6571      انتشارات شهر قلم      Shahreh Ghalam Pub   \n",
       "6593       انتشارات پارمیس              Parmis Pub   \n",
       "6610     انتشارات اردیبهشت  Entesharat Ordibehesht   \n",
       "6625                   گاج                     Gaj   \n",
       "6782                متفرقه           Miscellaneous   \n",
       "6846      انتشارات شهر قلم      Shahreh Ghalam Pub   \n",
       "7002  انتشارات علوم و فنون      Olum and Fonun Pub   \n",
       "7066                   گاج                     Gaj   \n",
       "7144       نشر نسل نواندیش         Nasle Nowandish   \n",
       "7186               نشر ذکر                    Zekr   \n",
       "7358                زعفران                 Zaferan   \n",
       "7690              نشر ویدا             nashre Vida   \n",
       "7741                متفرقه           Miscellaneous   \n",
       "7751             نشر ققنوس        Ghoghnoos Spread   \n",
       "\n",
       "                                                                                                                                                                                           product_attributes  \\\n",
       "1822  [{\"Key\":\"مدت\",\"Value\":\"65\"},{\"Key\":\"گروه سنی\",\"Value\":\"بزرگسال\"},{\"Key\":\"چکیده\",\"Value\":\"\"},{\"Key\":\"نویسنده\"},{\"Key\":\"سایر توضیحات\",\"Value\":\"\"},{\"Key\":\"گوینده\"},{\"Key\":\"مترجم\",\"Value\":\"\\/\"},{\"Key\"...   \n",
       "2130  [{\"Key\":\"مترجم\",\"Value\":\"\\/\"},{\"Key\":\"شماره مجوز\",\"Value\":\"\\/\"},{\"Key\":\"نمونه قابل دانلود\"},{\"Key\":\"گوینده\",\"Value\":\"زهرا سعیدی\"},{\"Key\":\"عنوان\",\"Value\":\"بی دل هوا\"},{\"Key\":\"گوینده\"},{\"Key\":\"خلاصه...   \n",
       "2477  [{\"Key\":\"وزن\",\"Value\":\"250\"},{\"Key\":\"آستین\",\"Value\":\"کوتاه\"},{\"Key\":\"جیب\",\"Value\":\"ندارد\"},{\"Key\":\"سایر توضیحات\",\"Value\":\"\"},{\"Key\":\"جنس\",\"Value\":\"پنبه\"},{\"Key\":\"کشور مبدا برند\",\"Value\":\"ایران\"},{...   \n",
       "3427                                                                                                                                                                                                      NaN   \n",
       "3652                                                                                                                                                                                                      NaN   \n",
       "3692                                                                                                                                                                                                      NaN   \n",
       "3778                                                                                                                                                                                                      NaN   \n",
       "3960                                                                                                                                                                                                      NaN   \n",
       "4093                                                                                                                                                                                                      NaN   \n",
       "4146                                                                                                                                                                                                      NaN   \n",
       "4415                                                                                                                                                                                                      NaN   \n",
       "4677                                                                                                                                                                                                      NaN   \n",
       "4978                                                                                                                                                                                                      NaN   \n",
       "5483                                                                                                                                                                                                      NaN   \n",
       "5750                                                                                                                                                                                                      NaN   \n",
       "6460                                                                                                                                                                                                      NaN   \n",
       "6571                                                                                                                                                                                                      NaN   \n",
       "6593                                                                                                                                                                                                      NaN   \n",
       "6610                                                                                                                                                                                                      NaN   \n",
       "6625                                                                                                                                                                                                      NaN   \n",
       "6782                                                                                                                                                                                                      NaN   \n",
       "6846                                                                                                                                                                                                      NaN   \n",
       "7002                                                                                                                                                                                                      NaN   \n",
       "7066                                                                                                                                                                                                      NaN   \n",
       "7144                                                                                                                                                                                                      NaN   \n",
       "7186                                                                                                                                                                                                      NaN   \n",
       "7358                                                                                                                                                                                                      NaN   \n",
       "7690                                                                                                                                                                                                      NaN   \n",
       "7741                                                                                                                                                                                                      NaN   \n",
       "7751                                                                                                                                                                                                      NaN   \n",
       "\n",
       "      product_title_fa_length  product_title_en_length  \n",
       "1822                       40                      1.0  \n",
       "2130                       34                      1.0  \n",
       "2477                       21                      2.0  \n",
       "3427                       43                      1.0  \n",
       "3652                       57                      1.0  \n",
       "3692                       48                      1.0  \n",
       "3778                       48                      1.0  \n",
       "3960                       51                      1.0  \n",
       "4093                       28                      1.0  \n",
       "4146                       37                      1.0  \n",
       "4415                       36                      1.0  \n",
       "4677                       35                      1.0  \n",
       "4978                       45                      1.0  \n",
       "5483                       51                      1.0  \n",
       "5750                       47                      1.0  \n",
       "6460                       36                      1.0  \n",
       "6571                       20                      1.0  \n",
       "6593                       22                      1.0  \n",
       "6610                       33                      1.0  \n",
       "6625                       41                      1.0  \n",
       "6782                       33                      1.0  \n",
       "6846                       43                      1.0  \n",
       "7002                       56                      1.0  \n",
       "7066                       47                      1.0  \n",
       "7144                       33                      1.0  \n",
       "7186                       53                      1.0  \n",
       "7358                       33                      1.0  \n",
       "7690                       35                      1.0  \n",
       "7741                       39                      1.0  \n",
       "7751                       32                      1.0  "
      ]
     },
     "execution_count": 142,
     "metadata": {},
     "output_type": "execute_result"
    }
   ],
   "source": [
    "products['product_title_en_length'] = products['product_title_en'].str.len()\n",
    "not_valid_product_title_en = products[ (products['product_title_en_length']<=2) ]      # not valid values\n",
    "not_correct_product_title_en = products[ (products['product_title_en_length']<=3) ]    # not correct values\n",
    "print(\"there are {} values for product title en that are not valid vlues \".format(len(not_valid_product_title_en)))\n",
    "print(\"there are {} values for product title en that are not corrcet \".format(len(not_correct_product_title_en)))\n",
    "print(\"percentage of not correct for product title en : {}\".format(len(not_correct_product_title_en)/len(products)))   #calculate precentage of not correct\n",
    "print(\"percentage of not valid for product title en : {}\".format(len(not_valid_product_title_en)/len(products)))       #calculate precentage of not valid\n",
    "# logging the previous data that is printed\n",
    "logging.basicConfig(filename='product/info.log', level=logging.INFO)\n",
    "logging.info(\"there are {} values for product title en that are not valid vlues \".format(len(not_valid_product_title_en)))\n",
    "logging.info(\"there are {} values for product title en that are not corrcet \".format(len(not_correct_product_title_en)))\n",
    "logging.info(\"percentage of not correct for product title en : {}\".format(len(not_correct_product_title_en)/len(products)))\n",
    "logging.info(\"percentage of not valid for product title en : {}\".format(len(not_valid_product_title_en)/len(products)))\n",
    "not_valid_product_title_en.head(30)"
   ]
  },
  {
   "cell_type": "markdown",
   "metadata": {},
   "source": [
    "###### set values that their length is smaller than 2 for validation\n",
    "###### set values that their length are smaller than 4 for correctness"
   ]
  },
  {
   "cell_type": "code",
   "execution_count": 143,
   "metadata": {},
   "outputs": [],
   "source": [
    "products.loc[ (products['product_title_en_length']<=2) ,'product_title_en'] = np.nan         #replace not valid with nan number\n",
    "products.loc[ (products['product_title_en_length']<=3) ,'product_title_en'] = np.nan         #replace not corrcet with nan number"
   ]
  },
  {
   "cell_type": "markdown",
   "metadata": {},
   "source": [
    "###### URL CODE\n",
    "###### obtain the length of url code"
   ]
  },
  {
   "cell_type": "code",
   "execution_count": 144,
   "metadata": {},
   "outputs": [
    {
     "data": {
      "image/png": "[encoded data removed]",
      "text/plain": [
       "<Figure size 720x720 with 5 Axes>"
      ]
     },
     "metadata": {
      "needs_background": "light"
     },
     "output_type": "display_data"
    }
   ],
   "source": [
    "products['url_code_length'] = products['url_code'].str.len()\n",
    "products.loc[ (products['url_code_length'].isnull()) ,'url_code_length'] = 1\n",
    "\n",
    "# TODO: replce 2 line below with below that\n",
    "attributes = ['url_code_length']\n",
    "box_plot_table('product',attributes)\n"
   ]
  },
  {
   "cell_type": "markdown",
   "metadata": {},
   "source": [
    "###### those values that their length are smaller than 3 are not valid so are set to nan"
   ]
  },
  {
   "cell_type": "code",
   "execution_count": 145,
   "metadata": {},
   "outputs": [],
   "source": [
    "not_valid_url_code = products[ (products['url_code_length']<3) ]      # not valid values"
   ]
  },
  {
   "cell_type": "code",
   "execution_count": 146,
   "metadata": {},
   "outputs": [],
   "source": [
    "products.loc[ (products['url_code_length']<3) ,'url_code'] = np.nan"
   ]
  },
  {
   "cell_type": "markdown",
   "metadata": {},
   "source": [
    "###### TITLE ALT"
   ]
  },
  {
   "cell_type": "code",
   "execution_count": 147,
   "metadata": {},
   "outputs": [
    {
     "data": {
      "image/png": "[encoded data removed]",
      "text/plain": [
       "<Figure size 720x720 with 5 Axes>"
      ]
     },
     "metadata": {
      "needs_background": "light"
     },
     "output_type": "display_data"
    }
   ],
   "source": [
    "products['title_alt_length'] = products['title_alt'].str.len()\n",
    "products.loc[ (products['title_alt_length'].isnull()) ,'title_alt_length'] = 1\n",
    "\n",
    "attributes = ['title_alt_length']\n",
    "box_plot_table('product',attributes)"
   ]
  },
  {
   "cell_type": "markdown",
   "metadata": {},
   "source": [
    "###### those values that their length are smaller than 3 are not valid so are set to nan"
   ]
  },
  {
   "cell_type": "code",
   "execution_count": 148,
   "metadata": {},
   "outputs": [
    {
     "name": "stdout",
     "output_type": "stream",
     "text": [
      "nan\n",
      "<class 'float'>\n"
     ]
    },
    {
     "data": {
      "text/html": [
       "<div>\n",
       "<style scoped>\n",
       "    .dataframe tbody tr th:only-of-type {\n",
       "        vertical-align: middle;\n",
       "    }\n",
       "\n",
       "    .dataframe tbody tr th {\n",
       "        vertical-align: top;\n",
       "    }\n",
       "\n",
       "    .dataframe thead th {\n",
       "        text-align: right;\n",
       "    }\n",
       "</style>\n",
       "<table border=\"1\" class=\"dataframe\">\n",
       "  <thead>\n",
       "    <tr style=\"text-align: right;\">\n",
       "      <th></th>\n",
       "      <th>id</th>\n",
       "      <th>product_title_fa</th>\n",
       "      <th>product_title_en</th>\n",
       "      <th>url_code</th>\n",
       "      <th>title_alt</th>\n",
       "      <th>category_title_fa</th>\n",
       "      <th>category_keywords</th>\n",
       "      <th>brand_name_fa</th>\n",
       "      <th>brand_name_en</th>\n",
       "      <th>product_attributes</th>\n",
       "      <th>product_title_fa_length</th>\n",
       "      <th>product_title_en_length</th>\n",
       "      <th>url_code_length</th>\n",
       "      <th>title_alt_length</th>\n",
       "    </tr>\n",
       "  </thead>\n",
       "  <tbody>\n",
       "    <tr>\n",
       "      <th>2</th>\n",
       "      <td>727096</td>\n",
       "      <td>روغن مرطوب کننده کدلی مدل Divine oil حجم 50 میلی لیتر</td>\n",
       "      <td>NaN</td>\n",
       "      <td>روغن-مرطوب-کننده-کدلی-مدل-divine-oil-حجم-50-میلی-لیتر</td>\n",
       "      <td>NaN</td>\n",
       "      <td>روغن صورت</td>\n",
       "      <td>روغن صورت Face-Oil</td>\n",
       "      <td>کدلی</td>\n",
       "      <td>CAUDALIE</td>\n",
       "      <td>[{\"Key\":\"حجم\",\"Value\":\"50\"},{\"Key\":\"نوع عصاره\",\"Value\":\"حاوی روغن هسته انگور ارگانیک، روغن آرگان، روغن کنجد و شی باتر\"},{\"Key\":\"عصاره\",\"Value\":\"دارد\"},{\"Key\":\"ویژگی\",\"Value\":\"ضد چروک\"},{\"Key\":\"ویت...</td>\n",
       "      <td>53</td>\n",
       "      <td>NaN</td>\n",
       "      <td>53.0</td>\n",
       "      <td>1.0</td>\n",
       "    </tr>\n",
       "    <tr>\n",
       "      <th>11</th>\n",
       "      <td>724686</td>\n",
       "      <td>تاپ زنانه لیدی مدل TANKTOP-SJ-GREEN</td>\n",
       "      <td>NaN</td>\n",
       "      <td>تاپ-زنانه-لیدی-مدل-tanktop-sj-green</td>\n",
       "      <td>NaN</td>\n",
       "      <td>تاپ، تونیک و سارافون زنانه</td>\n",
       "      <td>تاپ، تونیک و سارافون زنانه womens-tops-tunics</td>\n",
       "      <td>متفرقه</td>\n",
       "      <td>Miscellaneous</td>\n",
       "      <td>[{\"Key\":\"وزن\",\"Value\":\"100\"},{\"Key\":\"جنس\",\"Value\":\"کتان\"},{\"Key\":\"جنس\",\"Value\":\"پنبه\"},{\"Key\":\"نوع یقه\",\"Value\":\"گرد\"},{\"Key\":\"پد\",\"Value\":\"ندارد\"},{\"Key\":\"کشور مبدا برند\",\"Value\":\"ایران\"},{\"Key\":...</td>\n",
       "      <td>35</td>\n",
       "      <td>NaN</td>\n",
       "      <td>35.0</td>\n",
       "      <td>1.0</td>\n",
       "    </tr>\n",
       "    <tr>\n",
       "      <th>16</th>\n",
       "      <td>726596</td>\n",
       "      <td>مانتو زنانه ولیعصر مدل آلاله 17413</td>\n",
       "      <td>NaN</td>\n",
       "      <td>مانتو-زنانه-ولیعصر-مدل-آلاله-17413</td>\n",
       "      <td>NaN</td>\n",
       "      <td>مانتو</td>\n",
       "      <td>مانتو womens-manteaus</td>\n",
       "      <td>مانتو ولیعصر</td>\n",
       "      <td>manto valiasr</td>\n",
       "      <td>[{\"Key\":\"تعداد جیب\",\"Value\":\"0\"},{\"Key\":\"کشور مبدا برند\",\"Value\":\"ایران\"},{\"Key\":\"مورد استفاده\",\"Value\":\"روزمره\"},{\"Key\":\"سایر توضیحات\",\"Value\":\"- جنس پارچه : شانتون\\r\\n- یقه مردانه\\r\\n- کمر برش د...</td>\n",
       "      <td>34</td>\n",
       "      <td>NaN</td>\n",
       "      <td>34.0</td>\n",
       "      <td>1.0</td>\n",
       "    </tr>\n",
       "    <tr>\n",
       "      <th>26</th>\n",
       "      <td>723711</td>\n",
       "      <td>ظرف بنشن لیمون مدل 7033</td>\n",
       "      <td>NaN</td>\n",
       "      <td>ظرف-بنشن-لیمون-مدل-7033</td>\n",
       "      <td>NaN</td>\n",
       "      <td>ظروف بنشن</td>\n",
       "      <td>ظروف بنشن LegumeContainer</td>\n",
       "      <td>لیمون</td>\n",
       "      <td>limon</td>\n",
       "      <td>[{\"Key\":\"گنجایش\",\"Value\":\"1\"},{\"Key\":\"قابلیت شستشو\",\"Value\":\"دستی\"},{\"Key\":\"قابلیت شستشو\",\"Value\":\"ماشین ظرفشویی\"},{\"Key\":\"جنس پایه\"},{\"Key\":\"ابعاد\",\"Value\":\"7×16×20\"},{\"Key\":\"وزن بسته‌بندی\",\"Valu...</td>\n",
       "      <td>23</td>\n",
       "      <td>NaN</td>\n",
       "      <td>23.0</td>\n",
       "      <td>1.0</td>\n",
       "    </tr>\n",
       "    <tr>\n",
       "      <th>33</th>\n",
       "      <td>727422</td>\n",
       "      <td>دوربین مداربسته بی سیم EasyN مدل 187</td>\n",
       "      <td>NaN</td>\n",
       "      <td>دوربین-مداربسته-بی-سیم-easyn-مدل-187</td>\n",
       "      <td>NaN</td>\n",
       "      <td>دوربین های تحت شبکه</td>\n",
       "      <td>دوربین های تحت شبکه Network-Cam</td>\n",
       "      <td>متفرقه</td>\n",
       "      <td>Miscellaneous</td>\n",
       "      <td>[{\"Key\":\"رزولوشن‌های تصویر\",\"Value\":\"1080*1920   1080p\\r\\n\"},{\"Key\":\"مشخصات اتصال\",\"Value\":\"IEEE802.11b\\/g\\/n\"},{\"Key\":\"قابلیت بزرگنمایی دیجیتال\",\"Value\":\"دارد\"},{\"Key\":\"نوع دوربین\",\"Value\":\"تحت ش...</td>\n",
       "      <td>36</td>\n",
       "      <td>NaN</td>\n",
       "      <td>36.0</td>\n",
       "      <td>1.0</td>\n",
       "    </tr>\n",
       "    <tr>\n",
       "      <th>...</th>\n",
       "      <td>...</td>\n",
       "      <td>...</td>\n",
       "      <td>...</td>\n",
       "      <td>...</td>\n",
       "      <td>...</td>\n",
       "      <td>...</td>\n",
       "      <td>...</td>\n",
       "      <td>...</td>\n",
       "      <td>...</td>\n",
       "      <td>...</td>\n",
       "      <td>...</td>\n",
       "      <td>...</td>\n",
       "      <td>...</td>\n",
       "      <td>...</td>\n",
       "    </tr>\n",
       "    <tr>\n",
       "      <th>99985</th>\n",
       "      <td>768061</td>\n",
       "      <td>ظرف خلال دندان رادین مدل خرگوش DGA-2032</td>\n",
       "      <td>NaN</td>\n",
       "      <td>ظرف-خلال-دندان-رادین-مدل-خرگوش-dga-2032</td>\n",
       "      <td>NaN</td>\n",
       "      <td>ارگانایزر</td>\n",
       "      <td>ارگانایزر Organizer</td>\n",
       "      <td>متفرقه</td>\n",
       "      <td>Miscellaneous</td>\n",
       "      <td>NaN</td>\n",
       "      <td>39</td>\n",
       "      <td>NaN</td>\n",
       "      <td>39.0</td>\n",
       "      <td>1.0</td>\n",
       "    </tr>\n",
       "    <tr>\n",
       "      <th>99986</th>\n",
       "      <td>763733</td>\n",
       "      <td>کاور آکو مدل K152 مناسب برای گوشی موبایل سامسونگ S8 plus</td>\n",
       "      <td>NaN</td>\n",
       "      <td>کاور-آکو-مدل-k152-مناسب-برای-گوشی-موبایل-سامسونگ-s8-plus</td>\n",
       "      <td>NaN</td>\n",
       "      <td>کیف و کاور گوشی</td>\n",
       "      <td>کیف و کاور گوشی Cell-Phone-Pouch-Cover</td>\n",
       "      <td>آکو</td>\n",
       "      <td>Ako</td>\n",
       "      <td>NaN</td>\n",
       "      <td>56</td>\n",
       "      <td>NaN</td>\n",
       "      <td>56.0</td>\n",
       "      <td>1.0</td>\n",
       "    </tr>\n",
       "    <tr>\n",
       "      <th>99989</th>\n",
       "      <td>817245</td>\n",
       "      <td>شمع مدل 50012</td>\n",
       "      <td>NaN</td>\n",
       "      <td>شمع-مدل-50012</td>\n",
       "      <td>NaN</td>\n",
       "      <td>شمع</td>\n",
       "      <td>شمع Candle</td>\n",
       "      <td>متفرقه</td>\n",
       "      <td>Miscellaneous</td>\n",
       "      <td>NaN</td>\n",
       "      <td>13</td>\n",
       "      <td>NaN</td>\n",
       "      <td>13.0</td>\n",
       "      <td>1.0</td>\n",
       "    </tr>\n",
       "    <tr>\n",
       "      <th>99993</th>\n",
       "      <td>796146</td>\n",
       "      <td>پرده مدل pl334</td>\n",
       "      <td>NaN</td>\n",
       "      <td>پرده-مدل-pl334</td>\n",
       "      <td>NaN</td>\n",
       "      <td>پرده</td>\n",
       "      <td>پرده Curtain</td>\n",
       "      <td>متفرقه</td>\n",
       "      <td>Miscellaneous</td>\n",
       "      <td>NaN</td>\n",
       "      <td>14</td>\n",
       "      <td>NaN</td>\n",
       "      <td>14.0</td>\n",
       "      <td>1.0</td>\n",
       "    </tr>\n",
       "    <tr>\n",
       "      <th>99994</th>\n",
       "      <td>791818</td>\n",
       "      <td>گردنبند نقره خوشنورد طرح سنگنورد کد Z113</td>\n",
       "      <td>NaN</td>\n",
       "      <td>گردنبند-نقره-خوشنورد-طرح-سنگنورد-کد-z113</td>\n",
       "      <td>NaN</td>\n",
       "      <td>گردنبند نقره</td>\n",
       "      <td>گردنبند نقره Silver-Necklace</td>\n",
       "      <td>متفرقه</td>\n",
       "      <td>Miscellaneous</td>\n",
       "      <td>NaN</td>\n",
       "      <td>40</td>\n",
       "      <td>NaN</td>\n",
       "      <td>40.0</td>\n",
       "      <td>1.0</td>\n",
       "    </tr>\n",
       "  </tbody>\n",
       "</table>\n",
       "<p>22623 rows × 14 columns</p>\n",
       "</div>"
      ],
      "text/plain": [
       "           id                                          product_title_fa  \\\n",
       "2      727096     روغن مرطوب کننده کدلی مدل Divine oil حجم 50 میلی لیتر   \n",
       "11     724686                       تاپ زنانه لیدی مدل TANKTOP-SJ-GREEN   \n",
       "16     726596                        مانتو زنانه ولیعصر مدل آلاله 17413   \n",
       "26     723711                                   ظرف بنشن لیمون مدل 7033   \n",
       "33     727422                      دوربین مداربسته بی سیم EasyN مدل 187   \n",
       "...       ...                                                       ...   \n",
       "99985  768061                   ظرف خلال دندان رادین مدل خرگوش DGA-2032   \n",
       "99986  763733  کاور آکو مدل K152 مناسب برای گوشی موبایل سامسونگ S8 plus   \n",
       "99989  817245                                             شمع مدل 50012   \n",
       "99993  796146                                            پرده مدل pl334   \n",
       "99994  791818                  گردنبند نقره خوشنورد طرح سنگنورد کد Z113   \n",
       "\n",
       "      product_title_en  \\\n",
       "2                  NaN   \n",
       "11                 NaN   \n",
       "16                 NaN   \n",
       "26                 NaN   \n",
       "33                 NaN   \n",
       "...                ...   \n",
       "99985              NaN   \n",
       "99986              NaN   \n",
       "99989              NaN   \n",
       "99993              NaN   \n",
       "99994              NaN   \n",
       "\n",
       "                                                       url_code title_alt  \\\n",
       "2         روغن-مرطوب-کننده-کدلی-مدل-divine-oil-حجم-50-میلی-لیتر       NaN   \n",
       "11                          تاپ-زنانه-لیدی-مدل-tanktop-sj-green       NaN   \n",
       "16                           مانتو-زنانه-ولیعصر-مدل-آلاله-17413       NaN   \n",
       "26                                      ظرف-بنشن-لیمون-مدل-7033       NaN   \n",
       "33                         دوربین-مداربسته-بی-سیم-easyn-مدل-187       NaN   \n",
       "...                                                         ...       ...   \n",
       "99985                   ظرف-خلال-دندان-رادین-مدل-خرگوش-dga-2032       NaN   \n",
       "99986  کاور-آکو-مدل-k152-مناسب-برای-گوشی-موبایل-سامسونگ-s8-plus       NaN   \n",
       "99989                                             شمع-مدل-50012       NaN   \n",
       "99993                                            پرده-مدل-pl334       NaN   \n",
       "99994                  گردنبند-نقره-خوشنورد-طرح-سنگنورد-کد-z113       NaN   \n",
       "\n",
       "                category_title_fa  \\\n",
       "2                       روغن صورت   \n",
       "11     تاپ، تونیک و سارافون زنانه   \n",
       "16                          مانتو   \n",
       "26                      ظروف بنشن   \n",
       "33            دوربین های تحت شبکه   \n",
       "...                           ...   \n",
       "99985                   ارگانایزر   \n",
       "99986             کیف و کاور گوشی   \n",
       "99989                         شمع   \n",
       "99993                        پرده   \n",
       "99994                گردنبند نقره   \n",
       "\n",
       "                                   category_keywords brand_name_fa  \\\n",
       "2                                 روغن صورت Face-Oil          کدلی   \n",
       "11     تاپ، تونیک و سارافون زنانه womens-tops-tunics        متفرقه   \n",
       "16                             مانتو womens-manteaus  مانتو ولیعصر   \n",
       "26                         ظروف بنشن LegumeContainer         لیمون   \n",
       "33                   دوربین های تحت شبکه Network-Cam        متفرقه   \n",
       "...                                              ...           ...   \n",
       "99985                            ارگانایزر Organizer        متفرقه   \n",
       "99986         کیف و کاور گوشی Cell-Phone-Pouch-Cover           آکو   \n",
       "99989                                     شمع Candle        متفرقه   \n",
       "99993                                   پرده Curtain        متفرقه   \n",
       "99994                   گردنبند نقره Silver-Necklace        متفرقه   \n",
       "\n",
       "       brand_name_en  \\\n",
       "2           CAUDALIE   \n",
       "11     Miscellaneous   \n",
       "16     manto valiasr   \n",
       "26             limon   \n",
       "33     Miscellaneous   \n",
       "...              ...   \n",
       "99985  Miscellaneous   \n",
       "99986            Ako   \n",
       "99989  Miscellaneous   \n",
       "99993  Miscellaneous   \n",
       "99994  Miscellaneous   \n",
       "\n",
       "                                                                                                                                                                                            product_attributes  \\\n",
       "2      [{\"Key\":\"حجم\",\"Value\":\"50\"},{\"Key\":\"نوع عصاره\",\"Value\":\"حاوی روغن هسته انگور ارگانیک، روغن آرگان، روغن کنجد و شی باتر\"},{\"Key\":\"عصاره\",\"Value\":\"دارد\"},{\"Key\":\"ویژگی\",\"Value\":\"ضد چروک\"},{\"Key\":\"ویت...   \n",
       "11     [{\"Key\":\"وزن\",\"Value\":\"100\"},{\"Key\":\"جنس\",\"Value\":\"کتان\"},{\"Key\":\"جنس\",\"Value\":\"پنبه\"},{\"Key\":\"نوع یقه\",\"Value\":\"گرد\"},{\"Key\":\"پد\",\"Value\":\"ندارد\"},{\"Key\":\"کشور مبدا برند\",\"Value\":\"ایران\"},{\"Key\":...   \n",
       "16     [{\"Key\":\"تعداد جیب\",\"Value\":\"0\"},{\"Key\":\"کشور مبدا برند\",\"Value\":\"ایران\"},{\"Key\":\"مورد استفاده\",\"Value\":\"روزمره\"},{\"Key\":\"سایر توضیحات\",\"Value\":\"- جنس پارچه : شانتون\\r\\n- یقه مردانه\\r\\n- کمر برش د...   \n",
       "26     [{\"Key\":\"گنجایش\",\"Value\":\"1\"},{\"Key\":\"قابلیت شستشو\",\"Value\":\"دستی\"},{\"Key\":\"قابلیت شستشو\",\"Value\":\"ماشین ظرفشویی\"},{\"Key\":\"جنس پایه\"},{\"Key\":\"ابعاد\",\"Value\":\"7×16×20\"},{\"Key\":\"وزن بسته‌بندی\",\"Valu...   \n",
       "33     [{\"Key\":\"رزولوشن‌های تصویر\",\"Value\":\"1080*1920   1080p\\r\\n\"},{\"Key\":\"مشخصات اتصال\",\"Value\":\"IEEE802.11b\\/g\\/n\"},{\"Key\":\"قابلیت بزرگنمایی دیجیتال\",\"Value\":\"دارد\"},{\"Key\":\"نوع دوربین\",\"Value\":\"تحت ش...   \n",
       "...                                                                                                                                                                                                        ...   \n",
       "99985                                                                                                                                                                                                      NaN   \n",
       "99986                                                                                                                                                                                                      NaN   \n",
       "99989                                                                                                                                                                                                      NaN   \n",
       "99993                                                                                                                                                                                                      NaN   \n",
       "99994                                                                                                                                                                                                      NaN   \n",
       "\n",
       "       product_title_fa_length  product_title_en_length  url_code_length  \\\n",
       "2                           53                      NaN             53.0   \n",
       "11                          35                      NaN             35.0   \n",
       "16                          34                      NaN             34.0   \n",
       "26                          23                      NaN             23.0   \n",
       "33                          36                      NaN             36.0   \n",
       "...                        ...                      ...              ...   \n",
       "99985                       39                      NaN             39.0   \n",
       "99986                       56                      NaN             56.0   \n",
       "99989                       13                      NaN             13.0   \n",
       "99993                       14                      NaN             14.0   \n",
       "99994                       40                      NaN             40.0   \n",
       "\n",
       "       title_alt_length  \n",
       "2                   1.0  \n",
       "11                  1.0  \n",
       "16                  1.0  \n",
       "26                  1.0  \n",
       "33                  1.0  \n",
       "...                 ...  \n",
       "99985               1.0  \n",
       "99986               1.0  \n",
       "99989               1.0  \n",
       "99993               1.0  \n",
       "99994               1.0  \n",
       "\n",
       "[22623 rows x 14 columns]"
      ]
     },
     "execution_count": 148,
     "metadata": {},
     "output_type": "execute_result"
    }
   ],
   "source": [
    "not_valid_title_alt = products[ (products['title_alt_length']<3) ]      # not valid values\n",
    "products.loc[ (products['title_alt_length']<3) ,'title_alt'] = np.nan\n",
    "print(products.loc[8362]['product_title_fa'])\n",
    "print(type(products.loc[8362]['product_title_en']))\n",
    "not_valid_title_alt\n"
   ]
  },
  {
   "cell_type": "markdown",
   "metadata": {},
   "source": [
    "###### CATEGORY TITLE FA"
   ]
  },
  {
   "cell_type": "code",
   "execution_count": 149,
   "metadata": {},
   "outputs": [
    {
     "data": {
      "image/png": "[encoded data removed]",
      "text/plain": [
       "<Figure size 720x720 with 5 Axes>"
      ]
     },
     "metadata": {
      "needs_background": "light"
     },
     "output_type": "display_data"
    }
   ],
   "source": [
    "products['category_title_fa_length'] = products['category_title_fa'].str.len()\n",
    "attributes = ['category_title_fa_length']\n",
    "box_plot_table('product',attributes)"
   ]
  },
  {
   "cell_type": "code",
   "execution_count": 150,
   "metadata": {},
   "outputs": [
    {
     "name": "stdout",
     "output_type": "stream",
     "text": [
      "category_title_fa is clear for validity inherently\n"
     ]
    }
   ],
   "source": [
    "print(\"category_title_fa is clear for validity inherently\")"
   ]
  },
  {
   "cell_type": "markdown",
   "metadata": {},
   "source": [
    "###### CATEGORY KEYWORDS"
   ]
  },
  {
   "cell_type": "code",
   "execution_count": 151,
   "metadata": {},
   "outputs": [
    {
     "data": {
      "image/png": "[encoded data removed]",
      "text/plain": [
       "<Figure size 720x720 with 5 Axes>"
      ]
     },
     "metadata": {
      "needs_background": "light"
     },
     "output_type": "display_data"
    }
   ],
   "source": [
    "products['category_keywords_length'] = products['category_keywords'].str.len()\n",
    "products.loc[ (products['category_keywords_length'].isnull()) ,'category_keywords_length'] = 1\n",
    "attributes = ['category_keywords_length']\n",
    "box_plot_table('product',attributes)"
   ]
  },
  {
   "cell_type": "code",
   "execution_count": 152,
   "metadata": {},
   "outputs": [
    {
     "name": "stdout",
     "output_type": "stream",
     "text": [
      "category keywrods is clear for validity inherently\n"
     ]
    }
   ],
   "source": [
    "print(\"category keywrods is clear for validity inherently\")"
   ]
  },
  {
   "cell_type": "markdown",
   "metadata": {},
   "source": [
    "###### BRAND NAME FA"
   ]
  },
  {
   "cell_type": "code",
   "execution_count": 153,
   "metadata": {},
   "outputs": [
    {
     "data": {
      "image/png": "[encoded data removed]",
      "text/plain": [
       "<Figure size 720x720 with 5 Axes>"
      ]
     },
     "metadata": {
      "needs_background": "light"
     },
     "output_type": "display_data"
    }
   ],
   "source": [
    "products['brand_name_fa_length'] = products['brand_name_fa'].str.len()\n",
    "attributes = ['brand_name_fa_length']\n",
    "box_plot_table('product',attributes)"
   ]
  },
  {
   "cell_type": "code",
   "execution_count": 154,
   "metadata": {},
   "outputs": [
    {
     "name": "stdout",
     "output_type": "stream",
     "text": [
      "brand name fa is clear for validity inherently\n"
     ]
    }
   ],
   "source": [
    "print(\"brand name fa is clear for validity inherently\")\n"
   ]
  },
  {
   "cell_type": "markdown",
   "metadata": {},
   "source": [
    "###### BRAND NAME EN"
   ]
  },
  {
   "cell_type": "code",
   "execution_count": 155,
   "metadata": {},
   "outputs": [
    {
     "data": {
      "image/png": "[encoded data removed]",
      "text/plain": [
       "<Figure size 720x720 with 5 Axes>"
      ]
     },
     "metadata": {
      "needs_background": "light"
     },
     "output_type": "display_data"
    }
   ],
   "source": [
    "products['brand_name_en_length'] = products['brand_name_en'].str.len()\n",
    "attributes = ['brand_name_en_length']\n",
    "box_plot_table('product',attributes)"
   ]
  },
  {
   "cell_type": "code",
   "execution_count": 156,
   "metadata": {},
   "outputs": [
    {
     "name": "stdout",
     "output_type": "stream",
     "text": [
      "brand name en is clear for validity inherently\n"
     ]
    }
   ],
   "source": [
    "print(\"brand name en is clear for validity inherently\")\n"
   ]
  },
  {
   "cell_type": "markdown",
   "metadata": {},
   "source": [
    "###### PRODUCT ATTRUBURES"
   ]
  },
  {
   "cell_type": "code",
   "execution_count": 157,
   "metadata": {},
   "outputs": [
    {
     "name": "stderr",
     "output_type": "stream",
     "text": [
      "<ipython-input-135-a251f6938e71>:54: UserWarning: Attempting to set identical bottom == top == 1.0 results in singular transformations; automatically expanding.\n",
      "  ax1_down.set_ylim(min_value-(mean-q1),q3+(2*(q3-q1)))\n"
     ]
    },
    {
     "data": {
      "image/png": "[encoded data removed]",
      "text/plain": [
       "<Figure size 720x720 with 5 Axes>"
      ]
     },
     "metadata": {
      "needs_background": "light"
     },
     "output_type": "display_data"
    }
   ],
   "source": [
    "products['product_attributes_length'] = products['product_attributes'].str.len()\n",
    "products.loc[ (products['product_attributes_length'].isnull()) ,'product_attributes_length'] = 1\n",
    "\n",
    "attributes = ['product_attributes_length']\n",
    "box_plot_table('product',attributes)\n",
    "\n"
   ]
  },
  {
   "cell_type": "code",
   "execution_count": 158,
   "metadata": {},
   "outputs": [
    {
     "name": "stdout",
     "output_type": "stream",
     "text": [
      "product attributes is clear for validity inherently\n"
     ]
    }
   ],
   "source": [
    "print(\"product attributes is clear for validity inherently\")"
   ]
  },
  {
   "cell_type": "code",
   "execution_count": 159,
   "metadata": {},
   "outputs": [],
   "source": [
    "products.to_csv('product/product.csv')\n",
    "data.remove_from_DFrames(['product'])"
   ]
  },
  {
   "cell_type": "markdown",
   "metadata": {},
   "source": [
    "## ORDERS"
   ]
  },
  {
   "cell_type": "code",
   "execution_count": 160,
   "metadata": {},
   "outputs": [
    {
     "data": {
      "text/html": [
       "<div>\n",
       "<style scoped>\n",
       "    .dataframe tbody tr th:only-of-type {\n",
       "        vertical-align: middle;\n",
       "    }\n",
       "\n",
       "    .dataframe tbody tr th {\n",
       "        vertical-align: top;\n",
       "    }\n",
       "\n",
       "    .dataframe thead th {\n",
       "        text-align: right;\n",
       "    }\n",
       "</style>\n",
       "<table border=\"1\" class=\"dataframe\">\n",
       "  <thead>\n",
       "    <tr style=\"text-align: right;\">\n",
       "      <th></th>\n",
       "      <th>ID_Order</th>\n",
       "      <th>ID_Customer</th>\n",
       "      <th>ID_Item</th>\n",
       "      <th>DateTime_CartFinalize</th>\n",
       "      <th>Amount_Gross_Order</th>\n",
       "      <th>city_name_fa</th>\n",
       "      <th>Quantity_item</th>\n",
       "    </tr>\n",
       "  </thead>\n",
       "  <tbody>\n",
       "    <tr>\n",
       "      <th>0</th>\n",
       "      <td>2714054</td>\n",
       "      <td>469662</td>\n",
       "      <td>21386</td>\n",
       "      <td>2015-10-15 08:50:56.000</td>\n",
       "      <td>597982.0</td>\n",
       "      <td>محمود آباد</td>\n",
       "      <td>1.0</td>\n",
       "    </tr>\n",
       "    <tr>\n",
       "      <th>1</th>\n",
       "      <td>11104039</td>\n",
       "      <td>3063877</td>\n",
       "      <td>248497</td>\n",
       "      <td>2018-02-11 00:29:26.000</td>\n",
       "      <td>980000.0</td>\n",
       "      <td>خرمدره</td>\n",
       "      <td>1.0</td>\n",
       "    </tr>\n",
       "    <tr>\n",
       "      <th>2</th>\n",
       "      <td>4228130</td>\n",
       "      <td>3184893</td>\n",
       "      <td>50144</td>\n",
       "      <td>2016-06-14 00:30:08.000</td>\n",
       "      <td>229358.0</td>\n",
       "      <td>قرچک</td>\n",
       "      <td>1.0</td>\n",
       "    </tr>\n",
       "    <tr>\n",
       "      <th>3</th>\n",
       "      <td>22225624</td>\n",
       "      <td>6888562</td>\n",
       "      <td>70208</td>\n",
       "      <td>2018-09-03 14:37:19.000</td>\n",
       "      <td>16514.0</td>\n",
       "      <td>قم</td>\n",
       "      <td>1.0</td>\n",
       "    </tr>\n",
       "    <tr>\n",
       "      <th>4</th>\n",
       "      <td>4068771</td>\n",
       "      <td>2533490</td>\n",
       "      <td>67627</td>\n",
       "      <td>2016-05-21 11:51:02.000</td>\n",
       "      <td>133028.0</td>\n",
       "      <td>تهران</td>\n",
       "      <td>1.0</td>\n",
       "    </tr>\n",
       "  </tbody>\n",
       "</table>\n",
       "</div>"
      ],
      "text/plain": [
       "   ID_Order  ID_Customer  ID_Item    DateTime_CartFinalize  \\\n",
       "0   2714054       469662    21386  2015-10-15 08:50:56.000   \n",
       "1  11104039      3063877   248497  2018-02-11 00:29:26.000   \n",
       "2   4228130      3184893    50144  2016-06-14 00:30:08.000   \n",
       "3  22225624      6888562    70208  2018-09-03 14:37:19.000   \n",
       "4   4068771      2533490    67627  2016-05-21 11:51:02.000   \n",
       "\n",
       "   Amount_Gross_Order city_name_fa  Quantity_item  \n",
       "0            597982.0   محمود آباد            1.0  \n",
       "1            980000.0       خرمدره            1.0  \n",
       "2            229358.0         قرچک            1.0  \n",
       "3             16514.0           قم            1.0  \n",
       "4            133028.0        تهران            1.0  "
      ]
     },
     "execution_count": 160,
     "metadata": {},
     "output_type": "execute_result"
    }
   ],
   "source": [
    "data = Data()\n",
    "data_frames = data.load_into_DFrames({'orders':'csv'})\n",
    "orders = data_frames['orders']\n",
    "orders.head()"
   ]
  },
  {
   "cell_type": "code",
   "execution_count": 161,
   "metadata": {},
   "outputs": [
    {
     "data": {
      "image/png": "[encoded data removed]",
      "text/plain": [
       "<Figure size 720x720 with 5 Axes>"
      ]
     },
     "metadata": {
      "needs_background": "light"
     },
     "output_type": "display_data"
    }
   ],
   "source": [
    "attributes = ['ID_Item']\n",
    "box_plot_table('orders',attributes)"
   ]
  },
  {
   "cell_type": "markdown",
   "metadata": {},
   "source": [
    "###### AMOUNT OF GROSSS\n",
    "i coudlnt make any decision on it because i didnt know about its meaning maybe its better to remove it from table"
   ]
  },
  {
   "cell_type": "code",
   "execution_count": 162,
   "metadata": {},
   "outputs": [
    {
     "data": {
      "image/png": "[encoded data removed]",
      "text/plain": [
       "<Figure size 720x720 with 5 Axes>"
      ]
     },
     "metadata": {
      "needs_background": "light"
     },
     "output_type": "display_data"
    }
   ],
   "source": [
    "attributes = ['Amount_Gross_Order']\n",
    "box_plot_table('orders',attributes)"
   ]
  },
  {
   "cell_type": "markdown",
   "metadata": {},
   "source": [
    "###### DateTime_CartFinalize\n",
    "extract year,month,day,hour,minute and second from datetime cart finalize ans store in seperate columns"
   ]
  },
  {
   "cell_type": "code",
   "execution_count": 163,
   "metadata": {},
   "outputs": [],
   "source": [
    "import datetime\n",
    "orders['DateTime_CartFinalize'] = pd.to_datetime(orders.DateTime_CartFinalize)\n",
    "orders_P = orders.apply(lambda x:pd.Series([x.DateTime_CartFinalize.year,\n",
    "                                            x.DateTime_CartFinalize.month,\n",
    "                                            x.DateTime_CartFinalize.day,\n",
    "                                            x.DateTime_CartFinalize.hour,\n",
    "                                            x.DateTime_CartFinalize.minute,\n",
    "                                            x.DateTime_CartFinalize.second],\n",
    "                                           index=['year_CartFinalize',\n",
    "                                                  'month_CartFinalize',\n",
    "                                                  'day_CartFinalize',\n",
    "                                                 'hour_CartFinalize',\n",
    "                                                  'minute_CartFinalize',\n",
    "                                                 'second_CartFinalize']), axis = 1)\n"
   ]
  },
  {
   "cell_type": "code",
   "execution_count": 164,
   "metadata": {},
   "outputs": [
    {
     "data": {
      "text/html": [
       "<div>\n",
       "<style scoped>\n",
       "    .dataframe tbody tr th:only-of-type {\n",
       "        vertical-align: middle;\n",
       "    }\n",
       "\n",
       "    .dataframe tbody tr th {\n",
       "        vertical-align: top;\n",
       "    }\n",
       "\n",
       "    .dataframe thead th {\n",
       "        text-align: right;\n",
       "    }\n",
       "</style>\n",
       "<table border=\"1\" class=\"dataframe\">\n",
       "  <thead>\n",
       "    <tr style=\"text-align: right;\">\n",
       "      <th></th>\n",
       "      <th>ID_Order</th>\n",
       "      <th>ID_Customer</th>\n",
       "      <th>ID_Item</th>\n",
       "      <th>DateTime_CartFinalize</th>\n",
       "      <th>Amount_Gross_Order</th>\n",
       "      <th>city_name_fa</th>\n",
       "      <th>Quantity_item</th>\n",
       "      <th>year_CartFinalize</th>\n",
       "      <th>month_CartFinalize</th>\n",
       "      <th>day_CartFinalize</th>\n",
       "      <th>hour_CartFinalize</th>\n",
       "      <th>minute_CartFinalize</th>\n",
       "      <th>second_CartFinalize</th>\n",
       "    </tr>\n",
       "  </thead>\n",
       "  <tbody>\n",
       "    <tr>\n",
       "      <th>0</th>\n",
       "      <td>2714054</td>\n",
       "      <td>469662</td>\n",
       "      <td>21386</td>\n",
       "      <td>2015-10-15 08:50:56</td>\n",
       "      <td>597982.0</td>\n",
       "      <td>محمود آباد</td>\n",
       "      <td>1.0</td>\n",
       "      <td>2015</td>\n",
       "      <td>10</td>\n",
       "      <td>15</td>\n",
       "      <td>8</td>\n",
       "      <td>50</td>\n",
       "      <td>56</td>\n",
       "    </tr>\n",
       "    <tr>\n",
       "      <th>1</th>\n",
       "      <td>11104039</td>\n",
       "      <td>3063877</td>\n",
       "      <td>248497</td>\n",
       "      <td>2018-02-11 00:29:26</td>\n",
       "      <td>980000.0</td>\n",
       "      <td>خرمدره</td>\n",
       "      <td>1.0</td>\n",
       "      <td>2018</td>\n",
       "      <td>2</td>\n",
       "      <td>11</td>\n",
       "      <td>0</td>\n",
       "      <td>29</td>\n",
       "      <td>26</td>\n",
       "    </tr>\n",
       "    <tr>\n",
       "      <th>2</th>\n",
       "      <td>4228130</td>\n",
       "      <td>3184893</td>\n",
       "      <td>50144</td>\n",
       "      <td>2016-06-14 00:30:08</td>\n",
       "      <td>229358.0</td>\n",
       "      <td>قرچک</td>\n",
       "      <td>1.0</td>\n",
       "      <td>2016</td>\n",
       "      <td>6</td>\n",
       "      <td>14</td>\n",
       "      <td>0</td>\n",
       "      <td>30</td>\n",
       "      <td>8</td>\n",
       "    </tr>\n",
       "    <tr>\n",
       "      <th>3</th>\n",
       "      <td>22225624</td>\n",
       "      <td>6888562</td>\n",
       "      <td>70208</td>\n",
       "      <td>2018-09-03 14:37:19</td>\n",
       "      <td>16514.0</td>\n",
       "      <td>قم</td>\n",
       "      <td>1.0</td>\n",
       "      <td>2018</td>\n",
       "      <td>9</td>\n",
       "      <td>3</td>\n",
       "      <td>14</td>\n",
       "      <td>37</td>\n",
       "      <td>19</td>\n",
       "    </tr>\n",
       "    <tr>\n",
       "      <th>4</th>\n",
       "      <td>4068771</td>\n",
       "      <td>2533490</td>\n",
       "      <td>67627</td>\n",
       "      <td>2016-05-21 11:51:02</td>\n",
       "      <td>133028.0</td>\n",
       "      <td>تهران</td>\n",
       "      <td>1.0</td>\n",
       "      <td>2016</td>\n",
       "      <td>5</td>\n",
       "      <td>21</td>\n",
       "      <td>11</td>\n",
       "      <td>51</td>\n",
       "      <td>2</td>\n",
       "    </tr>\n",
       "    <tr>\n",
       "      <th>...</th>\n",
       "      <td>...</td>\n",
       "      <td>...</td>\n",
       "      <td>...</td>\n",
       "      <td>...</td>\n",
       "      <td>...</td>\n",
       "      <td>...</td>\n",
       "      <td>...</td>\n",
       "      <td>...</td>\n",
       "      <td>...</td>\n",
       "      <td>...</td>\n",
       "      <td>...</td>\n",
       "      <td>...</td>\n",
       "      <td>...</td>\n",
       "    </tr>\n",
       "    <tr>\n",
       "      <th>199995</th>\n",
       "      <td>12172771</td>\n",
       "      <td>4403268</td>\n",
       "      <td>445940</td>\n",
       "      <td>2018-04-03 12:07:01</td>\n",
       "      <td>344037.0</td>\n",
       "      <td>تهران</td>\n",
       "      <td>2.0</td>\n",
       "      <td>2018</td>\n",
       "      <td>4</td>\n",
       "      <td>3</td>\n",
       "      <td>12</td>\n",
       "      <td>7</td>\n",
       "      <td>1</td>\n",
       "    </tr>\n",
       "    <tr>\n",
       "      <th>199996</th>\n",
       "      <td>4425393</td>\n",
       "      <td>3745774</td>\n",
       "      <td>131645</td>\n",
       "      <td>2016-07-09 19:14:09</td>\n",
       "      <td>600000.0</td>\n",
       "      <td>محمدیه</td>\n",
       "      <td>1.0</td>\n",
       "      <td>2016</td>\n",
       "      <td>7</td>\n",
       "      <td>9</td>\n",
       "      <td>19</td>\n",
       "      <td>14</td>\n",
       "      <td>9</td>\n",
       "    </tr>\n",
       "    <tr>\n",
       "      <th>199997</th>\n",
       "      <td>6671889</td>\n",
       "      <td>4845514</td>\n",
       "      <td>215045</td>\n",
       "      <td>2017-03-08 23:47:06</td>\n",
       "      <td>450000.0</td>\n",
       "      <td>اصفهان</td>\n",
       "      <td>1.0</td>\n",
       "      <td>2017</td>\n",
       "      <td>3</td>\n",
       "      <td>8</td>\n",
       "      <td>23</td>\n",
       "      <td>47</td>\n",
       "      <td>6</td>\n",
       "    </tr>\n",
       "    <tr>\n",
       "      <th>199998</th>\n",
       "      <td>6315995</td>\n",
       "      <td>2541418</td>\n",
       "      <td>264021</td>\n",
       "      <td>2017-02-08 14:59:39</td>\n",
       "      <td>193486.0</td>\n",
       "      <td>همدان</td>\n",
       "      <td>1.0</td>\n",
       "      <td>2017</td>\n",
       "      <td>2</td>\n",
       "      <td>8</td>\n",
       "      <td>14</td>\n",
       "      <td>59</td>\n",
       "      <td>39</td>\n",
       "    </tr>\n",
       "    <tr>\n",
       "      <th>199999</th>\n",
       "      <td>7584127</td>\n",
       "      <td>1342585</td>\n",
       "      <td>89427</td>\n",
       "      <td>2017-06-17 10:08:06</td>\n",
       "      <td>55046.0</td>\n",
       "      <td>بندر انزلی</td>\n",
       "      <td>1.0</td>\n",
       "      <td>2017</td>\n",
       "      <td>6</td>\n",
       "      <td>17</td>\n",
       "      <td>10</td>\n",
       "      <td>8</td>\n",
       "      <td>6</td>\n",
       "    </tr>\n",
       "  </tbody>\n",
       "</table>\n",
       "<p>200000 rows × 13 columns</p>\n",
       "</div>"
      ],
      "text/plain": [
       "        ID_Order  ID_Customer  ID_Item DateTime_CartFinalize  \\\n",
       "0        2714054       469662    21386   2015-10-15 08:50:56   \n",
       "1       11104039      3063877   248497   2018-02-11 00:29:26   \n",
       "2        4228130      3184893    50144   2016-06-14 00:30:08   \n",
       "3       22225624      6888562    70208   2018-09-03 14:37:19   \n",
       "4        4068771      2533490    67627   2016-05-21 11:51:02   \n",
       "...          ...          ...      ...                   ...   \n",
       "199995  12172771      4403268   445940   2018-04-03 12:07:01   \n",
       "199996   4425393      3745774   131645   2016-07-09 19:14:09   \n",
       "199997   6671889      4845514   215045   2017-03-08 23:47:06   \n",
       "199998   6315995      2541418   264021   2017-02-08 14:59:39   \n",
       "199999   7584127      1342585    89427   2017-06-17 10:08:06   \n",
       "\n",
       "        Amount_Gross_Order city_name_fa  Quantity_item  year_CartFinalize  \\\n",
       "0                 597982.0   محمود آباد            1.0               2015   \n",
       "1                 980000.0       خرمدره            1.0               2018   \n",
       "2                 229358.0         قرچک            1.0               2016   \n",
       "3                  16514.0           قم            1.0               2018   \n",
       "4                 133028.0        تهران            1.0               2016   \n",
       "...                    ...          ...            ...                ...   \n",
       "199995            344037.0        تهران            2.0               2018   \n",
       "199996            600000.0       محمدیه            1.0               2016   \n",
       "199997            450000.0       اصفهان            1.0               2017   \n",
       "199998            193486.0        همدان            1.0               2017   \n",
       "199999             55046.0   بندر انزلی            1.0               2017   \n",
       "\n",
       "        month_CartFinalize  day_CartFinalize  hour_CartFinalize  \\\n",
       "0                       10                15                  8   \n",
       "1                        2                11                  0   \n",
       "2                        6                14                  0   \n",
       "3                        9                 3                 14   \n",
       "4                        5                21                 11   \n",
       "...                    ...               ...                ...   \n",
       "199995                   4                 3                 12   \n",
       "199996                   7                 9                 19   \n",
       "199997                   3                 8                 23   \n",
       "199998                   2                 8                 14   \n",
       "199999                   6                17                 10   \n",
       "\n",
       "        minute_CartFinalize  second_CartFinalize  \n",
       "0                        50                   56  \n",
       "1                        29                   26  \n",
       "2                        30                    8  \n",
       "3                        37                   19  \n",
       "4                        51                    2  \n",
       "...                     ...                  ...  \n",
       "199995                    7                    1  \n",
       "199996                   14                    9  \n",
       "199997                   47                    6  \n",
       "199998                   59                   39  \n",
       "199999                    8                    6  \n",
       "\n",
       "[200000 rows x 13 columns]"
      ]
     },
     "execution_count": 164,
     "metadata": {},
     "output_type": "execute_result"
    }
   ],
   "source": [
    "orders = pd.concat([orders,orders_P],axis=1)\n",
    "orders"
   ]
  },
  {
   "cell_type": "markdown",
   "metadata": {},
   "source": [
    "###### year"
   ]
  },
  {
   "cell_type": "code",
   "execution_count": 165,
   "metadata": {},
   "outputs": [
    {
     "data": {
      "image/png": "[encoded data removed]",
      "text/plain": [
       "<Figure size 720x720 with 5 Axes>"
      ]
     },
     "metadata": {
      "needs_background": "light"
     },
     "output_type": "display_data"
    }
   ],
   "source": [
    "data.data_frames['orders'] = orders\n",
    "attributes = ['year_CartFinalize']\n",
    "box_plot_table('orders',attributes)"
   ]
  },
  {
   "cell_type": "code",
   "execution_count": 166,
   "metadata": {},
   "outputs": [
    {
     "name": "stdout",
     "output_type": "stream",
     "text": [
      "year and day and month is clear for validity inherently\n"
     ]
    }
   ],
   "source": [
    "print(\"year and day and month is clear for validity inherently\")"
   ]
  },
  {
   "cell_type": "markdown",
   "metadata": {},
   "source": [
    "###### QUNATITY ITEM\n",
    "it is clear for validation"
   ]
  },
  {
   "cell_type": "code",
   "execution_count": 167,
   "metadata": {},
   "outputs": [
    {
     "name": "stderr",
     "output_type": "stream",
     "text": [
      "<ipython-input-135-a251f6938e71>:54: UserWarning: Attempting to set identical bottom == top == 1.0 results in singular transformations; automatically expanding.\n",
      "  ax1_down.set_ylim(min_value-(mean-q1),q3+(2*(q3-q1)))\n"
     ]
    },
    {
     "data": {
      "image/png": "[encoded data removed]",
      "text/plain": [
       "<Figure size 720x720 with 5 Axes>"
      ]
     },
     "metadata": {
      "needs_background": "light"
     },
     "output_type": "display_data"
    }
   ],
   "source": [
    "attributes = ['Quantity_item']\n",
    "box_plot_table('orders',attributes)"
   ]
  },
  {
   "cell_type": "code",
   "execution_count": 168,
   "metadata": {},
   "outputs": [],
   "source": [
    "products.to_csv('product/product.csv')\n",
    "data.remove_from_DFrames(['orders'])"
   ]
  },
  {
   "cell_type": "markdown",
   "metadata": {},
   "source": [
    "## COMMENTS"
   ]
  },
  {
   "cell_type": "code",
   "execution_count": 169,
   "metadata": {},
   "outputs": [
    {
     "data": {
      "text/html": [
       "<div>\n",
       "<style scoped>\n",
       "    .dataframe tbody tr th:only-of-type {\n",
       "        vertical-align: middle;\n",
       "    }\n",
       "\n",
       "    .dataframe tbody tr th {\n",
       "        vertical-align: top;\n",
       "    }\n",
       "\n",
       "    .dataframe thead th {\n",
       "        text-align: right;\n",
       "    }\n",
       "</style>\n",
       "<table border=\"1\" class=\"dataframe\">\n",
       "  <thead>\n",
       "    <tr style=\"text-align: right;\">\n",
       "      <th></th>\n",
       "      <th>product_id</th>\n",
       "      <th>confirmed_at</th>\n",
       "      <th>comment</th>\n",
       "    </tr>\n",
       "  </thead>\n",
       "  <tbody>\n",
       "    <tr>\n",
       "      <th>0</th>\n",
       "      <td>90213</td>\n",
       "      <td>2018-08-23 11:05:47</td>\n",
       "      <td>سلام، قبل اینکه نظرم رو بگم میخواستم به یک موضوع مهم اشاره کنم که نظراتی که ما برای کالاها ثبت میکنیم خیلی مهم هستن، چون بسیاری از مردم عزیز با استناد به این نظرات یک کالا رو خریداری میکنن. پس بهت...</td>\n",
       "    </tr>\n",
       "    <tr>\n",
       "      <th>1</th>\n",
       "      <td>56871</td>\n",
       "      <td>2018-08-23 10:21:53</td>\n",
       "      <td>بوی تند ولی خوشبو داره.ماندگاریش خوبه و هر چقدر میگذره خوشبوتر میشه..</td>\n",
       "    </tr>\n",
       "    <tr>\n",
       "      <th>2</th>\n",
       "      <td>49738</td>\n",
       "      <td>2018-10-13 11:13:39</td>\n",
       "      <td>متاسفانه عمر مفید این ماشین کم هست و بعد از دو سال دیگه با باطری کار نمیکنه و گیر میکنه به نحوی که هیچیک از دکمه ها کار نمیکنه تا چند ساعت در این حالت میمونه دوباره با اتصال به برق کار میکنه</td>\n",
       "    </tr>\n",
       "  </tbody>\n",
       "</table>\n",
       "</div>"
      ],
      "text/plain": [
       "   product_id         confirmed_at  \\\n",
       "0       90213  2018-08-23 11:05:47   \n",
       "1       56871  2018-08-23 10:21:53   \n",
       "2       49738  2018-10-13 11:13:39   \n",
       "\n",
       "                                                                                                                                                                                                   comment  \n",
       "0  سلام، قبل اینکه نظرم رو بگم میخواستم به یک موضوع مهم اشاره کنم که نظراتی که ما برای کالاها ثبت میکنیم خیلی مهم هستن، چون بسیاری از مردم عزیز با استناد به این نظرات یک کالا رو خریداری میکنن. پس بهت...  \n",
       "1                                                                                                                                    بوی تند ولی خوشبو داره.ماندگاریش خوبه و هر چقدر میگذره خوشبوتر میشه..  \n",
       "2           متاسفانه عمر مفید این ماشین کم هست و بعد از دو سال دیگه با باطری کار نمیکنه و گیر میکنه به نحوی که هیچیک از دکمه ها کار نمیکنه تا چند ساعت در این حالت میمونه دوباره با اتصال به برق کار میکنه  "
      ]
     },
     "execution_count": 169,
     "metadata": {},
     "output_type": "execute_result"
    }
   ],
   "source": [
    "data.load_into_DFrames({'comment':'xlsx'})\n",
    "comments = data.data_frames['comment']\n",
    "data.data_frames['comment'].head(3)"
   ]
  },
  {
   "cell_type": "code",
   "execution_count": 170,
   "metadata": {},
   "outputs": [
    {
     "data": {
      "image/png": "[encoded data removed]",
      "text/plain": [
       "<Figure size 720x720 with 5 Axes>"
      ]
     },
     "metadata": {
      "needs_background": "light"
     },
     "output_type": "display_data"
    }
   ],
   "source": [
    "attributes = ['product_id']\n",
    "box_plot_table('comment',attributes)"
   ]
  },
  {
   "cell_type": "markdown",
   "metadata": {},
   "source": [
    "###### COMMENT"
   ]
  },
  {
   "cell_type": "code",
   "execution_count": 171,
   "metadata": {},
   "outputs": [
    {
     "data": {
      "image/png": "[encoded data removed]",
      "text/plain": [
       "<Figure size 720x720 with 5 Axes>"
      ]
     },
     "metadata": {
      "needs_background": "light"
     },
     "output_type": "display_data"
    }
   ],
   "source": [
    "comments['comment_length'] = comments.comment.str.len()\n",
    "comments.loc[comments.comment_length.isnull(),'comment_length'] = 1\n",
    "data.data_frames['comment'] = comments\n",
    "attributes = ['comment_length']\n",
    "box_plot_table('comment',attributes)"
   ]
  },
  {
   "cell_type": "code",
   "execution_count": 172,
   "metadata": {},
   "outputs": [],
   "source": [
    "data.remove_from_DFrames(['comment'])"
   ]
  },
  {
   "cell_type": "markdown",
   "metadata": {},
   "source": [
    "## TARIKHCHE KHARID"
   ]
  },
  {
   "cell_type": "code",
   "execution_count": 173,
   "metadata": {},
   "outputs": [
    {
     "data": {
      "text/html": [
       "<div>\n",
       "<style scoped>\n",
       "    .dataframe tbody tr th:only-of-type {\n",
       "        vertical-align: middle;\n",
       "    }\n",
       "\n",
       "    .dataframe tbody tr th {\n",
       "        vertical-align: top;\n",
       "    }\n",
       "\n",
       "    .dataframe thead th {\n",
       "        text-align: right;\n",
       "    }\n",
       "</style>\n",
       "<table border=\"1\" class=\"dataframe\">\n",
       "  <thead>\n",
       "    <tr style=\"text-align: right;\">\n",
       "      <th></th>\n",
       "      <th>id</th>\n",
       "      <th>product_variant_id</th>\n",
       "      <th>selling_price</th>\n",
       "      <th>rrp_price</th>\n",
       "      <th>base_price</th>\n",
       "      <th>buy_price</th>\n",
       "      <th>order_limit</th>\n",
       "      <th>start_at</th>\n",
       "      <th>end_at</th>\n",
       "      <th>tags</th>\n",
       "      <th>show_in_price_history</th>\n",
       "      <th>active</th>\n",
       "      <th>created_at</th>\n",
       "      <th>product_id</th>\n",
       "      <th>marketplace_seller_id</th>\n",
       "    </tr>\n",
       "  </thead>\n",
       "  <tbody>\n",
       "    <tr>\n",
       "      <th>0</th>\n",
       "      <td>18752043</td>\n",
       "      <td>1977385</td>\n",
       "      <td>850000</td>\n",
       "      <td>850000</td>\n",
       "      <td>\\N</td>\n",
       "      <td>\\N</td>\n",
       "      <td>1</td>\n",
       "      <td>\\N</td>\n",
       "      <td>\\N</td>\n",
       "      <td>\\N</td>\n",
       "      <td>1</td>\n",
       "      <td>1</td>\n",
       "      <td>2018-11-26 18:59:52</td>\n",
       "      <td>667969</td>\n",
       "      <td>2962</td>\n",
       "    </tr>\n",
       "    <tr>\n",
       "      <th>1</th>\n",
       "      <td>18752022</td>\n",
       "      <td>1977380</td>\n",
       "      <td>12550000</td>\n",
       "      <td>12550000</td>\n",
       "      <td>\\N</td>\n",
       "      <td>\\N</td>\n",
       "      <td>2</td>\n",
       "      <td>\\N</td>\n",
       "      <td>\\N</td>\n",
       "      <td>\\N</td>\n",
       "      <td>1</td>\n",
       "      <td>0</td>\n",
       "      <td>2018-11-26 18:59:31</td>\n",
       "      <td>150144</td>\n",
       "      <td>78525</td>\n",
       "    </tr>\n",
       "    <tr>\n",
       "      <th>2</th>\n",
       "      <td>18752046</td>\n",
       "      <td>1977380</td>\n",
       "      <td>12500000</td>\n",
       "      <td>12500000</td>\n",
       "      <td>\\N</td>\n",
       "      <td>\\N</td>\n",
       "      <td>2</td>\n",
       "      <td>\\N</td>\n",
       "      <td>\\N</td>\n",
       "      <td>\\N</td>\n",
       "      <td>1</td>\n",
       "      <td>1</td>\n",
       "      <td>2018-11-26 18:59:55</td>\n",
       "      <td>150144</td>\n",
       "      <td>78525</td>\n",
       "    </tr>\n",
       "  </tbody>\n",
       "</table>\n",
       "</div>"
      ],
      "text/plain": [
       "         id  product_variant_id  selling_price  rrp_price base_price  \\\n",
       "0  18752043             1977385         850000     850000         \\N   \n",
       "1  18752022             1977380       12550000   12550000         \\N   \n",
       "2  18752046             1977380       12500000   12500000         \\N   \n",
       "\n",
       "  buy_price  order_limit start_at end_at tags  show_in_price_history  active  \\\n",
       "0        \\N            1       \\N     \\N   \\N                      1       1   \n",
       "1        \\N            2       \\N     \\N   \\N                      1       0   \n",
       "2        \\N            2       \\N     \\N   \\N                      1       1   \n",
       "\n",
       "            created_at  product_id  marketplace_seller_id  \n",
       "0  2018-11-26 18:59:52      667969                   2962  \n",
       "1  2018-11-26 18:59:31      150144                  78525  \n",
       "2  2018-11-26 18:59:55      150144                  78525  "
      ]
     },
     "execution_count": 173,
     "metadata": {},
     "output_type": "execute_result"
    }
   ],
   "source": [
    "data.load_into_DFrames({'tarikhche kharid':'csv'})\n",
    "tarikhche_kharid = data.data_frames['tarikhche kharid']\n",
    "data.data_frames['tarikhche kharid'].head(3)"
   ]
  },
  {
   "cell_type": "code",
   "execution_count": 174,
   "metadata": {},
   "outputs": [
    {
     "data": {
      "image/png": "[encoded data removed]",
      "text/plain": [
       "<Figure size 720x720 with 5 Axes>"
      ]
     },
     "metadata": {
      "needs_background": "light"
     },
     "output_type": "display_data"
    },
    {
     "data": {
      "image/png": "[encoded data removed]",
      "text/plain": [
       "<Figure size 720x720 with 5 Axes>"
      ]
     },
     "metadata": {
      "needs_background": "light"
     },
     "output_type": "display_data"
    }
   ],
   "source": [
    "attributes = ['product_variant_id','product_id']\n",
    "box_plot_table('tarikhche kharid',attributes)"
   ]
  },
  {
   "cell_type": "markdown",
   "metadata": {},
   "source": [
    "###### SELLING PRICE"
   ]
  },
  {
   "cell_type": "code",
   "execution_count": 175,
   "metadata": {},
   "outputs": [
    {
     "data": {
      "image/png": "[encoded data removed]",
      "text/plain": [
       "<Figure size 720x720 with 5 Axes>"
      ]
     },
     "metadata": {
      "needs_background": "light"
     },
     "output_type": "display_data"
    }
   ],
   "source": [
    "attributes = ['selling_price']\n",
    "box_plot_table('tarikhche kharid',attributes)"
   ]
  },
  {
   "cell_type": "markdown",
   "metadata": {},
   "source": [
    "###### those values that are smaller than 1000 are invalid so are set to nan"
   ]
  },
  {
   "cell_type": "code",
   "execution_count": 176,
   "metadata": {},
   "outputs": [],
   "source": [
    "tarikhche_kharid.loc[tarikhche_kharid['selling_price'] < 1000,'selling_price'] = np.nan"
   ]
  },
  {
   "cell_type": "markdown",
   "metadata": {},
   "source": [
    "###### RRP PRICE"
   ]
  },
  {
   "cell_type": "code",
   "execution_count": 177,
   "metadata": {},
   "outputs": [
    {
     "data": {
      "image/png": "[encoded data removed]",
      "text/plain": [
       "<Figure size 720x720 with 5 Axes>"
      ]
     },
     "metadata": {
      "needs_background": "light"
     },
     "output_type": "display_data"
    }
   ],
   "source": [
    "attributes = ['rrp_price']\n",
    "box_plot_table('tarikhche kharid',attributes)"
   ]
  },
  {
   "cell_type": "markdown",
   "metadata": {},
   "source": [
    "###### those values that are smaller than 1000 are invalid so are set to nan"
   ]
  },
  {
   "cell_type": "code",
   "execution_count": 178,
   "metadata": {},
   "outputs": [],
   "source": [
    "tarikhche_kharid.loc[tarikhche_kharid['rrp_price']<1000,'rrp_price'] = np.nan"
   ]
  },
  {
   "cell_type": "markdown",
   "metadata": {},
   "source": [
    "###### BASE PRICE"
   ]
  },
  {
   "cell_type": "markdown",
   "metadata": {},
   "source": [
    "###### almost the whole columns is null ==>> removve it"
   ]
  },
  {
   "cell_type": "code",
   "execution_count": 179,
   "metadata": {},
   "outputs": [
    {
     "data": {
      "text/plain": [
       "True"
      ]
     },
     "execution_count": 179,
     "metadata": {},
     "output_type": "execute_result"
    }
   ],
   "source": [
    "len(tarikhche_kharid.base_price.isnull()) == len(tarikhche_kharid)"
   ]
  },
  {
   "cell_type": "markdown",
   "metadata": {},
   "source": [
    "###### BUY PRICE"
   ]
  },
  {
   "cell_type": "markdown",
   "metadata": {},
   "source": [
    "###### almost the whole columns is null ==>> removve it"
   ]
  },
  {
   "cell_type": "code",
   "execution_count": 180,
   "metadata": {},
   "outputs": [
    {
     "data": {
      "text/plain": [
       "True"
      ]
     },
     "execution_count": 180,
     "metadata": {},
     "output_type": "execute_result"
    }
   ],
   "source": [
    "len(tarikhche_kharid.buy_price.isnull()) == len(tarikhche_kharid)"
   ]
  },
  {
   "cell_type": "markdown",
   "metadata": {},
   "source": [
    "###### ORDER LIMIT"
   ]
  },
  {
   "cell_type": "code",
   "execution_count": 181,
   "metadata": {},
   "outputs": [
    {
     "data": {
      "image/png": "[encoded data removed]",
      "text/plain": [
       "<Figure size 720x720 with 5 Axes>"
      ]
     },
     "metadata": {
      "needs_background": "light"
     },
     "output_type": "display_data"
    }
   ],
   "source": [
    "attributes = ['order_limit']\n",
    "box_plot_table('tarikhche kharid',attributes)"
   ]
  },
  {
   "cell_type": "code",
   "execution_count": 182,
   "metadata": {},
   "outputs": [
    {
     "name": "stdout",
     "output_type": "stream",
     "text": [
      "order limit is clear for validation\n"
     ]
    }
   ],
   "source": [
    "print(\"order limit is clear for validation\")"
   ]
  },
  {
   "cell_type": "markdown",
   "metadata": {},
   "source": [
    "###### SHOW IN PRICE"
   ]
  },
  {
   "cell_type": "code",
   "execution_count": 183,
   "metadata": {},
   "outputs": [
    {
     "name": "stdout",
     "output_type": "stream",
     "text": [
      "in show in price column there is no value except boolean so its clear for validity\n"
     ]
    }
   ],
   "source": [
    "print(\"in show in price column there is no value except boolean so its clear for validity\")"
   ]
  },
  {
   "cell_type": "markdown",
   "metadata": {},
   "source": [
    "###### ACTIVE"
   ]
  },
  {
   "cell_type": "code",
   "execution_count": 184,
   "metadata": {},
   "outputs": [
    {
     "name": "stdout",
     "output_type": "stream",
     "text": [
      "in active column there is no value except boolean so its clear for validity\n"
     ]
    }
   ],
   "source": [
    "print(\"in active column there is no value except boolean so its clear for validity\")"
   ]
  },
  {
   "cell_type": "markdown",
   "metadata": {},
   "source": [
    "## KEIFIAT"
   ]
  },
  {
   "cell_type": "code",
   "execution_count": 185,
   "metadata": {},
   "outputs": [
    {
     "data": {
      "text/html": [
       "<div>\n",
       "<style scoped>\n",
       "    .dataframe tbody tr th:only-of-type {\n",
       "        vertical-align: middle;\n",
       "    }\n",
       "\n",
       "    .dataframe tbody tr th {\n",
       "        vertical-align: top;\n",
       "    }\n",
       "\n",
       "    .dataframe thead th {\n",
       "        text-align: right;\n",
       "    }\n",
       "</style>\n",
       "<table border=\"1\" class=\"dataframe\">\n",
       "  <thead>\n",
       "    <tr style=\"text-align: right;\">\n",
       "      <th></th>\n",
       "      <th>product_id</th>\n",
       "      <th>product_title</th>\n",
       "      <th>title_en</th>\n",
       "      <th>user_id</th>\n",
       "      <th>likes</th>\n",
       "      <th>dislikes</th>\n",
       "      <th>verification_status</th>\n",
       "      <th>recommend</th>\n",
       "      <th>title</th>\n",
       "      <th>comment</th>\n",
       "      <th>advantages</th>\n",
       "      <th>disadvantages</th>\n",
       "    </tr>\n",
       "  </thead>\n",
       "  <tbody>\n",
       "    <tr>\n",
       "      <th>0</th>\n",
       "      <td>3692</td>\n",
       "      <td>ماوس بی‌سیم لاجیتک مدل M325</td>\n",
       "      <td>IT</td>\n",
       "      <td>989472</td>\n",
       "      <td>0</td>\n",
       "      <td>0</td>\n",
       "      <td>verified</td>\n",
       "      <td>\\N</td>\n",
       "      <td>NaN</td>\n",
       "      <td>واقعا عالیه. من که ازش خیلی راضیم</td>\n",
       "      <td>NaN</td>\n",
       "      <td>NaN</td>\n",
       "    </tr>\n",
       "    <tr>\n",
       "      <th>1</th>\n",
       "      <td>90213</td>\n",
       "      <td>شارژر همراه شیاومی مدل NDY-02-AN با ظرفیت 10000 میلی آمپر ساعت</td>\n",
       "      <td>AC</td>\n",
       "      <td>3862150</td>\n",
       "      <td>4</td>\n",
       "      <td>1</td>\n",
       "      <td>verified</td>\n",
       "      <td>recommended</td>\n",
       "      <td>واقعاً عالیه</td>\n",
       "      <td>سلام، قبل اینکه نظرم رو بگم میخواستم به یک موضوع مهم اشاره کنم که نظراتی که ما برای کالاها ثبت میکنیم خیلی مهم هستن، چون بسیاری از مردم عزیز با استناد به این نظرات یک کالا رو خریداری میکنن. پس بهت...</td>\n",
       "      <td>[\"عمر طولانی\\r\",\"افت بسیار کم میزان شارژ\\r\",\"امپر خروجی هوشمند متناسب با امپر گوشی\"]</td>\n",
       "      <td>[\"ندارد\"]</td>\n",
       "    </tr>\n",
       "    <tr>\n",
       "      <th>2</th>\n",
       "      <td>59473</td>\n",
       "      <td>یدک پولیشر میکروفایبر مهسان مدل 20119</td>\n",
       "      <td>HW</td>\n",
       "      <td>626843</td>\n",
       "      <td>1</td>\n",
       "      <td>0</td>\n",
       "      <td>verified</td>\n",
       "      <td>not_recommended</td>\n",
       "      <td>خیلی سخت حوله اش در میاد</td>\n",
       "      <td>گیره های فلزی خیلی سخت تا میشوند و لذا حوله را خیلی سخت می توان در آورد \\r\\n\\r\\nمهسان یه مدل دیگه داره که پلاستیکی هست و خیلی ساده و راحت خم می شود\\r\\n\\r\\nبه نظرم تولید این طرح را باید متوقف کنن چ...</td>\n",
       "      <td>NaN</td>\n",
       "      <td>NaN</td>\n",
       "    </tr>\n",
       "  </tbody>\n",
       "</table>\n",
       "</div>"
      ],
      "text/plain": [
       "   product_id                                                   product_title  \\\n",
       "0        3692                                     ماوس بی‌سیم لاجیتک مدل M325   \n",
       "1       90213  شارژر همراه شیاومی مدل NDY-02-AN با ظرفیت 10000 میلی آمپر ساعت   \n",
       "2       59473                           یدک پولیشر میکروفایبر مهسان مدل 20119   \n",
       "\n",
       "  title_en  user_id  likes  dislikes verification_status        recommend  \\\n",
       "0       IT   989472      0         0            verified               \\N   \n",
       "1       AC  3862150      4         1            verified      recommended   \n",
       "2       HW   626843      1         0            verified  not_recommended   \n",
       "\n",
       "                      title  \\\n",
       "0                       NaN   \n",
       "1              واقعاً عالیه   \n",
       "2  خیلی سخت حوله اش در میاد   \n",
       "\n",
       "                                                                                                                                                                                                   comment  \\\n",
       "0                                                                                                                                                                        واقعا عالیه. من که ازش خیلی راضیم   \n",
       "1  سلام، قبل اینکه نظرم رو بگم میخواستم به یک موضوع مهم اشاره کنم که نظراتی که ما برای کالاها ثبت میکنیم خیلی مهم هستن، چون بسیاری از مردم عزیز با استناد به این نظرات یک کالا رو خریداری میکنن. پس بهت...   \n",
       "2  گیره های فلزی خیلی سخت تا میشوند و لذا حوله را خیلی سخت می توان در آورد \\r\\n\\r\\nمهسان یه مدل دیگه داره که پلاستیکی هست و خیلی ساده و راحت خم می شود\\r\\n\\r\\nبه نظرم تولید این طرح را باید متوقف کنن چ...   \n",
       "\n",
       "                                                                             advantages  \\\n",
       "0                                                                                   NaN   \n",
       "1  [\"عمر طولانی\\r\",\"افت بسیار کم میزان شارژ\\r\",\"امپر خروجی هوشمند متناسب با امپر گوشی\"]   \n",
       "2                                                                                   NaN   \n",
       "\n",
       "  disadvantages  \n",
       "0           NaN  \n",
       "1     [\"ندارد\"]  \n",
       "2           NaN  "
      ]
     },
     "execution_count": 185,
     "metadata": {},
     "output_type": "execute_result"
    }
   ],
   "source": [
    "data.load_into_DFrames({'keifiat':'xlsx'})\n",
    "keifiat = data.data_frames['keifiat']\n",
    "data.data_frames['keifiat'].head(3)"
   ]
  },
  {
   "cell_type": "markdown",
   "metadata": {},
   "source": [
    "###### PRODUCT TITLE"
   ]
  },
  {
   "cell_type": "code",
   "execution_count": 186,
   "metadata": {},
   "outputs": [
    {
     "data": {
      "image/png": "[encoded data removed]",
      "text/plain": [
       "<Figure size 720x720 with 5 Axes>"
      ]
     },
     "metadata": {
      "needs_background": "light"
     },
     "output_type": "display_data"
    }
   ],
   "source": [
    "keifiat['product_title_length'] = keifiat['product_title'].str.len()\n",
    "attributes = ['product_title_length']\n",
    "box_plot_table('keifiat',attributes)"
   ]
  },
  {
   "cell_type": "code",
   "execution_count": 187,
   "metadata": {},
   "outputs": [
    {
     "name": "stdout",
     "output_type": "stream",
     "text": [
      "product title is clear it was checked by length\n"
     ]
    }
   ],
   "source": [
    "print(\"product title is clear it was checked by length\")"
   ]
  },
  {
   "cell_type": "markdown",
   "metadata": {},
   "source": [
    "###### LIKES\n",
    "its clear for validation"
   ]
  },
  {
   "cell_type": "code",
   "execution_count": 188,
   "metadata": {},
   "outputs": [
    {
     "data": {
      "image/png": "[encoded data removed]",
      "text/plain": [
       "<Figure size 720x720 with 5 Axes>"
      ]
     },
     "metadata": {
      "needs_background": "light"
     },
     "output_type": "display_data"
    }
   ],
   "source": [
    "attributes = ['likes']\n",
    "box_plot_table('keifiat',attributes)"
   ]
  },
  {
   "cell_type": "markdown",
   "metadata": {},
   "source": [
    "###### DISLIKES\n",
    "its clear for validation"
   ]
  },
  {
   "cell_type": "code",
   "execution_count": 189,
   "metadata": {},
   "outputs": [
    {
     "data": {
      "image/png": "[encoded data removed]",
      "text/plain": [
       "<Figure size 720x720 with 5 Axes>"
      ]
     },
     "metadata": {
      "needs_background": "light"
     },
     "output_type": "display_data"
    }
   ],
   "source": [
    "attributes = ['dislikes']\n",
    "box_plot_table('keifiat',attributes)"
   ]
  },
  {
   "cell_type": "markdown",
   "metadata": {},
   "source": [
    "###### VERIFICATION STATUS"
   ]
  },
  {
   "cell_type": "code",
   "execution_count": 193,
   "metadata": {},
   "outputs": [
    {
     "name": "stdout",
     "output_type": "stream",
     "text": [
      "verification status is clear for validation\n",
      "0\n"
     ]
    }
   ],
   "source": [
    "notVerified_or_rejected = keifiat[keifiat['verification_status']!=\"verified\"]\n",
    "rejected = notVerified_or_rejected[notVerified_or_rejected['verification_status']!=\"not_verified\"]\n",
    "print(\"verification status is clear for validation\")\n",
    "print(len(rejected[rejected['verification_status']!=\"rejected\"]))"
   ]
  },
  {
   "cell_type": "markdown",
   "metadata": {},
   "source": [
    "###### RECOMMENDED"
   ]
  },
  {
   "cell_type": "code",
   "execution_count": 194,
   "metadata": {},
   "outputs": [
    {
     "name": "stdout",
     "output_type": "stream",
     "text": [
      "recommend is clear for validation\n",
      "True\n"
     ]
    },
    {
     "data": {
      "text/html": [
       "<div>\n",
       "<style scoped>\n",
       "    .dataframe tbody tr th:only-of-type {\n",
       "        vertical-align: middle;\n",
       "    }\n",
       "\n",
       "    .dataframe tbody tr th {\n",
       "        vertical-align: top;\n",
       "    }\n",
       "\n",
       "    .dataframe thead th {\n",
       "        text-align: right;\n",
       "    }\n",
       "</style>\n",
       "<table border=\"1\" class=\"dataframe\">\n",
       "  <thead>\n",
       "    <tr style=\"text-align: right;\">\n",
       "      <th></th>\n",
       "      <th>product_id</th>\n",
       "      <th>product_title</th>\n",
       "      <th>title_en</th>\n",
       "      <th>user_id</th>\n",
       "      <th>likes</th>\n",
       "      <th>dislikes</th>\n",
       "      <th>verification_status</th>\n",
       "      <th>recommend</th>\n",
       "      <th>title</th>\n",
       "      <th>comment</th>\n",
       "      <th>advantages</th>\n",
       "      <th>disadvantages</th>\n",
       "      <th>product_title_length</th>\n",
       "    </tr>\n",
       "  </thead>\n",
       "  <tbody>\n",
       "    <tr>\n",
       "      <th>0</th>\n",
       "      <td>3692</td>\n",
       "      <td>ماوس بی‌سیم لاجیتک مدل M325</td>\n",
       "      <td>IT</td>\n",
       "      <td>989472</td>\n",
       "      <td>0</td>\n",
       "      <td>0</td>\n",
       "      <td>verified</td>\n",
       "      <td>NaN</td>\n",
       "      <td>NaN</td>\n",
       "      <td>واقعا عالیه. من که ازش خیلی راضیم</td>\n",
       "      <td>NaN</td>\n",
       "      <td>NaN</td>\n",
       "      <td>27</td>\n",
       "    </tr>\n",
       "    <tr>\n",
       "      <th>1</th>\n",
       "      <td>90213</td>\n",
       "      <td>شارژر همراه شیاومی مدل NDY-02-AN با ظرفیت 10000 میلی آمپر ساعت</td>\n",
       "      <td>AC</td>\n",
       "      <td>3862150</td>\n",
       "      <td>4</td>\n",
       "      <td>1</td>\n",
       "      <td>verified</td>\n",
       "      <td>recommended</td>\n",
       "      <td>واقعاً عالیه</td>\n",
       "      <td>سلام، قبل اینکه نظرم رو بگم میخواستم به یک موضوع مهم اشاره کنم که نظراتی که ما برای کالاها ثبت میکنیم خیلی مهم هستن، چون بسیاری از مردم عزیز با استناد به این نظرات یک کالا رو خریداری میکنن. پس بهت...</td>\n",
       "      <td>[\"عمر طولانی\\r\",\"افت بسیار کم میزان شارژ\\r\",\"امپر خروجی هوشمند متناسب با امپر گوشی\"]</td>\n",
       "      <td>[\"ندارد\"]</td>\n",
       "      <td>62</td>\n",
       "    </tr>\n",
       "    <tr>\n",
       "      <th>2</th>\n",
       "      <td>59473</td>\n",
       "      <td>یدک پولیشر میکروفایبر مهسان مدل 20119</td>\n",
       "      <td>HW</td>\n",
       "      <td>626843</td>\n",
       "      <td>1</td>\n",
       "      <td>0</td>\n",
       "      <td>verified</td>\n",
       "      <td>not_recommended</td>\n",
       "      <td>خیلی سخت حوله اش در میاد</td>\n",
       "      <td>گیره های فلزی خیلی سخت تا میشوند و لذا حوله را خیلی سخت می توان در آورد \\r\\n\\r\\nمهسان یه مدل دیگه داره که پلاستیکی هست و خیلی ساده و راحت خم می شود\\r\\n\\r\\nبه نظرم تولید این طرح را باید متوقف کنن چ...</td>\n",
       "      <td>NaN</td>\n",
       "      <td>NaN</td>\n",
       "      <td>37</td>\n",
       "    </tr>\n",
       "  </tbody>\n",
       "</table>\n",
       "</div>"
      ],
      "text/plain": [
       "   product_id                                                   product_title  \\\n",
       "0        3692                                     ماوس بی‌سیم لاجیتک مدل M325   \n",
       "1       90213  شارژر همراه شیاومی مدل NDY-02-AN با ظرفیت 10000 میلی آمپر ساعت   \n",
       "2       59473                           یدک پولیشر میکروفایبر مهسان مدل 20119   \n",
       "\n",
       "  title_en  user_id  likes  dislikes verification_status        recommend  \\\n",
       "0       IT   989472      0         0            verified              NaN   \n",
       "1       AC  3862150      4         1            verified      recommended   \n",
       "2       HW   626843      1         0            verified  not_recommended   \n",
       "\n",
       "                      title  \\\n",
       "0                       NaN   \n",
       "1              واقعاً عالیه   \n",
       "2  خیلی سخت حوله اش در میاد   \n",
       "\n",
       "                                                                                                                                                                                                   comment  \\\n",
       "0                                                                                                                                                                        واقعا عالیه. من که ازش خیلی راضیم   \n",
       "1  سلام، قبل اینکه نظرم رو بگم میخواستم به یک موضوع مهم اشاره کنم که نظراتی که ما برای کالاها ثبت میکنیم خیلی مهم هستن، چون بسیاری از مردم عزیز با استناد به این نظرات یک کالا رو خریداری میکنن. پس بهت...   \n",
       "2  گیره های فلزی خیلی سخت تا میشوند و لذا حوله را خیلی سخت می توان در آورد \\r\\n\\r\\nمهسان یه مدل دیگه داره که پلاستیکی هست و خیلی ساده و راحت خم می شود\\r\\n\\r\\nبه نظرم تولید این طرح را باید متوقف کنن چ...   \n",
       "\n",
       "                                                                             advantages  \\\n",
       "0                                                                                   NaN   \n",
       "1  [\"عمر طولانی\\r\",\"افت بسیار کم میزان شارژ\\r\",\"امپر خروجی هوشمند متناسب با امپر گوشی\"]   \n",
       "2                                                                                   NaN   \n",
       "\n",
       "  disadvantages  product_title_length  \n",
       "0           NaN                    27  \n",
       "1     [\"ندارد\"]                    62  \n",
       "2           NaN                    37  "
      ]
     },
     "execution_count": 194,
     "metadata": {},
     "output_type": "execute_result"
    }
   ],
   "source": [
    "keifiat.loc[keifiat['recommend']=='\\\\N','recommend'] = np.nan\n",
    "notRecommended_or_noIdea = keifiat[keifiat['recommend']!=\"recommended\"]\n",
    "noIdea = notRecommended_or_noIdea[notRecommended_or_noIdea['recommend']!=\"not_recommended\"]\n",
    "print(\"recommend is clear for validation\")\n",
    "print(len(noIdea[noIdea['recommend']!=\"no_idea\"])==len(keifiat[keifiat['recommend'].isnull()]))\n",
    "keifiat.head(3)"
   ]
  },
  {
   "cell_type": "markdown",
   "metadata": {},
   "source": [
    "###### TITLE"
   ]
  },
  {
   "cell_type": "code",
   "execution_count": 195,
   "metadata": {},
   "outputs": [
    {
     "data": {
      "image/png": "[encoded data removed]",
      "text/plain": [
       "<Figure size 720x720 with 5 Axes>"
      ]
     },
     "metadata": {
      "needs_background": "light"
     },
     "output_type": "display_data"
    }
   ],
   "source": [
    "keifiat['title_length'] = keifiat['title'].str.len()\n",
    "keifiat.loc[keifiat['title_length'].isnull(),'title_length'] = 1\n",
    "attributes = ['title_length']\n",
    "box_plot_table('keifiat',attributes)"
   ]
  },
  {
   "cell_type": "code",
   "execution_count": 196,
   "metadata": {},
   "outputs": [
    {
     "name": "stdout",
     "output_type": "stream",
     "text": [
      "title is clear for validation but there is some not correct values\n"
     ]
    }
   ],
   "source": [
    "print(\"title is clear for validation but there is some not correct values\")"
   ]
  },
  {
   "cell_type": "markdown",
   "metadata": {},
   "source": [
    "###### COMMENT"
   ]
  },
  {
   "cell_type": "code",
   "execution_count": 197,
   "metadata": {},
   "outputs": [
    {
     "data": {
      "image/png": "[encoded data removed]",
      "text/plain": [
       "<Figure size 720x720 with 5 Axes>"
      ]
     },
     "metadata": {
      "needs_background": "light"
     },
     "output_type": "display_data"
    }
   ],
   "source": [
    "keifiat['comment_length'] = keifiat['comment'].str.len()\n",
    "keifiat.loc[keifiat['comment_length'].isnull(),'comment_length'] = 1\n",
    "attributes = ['comment_length']\n",
    "box_plot_table('keifiat',attributes)"
   ]
  },
  {
   "cell_type": "markdown",
   "metadata": {},
   "source": [
    "###### values that their length is smaller than 3 are set to nan"
   ]
  },
  {
   "cell_type": "code",
   "execution_count": 198,
   "metadata": {},
   "outputs": [],
   "source": [
    "keifiat.loc[keifiat['comment_length']<3,'comment'] = np.nan"
   ]
  },
  {
   "cell_type": "markdown",
   "metadata": {},
   "source": [
    "###### ADVANTAGES"
   ]
  },
  {
   "cell_type": "code",
   "execution_count": 199,
   "metadata": {},
   "outputs": [
    {
     "data": {
      "image/png": "[encoded data removed]",
      "text/plain": [
       "<Figure size 720x720 with 5 Axes>"
      ]
     },
     "metadata": {
      "needs_background": "light"
     },
     "output_type": "display_data"
    }
   ],
   "source": [
    "keifiat['advantages_length'] = keifiat['advantages'].str.len()\n",
    "keifiat.loc[keifiat['advantages_length'].isnull(),'advantages_length'] = 1\n",
    "attributes = ['advantages_length']\n",
    "box_plot_table('keifiat',attributes)"
   ]
  },
  {
   "cell_type": "code",
   "execution_count": 200,
   "metadata": {},
   "outputs": [
    {
     "name": "stdout",
     "output_type": "stream",
     "text": [
      "advantages is clear for validation\n"
     ]
    },
    {
     "data": {
      "text/html": [
       "<div>\n",
       "<style scoped>\n",
       "    .dataframe tbody tr th:only-of-type {\n",
       "        vertical-align: middle;\n",
       "    }\n",
       "\n",
       "    .dataframe tbody tr th {\n",
       "        vertical-align: top;\n",
       "    }\n",
       "\n",
       "    .dataframe thead th {\n",
       "        text-align: right;\n",
       "    }\n",
       "</style>\n",
       "<table border=\"1\" class=\"dataframe\">\n",
       "  <thead>\n",
       "    <tr style=\"text-align: right;\">\n",
       "      <th></th>\n",
       "      <th>product_id</th>\n",
       "      <th>product_title</th>\n",
       "      <th>title_en</th>\n",
       "      <th>user_id</th>\n",
       "      <th>likes</th>\n",
       "      <th>dislikes</th>\n",
       "      <th>verification_status</th>\n",
       "      <th>recommend</th>\n",
       "      <th>title</th>\n",
       "      <th>comment</th>\n",
       "      <th>advantages</th>\n",
       "      <th>disadvantages</th>\n",
       "      <th>product_title_length</th>\n",
       "      <th>title_length</th>\n",
       "      <th>comment_length</th>\n",
       "      <th>advantages_length</th>\n",
       "    </tr>\n",
       "  </thead>\n",
       "  <tbody>\n",
       "    <tr>\n",
       "      <th>0</th>\n",
       "      <td>3692</td>\n",
       "      <td>ماوس بی‌سیم لاجیتک مدل M325</td>\n",
       "      <td>IT</td>\n",
       "      <td>989472</td>\n",
       "      <td>0</td>\n",
       "      <td>0</td>\n",
       "      <td>verified</td>\n",
       "      <td>NaN</td>\n",
       "      <td>NaN</td>\n",
       "      <td>واقعا عالیه. من که ازش خیلی راضیم</td>\n",
       "      <td>NaN</td>\n",
       "      <td>NaN</td>\n",
       "      <td>27</td>\n",
       "      <td>1.0</td>\n",
       "      <td>33.0</td>\n",
       "      <td>1.0</td>\n",
       "    </tr>\n",
       "    <tr>\n",
       "      <th>2</th>\n",
       "      <td>59473</td>\n",
       "      <td>یدک پولیشر میکروفایبر مهسان مدل 20119</td>\n",
       "      <td>HW</td>\n",
       "      <td>626843</td>\n",
       "      <td>1</td>\n",
       "      <td>0</td>\n",
       "      <td>verified</td>\n",
       "      <td>not_recommended</td>\n",
       "      <td>خیلی سخت حوله اش در میاد</td>\n",
       "      <td>گیره های فلزی خیلی سخت تا میشوند و لذا حوله را خیلی سخت می توان در آورد \\r\\n\\r\\nمهسان یه مدل دیگه داره که پلاستیکی هست و خیلی ساده و راحت خم می شود\\r\\n\\r\\nبه نظرم تولید این طرح را باید متوقف کنن چ...</td>\n",
       "      <td>NaN</td>\n",
       "      <td>NaN</td>\n",
       "      <td>37</td>\n",
       "      <td>24.0</td>\n",
       "      <td>282.0</td>\n",
       "      <td>1.0</td>\n",
       "    </tr>\n",
       "    <tr>\n",
       "      <th>7</th>\n",
       "      <td>56871</td>\n",
       "      <td>ادو پرفیوم زنانه امپر مدل Chifon حجم 100 میلی لیتر</td>\n",
       "      <td>PC</td>\n",
       "      <td>1139954</td>\n",
       "      <td>2</td>\n",
       "      <td>2</td>\n",
       "      <td>verified</td>\n",
       "      <td>NaN</td>\n",
       "      <td>عطر...</td>\n",
       "      <td>بوی تند ولی خوشبو داره.ماندگاریش خوبه و هر چقدر میگذره خوشبوتر میشه..</td>\n",
       "      <td>NaN</td>\n",
       "      <td>NaN</td>\n",
       "      <td>50</td>\n",
       "      <td>6.0</td>\n",
       "      <td>69.0</td>\n",
       "      <td>1.0</td>\n",
       "    </tr>\n",
       "  </tbody>\n",
       "</table>\n",
       "</div>"
      ],
      "text/plain": [
       "   product_id                                       product_title title_en  \\\n",
       "0        3692                         ماوس بی‌سیم لاجیتک مدل M325       IT   \n",
       "2       59473               یدک پولیشر میکروفایبر مهسان مدل 20119       HW   \n",
       "7       56871  ادو پرفیوم زنانه امپر مدل Chifon حجم 100 میلی لیتر       PC   \n",
       "\n",
       "   user_id  likes  dislikes verification_status        recommend  \\\n",
       "0   989472      0         0            verified              NaN   \n",
       "2   626843      1         0            verified  not_recommended   \n",
       "7  1139954      2         2            verified              NaN   \n",
       "\n",
       "                      title  \\\n",
       "0                       NaN   \n",
       "2  خیلی سخت حوله اش در میاد   \n",
       "7                    عطر...   \n",
       "\n",
       "                                                                                                                                                                                                   comment  \\\n",
       "0                                                                                                                                                                        واقعا عالیه. من که ازش خیلی راضیم   \n",
       "2  گیره های فلزی خیلی سخت تا میشوند و لذا حوله را خیلی سخت می توان در آورد \\r\\n\\r\\nمهسان یه مدل دیگه داره که پلاستیکی هست و خیلی ساده و راحت خم می شود\\r\\n\\r\\nبه نظرم تولید این طرح را باید متوقف کنن چ...   \n",
       "7                                                                                                                                    بوی تند ولی خوشبو داره.ماندگاریش خوبه و هر چقدر میگذره خوشبوتر میشه..   \n",
       "\n",
       "  advantages disadvantages  product_title_length  title_length  \\\n",
       "0        NaN           NaN                    27           1.0   \n",
       "2        NaN           NaN                    37          24.0   \n",
       "7        NaN           NaN                    50           6.0   \n",
       "\n",
       "   comment_length  advantages_length  \n",
       "0            33.0                1.0  \n",
       "2           282.0                1.0  \n",
       "7            69.0                1.0  "
      ]
     },
     "execution_count": 200,
     "metadata": {},
     "output_type": "execute_result"
    }
   ],
   "source": [
    "print(\"advantages is clear for validation\")\n",
    "keifiat[keifiat['advantages_length']<3].head(3)"
   ]
  },
  {
   "cell_type": "markdown",
   "metadata": {},
   "source": [
    "###### DISADVANTAGES"
   ]
  },
  {
   "cell_type": "code",
   "execution_count": 201,
   "metadata": {},
   "outputs": [
    {
     "data": {
      "image/png": "[encoded data removed]",
      "text/plain": [
       "<Figure size 720x720 with 5 Axes>"
      ]
     },
     "metadata": {
      "needs_background": "light"
     },
     "output_type": "display_data"
    }
   ],
   "source": [
    "keifiat['disadvantages_length'] = keifiat['disadvantages'].str.len()\n",
    "keifiat.loc[keifiat['disadvantages_length'].isnull(),'disadvantages_length'] = 1\n",
    "attributes = ['disadvantages_length']\n",
    "box_plot_table('keifiat',attributes)"
   ]
  },
  {
   "cell_type": "code",
   "execution_count": 202,
   "metadata": {},
   "outputs": [
    {
     "name": "stdout",
     "output_type": "stream",
     "text": [
      "disadvantages is clear for validation\n"
     ]
    },
    {
     "data": {
      "text/html": [
       "<div>\n",
       "<style scoped>\n",
       "    .dataframe tbody tr th:only-of-type {\n",
       "        vertical-align: middle;\n",
       "    }\n",
       "\n",
       "    .dataframe tbody tr th {\n",
       "        vertical-align: top;\n",
       "    }\n",
       "\n",
       "    .dataframe thead th {\n",
       "        text-align: right;\n",
       "    }\n",
       "</style>\n",
       "<table border=\"1\" class=\"dataframe\">\n",
       "  <thead>\n",
       "    <tr style=\"text-align: right;\">\n",
       "      <th></th>\n",
       "      <th>product_id</th>\n",
       "      <th>product_title</th>\n",
       "      <th>title_en</th>\n",
       "      <th>user_id</th>\n",
       "      <th>likes</th>\n",
       "      <th>dislikes</th>\n",
       "      <th>verification_status</th>\n",
       "      <th>recommend</th>\n",
       "      <th>title</th>\n",
       "      <th>comment</th>\n",
       "      <th>advantages</th>\n",
       "      <th>disadvantages</th>\n",
       "      <th>product_title_length</th>\n",
       "      <th>title_length</th>\n",
       "      <th>comment_length</th>\n",
       "      <th>advantages_length</th>\n",
       "      <th>disadvantages_length</th>\n",
       "    </tr>\n",
       "  </thead>\n",
       "  <tbody>\n",
       "    <tr>\n",
       "      <th>0</th>\n",
       "      <td>3692</td>\n",
       "      <td>ماوس بی‌سیم لاجیتک مدل M325</td>\n",
       "      <td>IT</td>\n",
       "      <td>989472</td>\n",
       "      <td>0</td>\n",
       "      <td>0</td>\n",
       "      <td>verified</td>\n",
       "      <td>NaN</td>\n",
       "      <td>NaN</td>\n",
       "      <td>واقعا عالیه. من که ازش خیلی راضیم</td>\n",
       "      <td>NaN</td>\n",
       "      <td>NaN</td>\n",
       "      <td>27</td>\n",
       "      <td>1.0</td>\n",
       "      <td>33.0</td>\n",
       "      <td>1.0</td>\n",
       "      <td>1.0</td>\n",
       "    </tr>\n",
       "    <tr>\n",
       "      <th>2</th>\n",
       "      <td>59473</td>\n",
       "      <td>یدک پولیشر میکروفایبر مهسان مدل 20119</td>\n",
       "      <td>HW</td>\n",
       "      <td>626843</td>\n",
       "      <td>1</td>\n",
       "      <td>0</td>\n",
       "      <td>verified</td>\n",
       "      <td>not_recommended</td>\n",
       "      <td>خیلی سخت حوله اش در میاد</td>\n",
       "      <td>گیره های فلزی خیلی سخت تا میشوند و لذا حوله را خیلی سخت می توان در آورد \\r\\n\\r\\nمهسان یه مدل دیگه داره که پلاستیکی هست و خیلی ساده و راحت خم می شود\\r\\n\\r\\nبه نظرم تولید این طرح را باید متوقف کنن چ...</td>\n",
       "      <td>NaN</td>\n",
       "      <td>NaN</td>\n",
       "      <td>37</td>\n",
       "      <td>24.0</td>\n",
       "      <td>282.0</td>\n",
       "      <td>1.0</td>\n",
       "      <td>1.0</td>\n",
       "    </tr>\n",
       "    <tr>\n",
       "      <th>7</th>\n",
       "      <td>56871</td>\n",
       "      <td>ادو پرفیوم زنانه امپر مدل Chifon حجم 100 میلی لیتر</td>\n",
       "      <td>PC</td>\n",
       "      <td>1139954</td>\n",
       "      <td>2</td>\n",
       "      <td>2</td>\n",
       "      <td>verified</td>\n",
       "      <td>NaN</td>\n",
       "      <td>عطر...</td>\n",
       "      <td>بوی تند ولی خوشبو داره.ماندگاریش خوبه و هر چقدر میگذره خوشبوتر میشه..</td>\n",
       "      <td>NaN</td>\n",
       "      <td>NaN</td>\n",
       "      <td>50</td>\n",
       "      <td>6.0</td>\n",
       "      <td>69.0</td>\n",
       "      <td>1.0</td>\n",
       "      <td>1.0</td>\n",
       "    </tr>\n",
       "  </tbody>\n",
       "</table>\n",
       "</div>"
      ],
      "text/plain": [
       "   product_id                                       product_title title_en  \\\n",
       "0        3692                         ماوس بی‌سیم لاجیتک مدل M325       IT   \n",
       "2       59473               یدک پولیشر میکروفایبر مهسان مدل 20119       HW   \n",
       "7       56871  ادو پرفیوم زنانه امپر مدل Chifon حجم 100 میلی لیتر       PC   \n",
       "\n",
       "   user_id  likes  dislikes verification_status        recommend  \\\n",
       "0   989472      0         0            verified              NaN   \n",
       "2   626843      1         0            verified  not_recommended   \n",
       "7  1139954      2         2            verified              NaN   \n",
       "\n",
       "                      title  \\\n",
       "0                       NaN   \n",
       "2  خیلی سخت حوله اش در میاد   \n",
       "7                    عطر...   \n",
       "\n",
       "                                                                                                                                                                                                   comment  \\\n",
       "0                                                                                                                                                                        واقعا عالیه. من که ازش خیلی راضیم   \n",
       "2  گیره های فلزی خیلی سخت تا میشوند و لذا حوله را خیلی سخت می توان در آورد \\r\\n\\r\\nمهسان یه مدل دیگه داره که پلاستیکی هست و خیلی ساده و راحت خم می شود\\r\\n\\r\\nبه نظرم تولید این طرح را باید متوقف کنن چ...   \n",
       "7                                                                                                                                    بوی تند ولی خوشبو داره.ماندگاریش خوبه و هر چقدر میگذره خوشبوتر میشه..   \n",
       "\n",
       "  advantages disadvantages  product_title_length  title_length  \\\n",
       "0        NaN           NaN                    27           1.0   \n",
       "2        NaN           NaN                    37          24.0   \n",
       "7        NaN           NaN                    50           6.0   \n",
       "\n",
       "   comment_length  advantages_length  disadvantages_length  \n",
       "0            33.0                1.0                   1.0  \n",
       "2           282.0                1.0                   1.0  \n",
       "7            69.0                1.0                   1.0  "
      ]
     },
     "execution_count": 202,
     "metadata": {},
     "output_type": "execute_result"
    }
   ],
   "source": [
    "print(\"disadvantages is clear for validation\")\n",
    "keifiat[keifiat['disadvantages_length']<3].head(3)"
   ]
  },
  {
   "cell_type": "markdown",
   "metadata": {},
   "source": [
    "## Data Correctness"
   ]
  },
  {
   "cell_type": "markdown",
   "metadata": {},
   "source": [
    "<div style=\"direction:rtl\">\n",
    "    برای بررسی صحت داده ها میتوان از هر یک از 4 روش زیر استفاده کرد :\n",
    "    <br>\n",
    "    \n",
    "1.\tمقادیر min و max \n",
    "    <br>\n",
    "برای متغیر های continuous بررسی مقادیر min و max میتواند محدوده ای که داده ها در آن صحیح به شمار میروند را بدست آورد. این مقادیر را میتوان از طریق field expert و یا هم با تخمین درست به دست آورد، وابسته به پیچیدگی و اهمیت متغیر است.\n",
    " به طور مثال برای Amount_Gross_Order کمتیرین مقدار میتواند صفر و بیشترین مقدار 100   میلیارد مد نظر  میگیریم اگر مقدار داده ای خارج از این محدوده باشد غلط است.\n",
    "    <br>\n",
    "2.\tبررسی مقادیر تهی\n",
    "        <br>\n",
    "آسانترین روش برای بررسی این موضوع استفاده از تابع count  است.\n",
    "    <br>\n",
    "3.\tبررسی مقادیر متغیرهای categorical\n",
    "        <br>\n",
    "در هنگام جمع آوری داده مشکلات و بی دقتی های زیاد میتواند منجر به خطا شود. بک راه  سریع برای بررسی صحت مقادبر این متفیر ها تهیه لیستی از مقادیر مجاز برای crosscheck کردن با متغیر متناظر آن است. مانند city_name_fa برای بررسی آن میتوان یک لیست  مجاز شهر های ایران را تهیه کرد و برای هر Entry چک کرد که آیا در لیست موجود است و یا خیر.\n",
    "    <br>\n",
    "4.\tبررسی نرخ تکرار مقادیر متغیرهای binary\n",
    "        <br>\n",
    "در صورتیکه در دتاست خود از این نوع متغیر داریم میتوانیم با استقاده از mean(incidence rate) بررسی کنیم که آیا این متغیر به درستی مقدار دهی شده است یا خیر. یک خطای معمول برای این نوع از متفیر ها تعیین مقدار 1 و null عوض 1 و 0 است، به آسانی قابا شناسایی است زبرا Rate خود متغیر با 1 یکسان میشود.\n",
    "</div>"
   ]
  },
  {
   "cell_type": "markdown",
   "metadata": {},
   "source": [
    "## Data Completeness"
   ]
  },
  {
   "cell_type": "markdown",
   "metadata": {},
   "source": [
    "### formula 1\n",
    "A: records with no missing attribute  \n",
    "B: Total records in dataset"
   ]
  },
  {
   "cell_type": "code",
   "execution_count": 228,
   "metadata": {},
   "outputs": [],
   "source": [
    "def calc_f1(df_in):\n",
    "    is_NaN = df_in.isnull()\n",
    "    row_has_NaN = is_NaN.any(axis=1)\n",
    "    rows_with_NaN = df_in[row_has_NaN]\n",
    "    a = df_in.shape[0]-rows_with_NaN.shape[0]\n",
    "    b = df_in.shape[0]\n",
    "    return a/b"
   ]
  },
  {
   "cell_type": "code",
   "execution_count": 229,
   "metadata": {},
   "outputs": [
    {
     "name": "stdout",
     "output_type": "stream",
     "text": [
      "0.00518\n"
     ]
    }
   ],
   "source": [
    "# num_null_rows = sum([True for idx,row in products.iterrows() if any(row.isnull())])\n",
    "products_f1 = calc_f1(products)\n",
    "print(products_f1)"
   ]
  },
  {
   "cell_type": "code",
   "execution_count": 230,
   "metadata": {},
   "outputs": [
    {
     "name": "stdout",
     "output_type": "stream",
     "text": [
      "1.0\n"
     ]
    }
   ],
   "source": [
    "orders_f1 = calc_f1(orders)\n",
    "print(orders_f1)\n"
   ]
  },
  {
   "cell_type": "code",
   "execution_count": 231,
   "metadata": {},
   "outputs": [
    {
     "name": "stdout",
     "output_type": "stream",
     "text": [
      "0.9989500839932806\n"
     ]
    }
   ],
   "source": [
    "comments_f1 = calc_f1(comments)\n",
    "print(comments_f1)\n"
   ]
  },
  {
   "cell_type": "code",
   "execution_count": 232,
   "metadata": {},
   "outputs": [
    {
     "name": "stdout",
     "output_type": "stream",
     "text": [
      "0.9996278082621988\n"
     ]
    },
    {
     "data": {
      "text/html": [
       "<div>\n",
       "<style scoped>\n",
       "    .dataframe tbody tr th:only-of-type {\n",
       "        vertical-align: middle;\n",
       "    }\n",
       "\n",
       "    .dataframe tbody tr th {\n",
       "        vertical-align: top;\n",
       "    }\n",
       "\n",
       "    .dataframe thead th {\n",
       "        text-align: right;\n",
       "    }\n",
       "</style>\n",
       "<table border=\"1\" class=\"dataframe\">\n",
       "  <thead>\n",
       "    <tr style=\"text-align: right;\">\n",
       "      <th></th>\n",
       "      <th>selling_price</th>\n",
       "      <th>rrp_price</th>\n",
       "      <th>order_limit</th>\n",
       "      <th>show_in_price_history</th>\n",
       "      <th>active</th>\n",
       "      <th>created_at</th>\n",
       "    </tr>\n",
       "  </thead>\n",
       "  <tbody>\n",
       "    <tr>\n",
       "      <th>0</th>\n",
       "      <td>850000.0</td>\n",
       "      <td>850000.0</td>\n",
       "      <td>1</td>\n",
       "      <td>1</td>\n",
       "      <td>1</td>\n",
       "      <td>2018-11-26 18:59:52</td>\n",
       "    </tr>\n",
       "  </tbody>\n",
       "</table>\n",
       "</div>"
      ],
      "text/plain": [
       "   selling_price  rrp_price  order_limit  show_in_price_history  active  \\\n",
       "0       850000.0   850000.0            1                      1       1   \n",
       "\n",
       "            created_at  \n",
       "0  2018-11-26 18:59:52  "
      ]
     },
     "execution_count": 232,
     "metadata": {},
     "output_type": "execute_result"
    }
   ],
   "source": [
    "tarikhche_kharid_f1 = calc_f1(tarikhche_kharid)\n",
    "print(tarikhche_kharid_f1)\n",
    "tarikhche_kharid_correct.head(1)"
   ]
  },
  {
   "cell_type": "code",
   "execution_count": 233,
   "metadata": {},
   "outputs": [
    {
     "name": "stdout",
     "output_type": "stream",
     "text": [
      "0.18816\n"
     ]
    },
    {
     "data": {
      "text/html": [
       "<div>\n",
       "<style scoped>\n",
       "    .dataframe tbody tr th:only-of-type {\n",
       "        vertical-align: middle;\n",
       "    }\n",
       "\n",
       "    .dataframe tbody tr th {\n",
       "        vertical-align: top;\n",
       "    }\n",
       "\n",
       "    .dataframe thead th {\n",
       "        text-align: right;\n",
       "    }\n",
       "</style>\n",
       "<table border=\"1\" class=\"dataframe\">\n",
       "  <thead>\n",
       "    <tr style=\"text-align: right;\">\n",
       "      <th></th>\n",
       "      <th>product_title</th>\n",
       "      <th>title_en</th>\n",
       "      <th>likes</th>\n",
       "      <th>dislikes</th>\n",
       "      <th>verification_status</th>\n",
       "      <th>recommend</th>\n",
       "      <th>title</th>\n",
       "      <th>comment</th>\n",
       "      <th>disadvantages</th>\n",
       "      <th>product_title_length</th>\n",
       "      <th>title_length</th>\n",
       "      <th>comment_length</th>\n",
       "      <th>advantages_length</th>\n",
       "      <th>disadvantages_length</th>\n",
       "    </tr>\n",
       "  </thead>\n",
       "  <tbody>\n",
       "    <tr>\n",
       "      <th>0</th>\n",
       "      <td>ماوس بی‌سیم لاجیتک مدل M325</td>\n",
       "      <td>IT</td>\n",
       "      <td>0</td>\n",
       "      <td>0</td>\n",
       "      <td>verified</td>\n",
       "      <td>NaN</td>\n",
       "      <td>NaN</td>\n",
       "      <td>واقعا عالیه. من که ازش خیلی راضیم</td>\n",
       "      <td>NaN</td>\n",
       "      <td>27</td>\n",
       "      <td>1.0</td>\n",
       "      <td>33.0</td>\n",
       "      <td>1.0</td>\n",
       "      <td>1.0</td>\n",
       "    </tr>\n",
       "    <tr>\n",
       "      <th>1</th>\n",
       "      <td>شارژر همراه شیاومی مدل NDY-02-AN با ظرفیت 10000 میلی آمپر ساعت</td>\n",
       "      <td>AC</td>\n",
       "      <td>4</td>\n",
       "      <td>1</td>\n",
       "      <td>verified</td>\n",
       "      <td>recommended</td>\n",
       "      <td>واقعاً عالیه</td>\n",
       "      <td>سلام، قبل اینکه نظرم رو بگم میخواستم به یک موضوع مهم اشاره کنم که نظراتی که ما برای کالاها ثبت میکنیم خیلی مهم هستن، چون بسیاری از مردم عزیز با استناد به این نظرات یک کالا رو خریداری میکنن. پس بهت...</td>\n",
       "      <td>[\"ندارد\"]</td>\n",
       "      <td>62</td>\n",
       "      <td>12.0</td>\n",
       "      <td>963.0</td>\n",
       "      <td>84.0</td>\n",
       "      <td>9.0</td>\n",
       "    </tr>\n",
       "    <tr>\n",
       "      <th>2</th>\n",
       "      <td>یدک پولیشر میکروفایبر مهسان مدل 20119</td>\n",
       "      <td>HW</td>\n",
       "      <td>1</td>\n",
       "      <td>0</td>\n",
       "      <td>verified</td>\n",
       "      <td>not_recommended</td>\n",
       "      <td>خیلی سخت حوله اش در میاد</td>\n",
       "      <td>گیره های فلزی خیلی سخت تا میشوند و لذا حوله را خیلی سخت می توان در آورد \\r\\n\\r\\nمهسان یه مدل دیگه داره که پلاستیکی هست و خیلی ساده و راحت خم می شود\\r\\n\\r\\nبه نظرم تولید این طرح را باید متوقف کنن چ...</td>\n",
       "      <td>NaN</td>\n",
       "      <td>37</td>\n",
       "      <td>24.0</td>\n",
       "      <td>282.0</td>\n",
       "      <td>1.0</td>\n",
       "      <td>1.0</td>\n",
       "    </tr>\n",
       "  </tbody>\n",
       "</table>\n",
       "</div>"
      ],
      "text/plain": [
       "                                                    product_title title_en  \\\n",
       "0                                     ماوس بی‌سیم لاجیتک مدل M325       IT   \n",
       "1  شارژر همراه شیاومی مدل NDY-02-AN با ظرفیت 10000 میلی آمپر ساعت       AC   \n",
       "2                           یدک پولیشر میکروفایبر مهسان مدل 20119       HW   \n",
       "\n",
       "   likes  dislikes verification_status        recommend  \\\n",
       "0      0         0            verified              NaN   \n",
       "1      4         1            verified      recommended   \n",
       "2      1         0            verified  not_recommended   \n",
       "\n",
       "                      title  \\\n",
       "0                       NaN   \n",
       "1              واقعاً عالیه   \n",
       "2  خیلی سخت حوله اش در میاد   \n",
       "\n",
       "                                                                                                                                                                                                   comment  \\\n",
       "0                                                                                                                                                                        واقعا عالیه. من که ازش خیلی راضیم   \n",
       "1  سلام، قبل اینکه نظرم رو بگم میخواستم به یک موضوع مهم اشاره کنم که نظراتی که ما برای کالاها ثبت میکنیم خیلی مهم هستن، چون بسیاری از مردم عزیز با استناد به این نظرات یک کالا رو خریداری میکنن. پس بهت...   \n",
       "2  گیره های فلزی خیلی سخت تا میشوند و لذا حوله را خیلی سخت می توان در آورد \\r\\n\\r\\nمهسان یه مدل دیگه داره که پلاستیکی هست و خیلی ساده و راحت خم می شود\\r\\n\\r\\nبه نظرم تولید این طرح را باید متوقف کنن چ...   \n",
       "\n",
       "  disadvantages  product_title_length  title_length  comment_length  \\\n",
       "0           NaN                    27           1.0            33.0   \n",
       "1     [\"ندارد\"]                    62          12.0           963.0   \n",
       "2           NaN                    37          24.0           282.0   \n",
       "\n",
       "   advantages_length  disadvantages_length  \n",
       "0                1.0                   1.0  \n",
       "1               84.0                   9.0  \n",
       "2                1.0                   1.0  "
      ]
     },
     "execution_count": 233,
     "metadata": {},
     "output_type": "execute_result"
    }
   ],
   "source": [
    "keifiat_f1 = calc_f1(keifiat)\n",
    "print(keifiat_f1)\n",
    "keifiat_correct.head(3)"
   ]
  },
  {
   "cell_type": "markdown",
   "metadata": {},
   "source": [
    "### formula 2\n",
    "A: # of data required for the particular context  \n",
    "B: # of data in the specified filed"
   ]
  },
  {
   "cell_type": "code",
   "execution_count": 234,
   "metadata": {},
   "outputs": [
    {
     "name": "stdout",
     "output_type": "stream",
     "text": [
      "0.00518\n"
     ]
    }
   ],
   "source": [
    "products_correct = products.drop(columns=['id'])\n",
    "products_f2 = calc_f1(products_correct)\n",
    "print(products_f2)"
   ]
  },
  {
   "cell_type": "code",
   "execution_count": 235,
   "metadata": {},
   "outputs": [
    {
     "name": "stdout",
     "output_type": "stream",
     "text": [
      "1.0\n"
     ]
    }
   ],
   "source": [
    "orders_correct = orders.drop(columns=['ID_Order', 'ID_Customer', 'ID_Item'])\n",
    "orders_f2 = calc_f1(orders_correct)\n",
    "print(orders_f2)"
   ]
  },
  {
   "cell_type": "code",
   "execution_count": 236,
   "metadata": {},
   "outputs": [
    {
     "name": "stdout",
     "output_type": "stream",
     "text": [
      "0.9989500839932806\n"
     ]
    }
   ],
   "source": [
    "comments_correct = comments.drop(columns=['product_id'])\n",
    "comments_f2 = calc_f1(comments_correct)\n",
    "print(comments_f2)"
   ]
  },
  {
   "cell_type": "code",
   "execution_count": 237,
   "metadata": {},
   "outputs": [
    {
     "name": "stdout",
     "output_type": "stream",
     "text": [
      "0.9996278082621988\n"
     ]
    }
   ],
   "source": [
    "tarikhche_kharid_correct = tarikhche_kharid.drop(columns=['id', 'product_variant_id', 'product_id', 'marketplace_seller_id',\n",
    "                                                         'base_price', 'buy_price', 'start_at', 'end_at', 'tags'])\n",
    "tarikhche_kharid_f2 = calc_f1(tarikhche_kharid_correct)\n",
    "print(tarikhche_kharid_f2)"
   ]
  },
  {
   "cell_type": "code",
   "execution_count": 238,
   "metadata": {},
   "outputs": [
    {
     "name": "stdout",
     "output_type": "stream",
     "text": [
      "0.18816\n"
     ]
    },
    {
     "data": {
      "text/html": [
       "<div>\n",
       "<style scoped>\n",
       "    .dataframe tbody tr th:only-of-type {\n",
       "        vertical-align: middle;\n",
       "    }\n",
       "\n",
       "    .dataframe tbody tr th {\n",
       "        vertical-align: top;\n",
       "    }\n",
       "\n",
       "    .dataframe thead th {\n",
       "        text-align: right;\n",
       "    }\n",
       "</style>\n",
       "<table border=\"1\" class=\"dataframe\">\n",
       "  <thead>\n",
       "    <tr style=\"text-align: right;\">\n",
       "      <th></th>\n",
       "      <th>product_title</th>\n",
       "      <th>title_en</th>\n",
       "      <th>likes</th>\n",
       "      <th>dislikes</th>\n",
       "      <th>verification_status</th>\n",
       "      <th>recommend</th>\n",
       "      <th>title</th>\n",
       "      <th>comment</th>\n",
       "      <th>advantages</th>\n",
       "      <th>disadvantages</th>\n",
       "      <th>product_title_length</th>\n",
       "      <th>title_length</th>\n",
       "      <th>comment_length</th>\n",
       "      <th>advantages_length</th>\n",
       "      <th>disadvantages_length</th>\n",
       "    </tr>\n",
       "  </thead>\n",
       "  <tbody>\n",
       "    <tr>\n",
       "      <th>0</th>\n",
       "      <td>ماوس بی‌سیم لاجیتک مدل M325</td>\n",
       "      <td>IT</td>\n",
       "      <td>0</td>\n",
       "      <td>0</td>\n",
       "      <td>verified</td>\n",
       "      <td>NaN</td>\n",
       "      <td>NaN</td>\n",
       "      <td>واقعا عالیه. من که ازش خیلی راضیم</td>\n",
       "      <td>NaN</td>\n",
       "      <td>NaN</td>\n",
       "      <td>27</td>\n",
       "      <td>1.0</td>\n",
       "      <td>33.0</td>\n",
       "      <td>1.0</td>\n",
       "      <td>1.0</td>\n",
       "    </tr>\n",
       "    <tr>\n",
       "      <th>1</th>\n",
       "      <td>شارژر همراه شیاومی مدل NDY-02-AN با ظرفیت 10000 میلی آمپر ساعت</td>\n",
       "      <td>AC</td>\n",
       "      <td>4</td>\n",
       "      <td>1</td>\n",
       "      <td>verified</td>\n",
       "      <td>recommended</td>\n",
       "      <td>واقعاً عالیه</td>\n",
       "      <td>سلام، قبل اینکه نظرم رو بگم میخواستم به یک موضوع مهم اشاره کنم که نظراتی که ما برای کالاها ثبت میکنیم خیلی مهم هستن، چون بسیاری از مردم عزیز با استناد به این نظرات یک کالا رو خریداری میکنن. پس بهت...</td>\n",
       "      <td>[\"عمر طولانی\\r\",\"افت بسیار کم میزان شارژ\\r\",\"امپر خروجی هوشمند متناسب با امپر گوشی\"]</td>\n",
       "      <td>[\"ندارد\"]</td>\n",
       "      <td>62</td>\n",
       "      <td>12.0</td>\n",
       "      <td>963.0</td>\n",
       "      <td>84.0</td>\n",
       "      <td>9.0</td>\n",
       "    </tr>\n",
       "    <tr>\n",
       "      <th>2</th>\n",
       "      <td>یدک پولیشر میکروفایبر مهسان مدل 20119</td>\n",
       "      <td>HW</td>\n",
       "      <td>1</td>\n",
       "      <td>0</td>\n",
       "      <td>verified</td>\n",
       "      <td>not_recommended</td>\n",
       "      <td>خیلی سخت حوله اش در میاد</td>\n",
       "      <td>گیره های فلزی خیلی سخت تا میشوند و لذا حوله را خیلی سخت می توان در آورد \\r\\n\\r\\nمهسان یه مدل دیگه داره که پلاستیکی هست و خیلی ساده و راحت خم می شود\\r\\n\\r\\nبه نظرم تولید این طرح را باید متوقف کنن چ...</td>\n",
       "      <td>NaN</td>\n",
       "      <td>NaN</td>\n",
       "      <td>37</td>\n",
       "      <td>24.0</td>\n",
       "      <td>282.0</td>\n",
       "      <td>1.0</td>\n",
       "      <td>1.0</td>\n",
       "    </tr>\n",
       "  </tbody>\n",
       "</table>\n",
       "</div>"
      ],
      "text/plain": [
       "                                                    product_title title_en  \\\n",
       "0                                     ماوس بی‌سیم لاجیتک مدل M325       IT   \n",
       "1  شارژر همراه شیاومی مدل NDY-02-AN با ظرفیت 10000 میلی آمپر ساعت       AC   \n",
       "2                           یدک پولیشر میکروفایبر مهسان مدل 20119       HW   \n",
       "\n",
       "   likes  dislikes verification_status        recommend  \\\n",
       "0      0         0            verified              NaN   \n",
       "1      4         1            verified      recommended   \n",
       "2      1         0            verified  not_recommended   \n",
       "\n",
       "                      title  \\\n",
       "0                       NaN   \n",
       "1              واقعاً عالیه   \n",
       "2  خیلی سخت حوله اش در میاد   \n",
       "\n",
       "                                                                                                                                                                                                   comment  \\\n",
       "0                                                                                                                                                                        واقعا عالیه. من که ازش خیلی راضیم   \n",
       "1  سلام، قبل اینکه نظرم رو بگم میخواستم به یک موضوع مهم اشاره کنم که نظراتی که ما برای کالاها ثبت میکنیم خیلی مهم هستن، چون بسیاری از مردم عزیز با استناد به این نظرات یک کالا رو خریداری میکنن. پس بهت...   \n",
       "2  گیره های فلزی خیلی سخت تا میشوند و لذا حوله را خیلی سخت می توان در آورد \\r\\n\\r\\nمهسان یه مدل دیگه داره که پلاستیکی هست و خیلی ساده و راحت خم می شود\\r\\n\\r\\nبه نظرم تولید این طرح را باید متوقف کنن چ...   \n",
       "\n",
       "                                                                             advantages  \\\n",
       "0                                                                                   NaN   \n",
       "1  [\"عمر طولانی\\r\",\"افت بسیار کم میزان شارژ\\r\",\"امپر خروجی هوشمند متناسب با امپر گوشی\"]   \n",
       "2                                                                                   NaN   \n",
       "\n",
       "  disadvantages  product_title_length  title_length  comment_length  \\\n",
       "0           NaN                    27           1.0            33.0   \n",
       "1     [\"ندارد\"]                    62          12.0           963.0   \n",
       "2           NaN                    37          24.0           282.0   \n",
       "\n",
       "   advantages_length  disadvantages_length  \n",
       "0                1.0                   1.0  \n",
       "1               84.0                   9.0  \n",
       "2                1.0                   1.0  "
      ]
     },
     "execution_count": 238,
     "metadata": {},
     "output_type": "execute_result"
    }
   ],
   "source": [
    "keifiat_correct = keifiat.drop(columns=['product_id', 'user_id'])\n",
    "keifiat_f2 = calc_f1(keifiat_correct)\n",
    "print(keifiat_f2)\n",
    "keifiat_correct.head(3)"
   ]
  },
  {
   "cell_type": "markdown",
   "metadata": {},
   "source": [
    "### formula 3\n",
    "A: attribute fields containing values  \n",
    "B: records * attributes"
   ]
  },
  {
   "cell_type": "code",
   "execution_count": 240,
   "metadata": {},
   "outputs": [],
   "source": [
    "def calc_f3(df_in):\n",
    "    total_nan=df_in.isnull().sum().sum()\n",
    "    b = df_in.shape[0] * df_in.shape[1]\n",
    "    a = b - total_nan\n",
    "    return a/b"
   ]
  },
  {
   "cell_type": "code",
   "execution_count": 243,
   "metadata": {},
   "outputs": [
    {
     "name": "stdout",
     "output_type": "stream",
     "text": [
      "0.8452988888888889\n"
     ]
    }
   ],
   "source": [
    "products_f3 = calc_f3(products_correct)\n",
    "print(products_f3)"
   ]
  },
  {
   "cell_type": "code",
   "execution_count": 244,
   "metadata": {},
   "outputs": [
    {
     "name": "stdout",
     "output_type": "stream",
     "text": [
      "1.0\n"
     ]
    }
   ],
   "source": [
    "orders_f3 = calc_f3(orders_correct)\n",
    "print(orders_f3)"
   ]
  },
  {
   "cell_type": "code",
   "execution_count": 245,
   "metadata": {},
   "outputs": [
    {
     "name": "stdout",
     "output_type": "stream",
     "text": [
      "0.9996500279977601\n"
     ]
    }
   ],
   "source": [
    "comments_f3 = calc_f3(comments_correct)\n",
    "print(comments_f3)"
   ]
  },
  {
   "cell_type": "code",
   "execution_count": 246,
   "metadata": {},
   "outputs": [
    {
     "name": "stdout",
     "output_type": "stream",
     "text": [
      "0.9998826504934936\n"
     ]
    }
   ],
   "source": [
    "tarikhche_kharid_f3 = calc_f3(tarikhche_kharid_correct)\n",
    "print(tarikhche_kharid_f3)"
   ]
  },
  {
   "cell_type": "code",
   "execution_count": 248,
   "metadata": {},
   "outputs": [
    {
     "name": "stdout",
     "output_type": "stream",
     "text": [
      "0.891046\n"
     ]
    }
   ],
   "source": [
    "keifiat_f3 = calc_f3(keifiat_correct)\n",
    "print(keifiat_f3)"
   ]
  },
  {
   "cell_type": "markdown",
   "metadata": {},
   "source": [
    "# Phase Two\n",
    "## Finding patterns"
   ]
  },
  {
   "cell_type": "code",
   "execution_count": null,
   "metadata": {},
   "outputs": [],
   "source": []
  }
 ],
 "metadata": {
  "kernelspec": {
   "display_name": "Python 3",
   "language": "python",
   "name": "python3"
  },
  "language_info": {
   "codemirror_mode": {
    "name": "ipython",
    "version": 3
   },
   "file_extension": ".py",
   "mimetype": "text/x-python",
   "name": "python",
   "nbconvert_exporter": "python",
   "pygments_lexer": "ipython3",
   "version": "3.8.3"
  }
 },
 "nbformat": 4,
 "nbformat_minor": 4
}
